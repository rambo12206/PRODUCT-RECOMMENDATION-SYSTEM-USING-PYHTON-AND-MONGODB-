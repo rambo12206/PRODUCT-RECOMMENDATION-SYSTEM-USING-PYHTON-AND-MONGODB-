{
 "cells": [
  {
   "cell_type": "code",
   "execution_count": 42,
   "metadata": {},
   "outputs": [],
   "source": [
    "import pymongo\n",
    "import pandas as pd\n",
    "import numpy as np\n",
    "import matplotlib.pyplot as plt\n",
    "import seaborn as sns\n",
    "\n",
    "import warnings\n",
    "\n",
    "warnings.filterwarnings('ignore')\n",
    "%matplotlib inline"
   ]
  },
  {
   "cell_type": "code",
   "execution_count": 13,
   "metadata": {},
   "outputs": [],
   "source": [
    "client= pymongo.MongoClient('mongodb://127.0.0.1:27017/')"
   ]
  },
  {
   "cell_type": "code",
   "execution_count": 14,
   "metadata": {},
   "outputs": [
    {
     "data": {
      "text/plain": [
       "['Employee', 'admin', 'config', 'electronics', 'local', 'yadav']"
      ]
     },
     "execution_count": 14,
     "metadata": {},
     "output_type": "execute_result"
    }
   ],
   "source": [
    "client.list_database_names()"
   ]
  },
  {
   "cell_type": "code",
   "execution_count": 17,
   "metadata": {},
   "outputs": [],
   "source": [
    "db = client.electronics"
   ]
  },
  {
   "cell_type": "code",
   "execution_count": 18,
   "metadata": {},
   "outputs": [
    {
     "data": {
      "text/plain": [
       "['dataset']"
      ]
     },
     "execution_count": 18,
     "metadata": {},
     "output_type": "execute_result"
    }
   ],
   "source": [
    "db.list_collection_names()"
   ]
  },
  {
   "cell_type": "code",
   "execution_count": 19,
   "metadata": {},
   "outputs": [
    {
     "data": {
      "text/plain": [
       "7824481"
      ]
     },
     "execution_count": 19,
     "metadata": {},
     "output_type": "execute_result"
    }
   ],
   "source": [
    "table=db.dataset\n",
    "table.count_documents({}) "
   ]
  },
  {
   "cell_type": "code",
   "execution_count": 20,
   "metadata": {},
   "outputs": [
    {
     "data": {
      "text/plain": [
       "{'_id': ObjectId('605da7c74b789df8005d20b5'),\n",
       " 'userID': 'A2CX7LUOHB2NDG',\n",
       " 'productID': 321732944,\n",
       " 'ratings': 5.0,\n",
       " 'timestamp': 1341100800}"
      ]
     },
     "execution_count": 20,
     "metadata": {},
     "output_type": "execute_result"
    }
   ],
   "source": [
    "table.find_one()"
   ]
  },
  {
   "cell_type": "code",
   "execution_count": 21,
   "metadata": {},
   "outputs": [],
   "source": [
    "first_instance=table.find_one() "
   ]
  },
  {
   "cell_type": "code",
   "execution_count": 22,
   "metadata": {},
   "outputs": [
    {
     "data": {
      "text/plain": [
       "dict_keys(['_id', 'userID', 'productID', 'ratings', 'timestamp'])"
      ]
     },
     "execution_count": 22,
     "metadata": {},
     "output_type": "execute_result"
    }
   ],
   "source": [
    "first_instance.keys()"
   ]
  },
  {
   "cell_type": "code",
   "execution_count": 23,
   "metadata": {},
   "outputs": [
    {
     "data": {
      "text/html": [
       "<div>\n",
       "<style scoped>\n",
       "    .dataframe tbody tr th:only-of-type {\n",
       "        vertical-align: middle;\n",
       "    }\n",
       "\n",
       "    .dataframe tbody tr th {\n",
       "        vertical-align: top;\n",
       "    }\n",
       "\n",
       "    .dataframe thead th {\n",
       "        text-align: right;\n",
       "    }\n",
       "</style>\n",
       "<table border=\"1\" class=\"dataframe\">\n",
       "  <thead>\n",
       "    <tr style=\"text-align: right;\">\n",
       "      <th></th>\n",
       "      <th>_id</th>\n",
       "      <th>userID</th>\n",
       "      <th>productID</th>\n",
       "      <th>ratings</th>\n",
       "      <th>timestamp</th>\n",
       "    </tr>\n",
       "  </thead>\n",
       "  <tbody>\n",
       "    <tr>\n",
       "      <th>0</th>\n",
       "      <td>605da8354b789df800d48515</td>\n",
       "      <td>A2G81TMIOIDEQQ</td>\n",
       "      <td>BT008V9J9U</td>\n",
       "      <td>5.0</td>\n",
       "      <td>1312675200</td>\n",
       "    </tr>\n",
       "    <tr>\n",
       "      <th>1</th>\n",
       "      <td>605da8354b789df800d48514</td>\n",
       "      <td>A10M2KEFPEQDHN</td>\n",
       "      <td>BT008UKTMW</td>\n",
       "      <td>4.0</td>\n",
       "      <td>1297555200</td>\n",
       "    </tr>\n",
       "    <tr>\n",
       "      <th>2</th>\n",
       "      <td>605da8354b789df800d48513</td>\n",
       "      <td>A1MH90R0ADMIK0</td>\n",
       "      <td>BT008UKTMW</td>\n",
       "      <td>4.0</td>\n",
       "      <td>1404172800</td>\n",
       "    </tr>\n",
       "    <tr>\n",
       "      <th>3</th>\n",
       "      <td>605da8354b789df800d48512</td>\n",
       "      <td>A322MDK0M89RHN</td>\n",
       "      <td>BT008UKTMW</td>\n",
       "      <td>5.0</td>\n",
       "      <td>1313366400</td>\n",
       "    </tr>\n",
       "    <tr>\n",
       "      <th>4</th>\n",
       "      <td>605da8354b789df800d48511</td>\n",
       "      <td>A2YZI3C9MOHC0L</td>\n",
       "      <td>BT008UKTMW</td>\n",
       "      <td>5.0</td>\n",
       "      <td>1396569600</td>\n",
       "    </tr>\n",
       "  </tbody>\n",
       "</table>\n",
       "</div>"
      ],
      "text/plain": [
       "                        _id          userID   productID  ratings   timestamp\n",
       "0  605da8354b789df800d48515  A2G81TMIOIDEQQ  BT008V9J9U      5.0  1312675200\n",
       "1  605da8354b789df800d48514  A10M2KEFPEQDHN  BT008UKTMW      4.0  1297555200\n",
       "2  605da8354b789df800d48513  A1MH90R0ADMIK0  BT008UKTMW      4.0  1404172800\n",
       "3  605da8354b789df800d48512  A322MDK0M89RHN  BT008UKTMW      5.0  1313366400\n",
       "4  605da8354b789df800d48511  A2YZI3C9MOHC0L  BT008UKTMW      5.0  1396569600"
      ]
     },
     "execution_count": 23,
     "metadata": {},
     "output_type": "execute_result"
    }
   ],
   "source": [
    "import pandas as pd\n",
    "samples=table.find().sort(\"_id\",pymongo.DESCENDING)[:]\n",
    "df=pd.DataFrame(samples)\n",
    "\n",
    "df.head()"
   ]
  },
  {
   "cell_type": "code",
   "execution_count": 25,
   "metadata": {},
   "outputs": [],
   "source": [
    "recomm_df=df"
   ]
  },
  {
   "cell_type": "code",
   "execution_count": 29,
   "metadata": {},
   "outputs": [
    {
     "data": {
      "text/html": [
       "<div>\n",
       "<style scoped>\n",
       "    .dataframe tbody tr th:only-of-type {\n",
       "        vertical-align: middle;\n",
       "    }\n",
       "\n",
       "    .dataframe tbody tr th {\n",
       "        vertical-align: top;\n",
       "    }\n",
       "\n",
       "    .dataframe thead th {\n",
       "        text-align: right;\n",
       "    }\n",
       "</style>\n",
       "<table border=\"1\" class=\"dataframe\">\n",
       "  <thead>\n",
       "    <tr style=\"text-align: right;\">\n",
       "      <th></th>\n",
       "      <th>userID</th>\n",
       "      <th>productID</th>\n",
       "      <th>ratings</th>\n",
       "      <th>timestamp</th>\n",
       "    </tr>\n",
       "  </thead>\n",
       "  <tbody>\n",
       "    <tr>\n",
       "      <th>0</th>\n",
       "      <td>A2G81TMIOIDEQQ</td>\n",
       "      <td>BT008V9J9U</td>\n",
       "      <td>5.0</td>\n",
       "      <td>1312675200</td>\n",
       "    </tr>\n",
       "    <tr>\n",
       "      <th>1</th>\n",
       "      <td>A10M2KEFPEQDHN</td>\n",
       "      <td>BT008UKTMW</td>\n",
       "      <td>4.0</td>\n",
       "      <td>1297555200</td>\n",
       "    </tr>\n",
       "    <tr>\n",
       "      <th>2</th>\n",
       "      <td>A1MH90R0ADMIK0</td>\n",
       "      <td>BT008UKTMW</td>\n",
       "      <td>4.0</td>\n",
       "      <td>1404172800</td>\n",
       "    </tr>\n",
       "    <tr>\n",
       "      <th>3</th>\n",
       "      <td>A322MDK0M89RHN</td>\n",
       "      <td>BT008UKTMW</td>\n",
       "      <td>5.0</td>\n",
       "      <td>1313366400</td>\n",
       "    </tr>\n",
       "    <tr>\n",
       "      <th>4</th>\n",
       "      <td>A2YZI3C9MOHC0L</td>\n",
       "      <td>BT008UKTMW</td>\n",
       "      <td>5.0</td>\n",
       "      <td>1396569600</td>\n",
       "    </tr>\n",
       "    <tr>\n",
       "      <th>...</th>\n",
       "      <td>...</td>\n",
       "      <td>...</td>\n",
       "      <td>...</td>\n",
       "      <td>...</td>\n",
       "    </tr>\n",
       "    <tr>\n",
       "      <th>7824476</th>\n",
       "      <td>A1QGNMC6O1VW39</td>\n",
       "      <td>511189877</td>\n",
       "      <td>5.0</td>\n",
       "      <td>1397433600</td>\n",
       "    </tr>\n",
       "    <tr>\n",
       "      <th>7824477</th>\n",
       "      <td>A1GI0U4ZRJA8WN</td>\n",
       "      <td>439886341</td>\n",
       "      <td>1.0</td>\n",
       "      <td>1334707200</td>\n",
       "    </tr>\n",
       "    <tr>\n",
       "      <th>7824478</th>\n",
       "      <td>A2WNBOD3WNDNKT</td>\n",
       "      <td>439886341</td>\n",
       "      <td>3.0</td>\n",
       "      <td>1374451200</td>\n",
       "    </tr>\n",
       "    <tr>\n",
       "      <th>7824479</th>\n",
       "      <td>A2NWSAGRHCP8N5</td>\n",
       "      <td>439886341</td>\n",
       "      <td>1.0</td>\n",
       "      <td>1367193600</td>\n",
       "    </tr>\n",
       "    <tr>\n",
       "      <th>7824480</th>\n",
       "      <td>A2CX7LUOHB2NDG</td>\n",
       "      <td>321732944</td>\n",
       "      <td>5.0</td>\n",
       "      <td>1341100800</td>\n",
       "    </tr>\n",
       "  </tbody>\n",
       "</table>\n",
       "<p>7824481 rows × 4 columns</p>\n",
       "</div>"
      ],
      "text/plain": [
       "                 userID   productID  ratings   timestamp\n",
       "0        A2G81TMIOIDEQQ  BT008V9J9U      5.0  1312675200\n",
       "1        A10M2KEFPEQDHN  BT008UKTMW      4.0  1297555200\n",
       "2        A1MH90R0ADMIK0  BT008UKTMW      4.0  1404172800\n",
       "3        A322MDK0M89RHN  BT008UKTMW      5.0  1313366400\n",
       "4        A2YZI3C9MOHC0L  BT008UKTMW      5.0  1396569600\n",
       "...                 ...         ...      ...         ...\n",
       "7824476  A1QGNMC6O1VW39   511189877      5.0  1397433600\n",
       "7824477  A1GI0U4ZRJA8WN   439886341      1.0  1334707200\n",
       "7824478  A2WNBOD3WNDNKT   439886341      3.0  1374451200\n",
       "7824479  A2NWSAGRHCP8N5   439886341      1.0  1367193600\n",
       "7824480  A2CX7LUOHB2NDG   321732944      5.0  1341100800\n",
       "\n",
       "[7824481 rows x 4 columns]"
      ]
     },
     "execution_count": 29,
     "metadata": {},
     "output_type": "execute_result"
    }
   ],
   "source": [
    "df.drop(['_id'], axis = 1)"
   ]
  },
  {
   "cell_type": "code",
   "execution_count": 30,
   "metadata": {},
   "outputs": [],
   "source": [
    "recomm_df=df"
   ]
  },
  {
   "cell_type": "code",
   "execution_count": 31,
   "metadata": {},
   "outputs": [
    {
     "data": {
      "text/plain": [
       "(7824481, 5)"
      ]
     },
     "execution_count": 31,
     "metadata": {},
     "output_type": "execute_result"
    }
   ],
   "source": [
    "recomm_df.shape"
   ]
  },
  {
   "cell_type": "code",
   "execution_count": 32,
   "metadata": {},
   "outputs": [
    {
     "data": {
      "text/html": [
       "<div>\n",
       "<style scoped>\n",
       "    .dataframe tbody tr th:only-of-type {\n",
       "        vertical-align: middle;\n",
       "    }\n",
       "\n",
       "    .dataframe tbody tr th {\n",
       "        vertical-align: top;\n",
       "    }\n",
       "\n",
       "    .dataframe thead th {\n",
       "        text-align: right;\n",
       "    }\n",
       "</style>\n",
       "<table border=\"1\" class=\"dataframe\">\n",
       "  <thead>\n",
       "    <tr style=\"text-align: right;\">\n",
       "      <th></th>\n",
       "      <th>count</th>\n",
       "      <th>mean</th>\n",
       "      <th>std</th>\n",
       "      <th>min</th>\n",
       "      <th>25%</th>\n",
       "      <th>50%</th>\n",
       "      <th>75%</th>\n",
       "      <th>max</th>\n",
       "    </tr>\n",
       "  </thead>\n",
       "  <tbody>\n",
       "    <tr>\n",
       "      <th>ratings</th>\n",
       "      <td>7824481.0</td>\n",
       "      <td>4.012337e+00</td>\n",
       "      <td>1.380910e+00</td>\n",
       "      <td>1.0</td>\n",
       "      <td>3.000000e+00</td>\n",
       "      <td>5.000000e+00</td>\n",
       "      <td>5.000000e+00</td>\n",
       "      <td>5.000000e+00</td>\n",
       "    </tr>\n",
       "    <tr>\n",
       "      <th>timestamp</th>\n",
       "      <td>7824481.0</td>\n",
       "      <td>1.338178e+09</td>\n",
       "      <td>6.900426e+07</td>\n",
       "      <td>912729600.0</td>\n",
       "      <td>1.315354e+09</td>\n",
       "      <td>1.361059e+09</td>\n",
       "      <td>1.386115e+09</td>\n",
       "      <td>1.406074e+09</td>\n",
       "    </tr>\n",
       "  </tbody>\n",
       "</table>\n",
       "</div>"
      ],
      "text/plain": [
       "               count          mean           std          min           25%  \\\n",
       "ratings    7824481.0  4.012337e+00  1.380910e+00          1.0  3.000000e+00   \n",
       "timestamp  7824481.0  1.338178e+09  6.900426e+07  912729600.0  1.315354e+09   \n",
       "\n",
       "                    50%           75%           max  \n",
       "ratings    5.000000e+00  5.000000e+00  5.000000e+00  \n",
       "timestamp  1.361059e+09  1.386115e+09  1.406074e+09  "
      ]
     },
     "execution_count": 32,
     "metadata": {},
     "output_type": "execute_result"
    }
   ],
   "source": [
    "recomm_df.describe().T"
   ]
  },
  {
   "cell_type": "code",
   "execution_count": null,
   "metadata": {},
   "outputs": [],
   "source": [
    "recomm_df = recomm_df.drop(['timestamp'], axis=1)"
   ]
  },
  {
   "cell_type": "code",
   "execution_count": 34,
   "metadata": {},
   "outputs": [
    {
     "data": {
      "text/plain": [
       "_id          0\n",
       "userID       0\n",
       "productID    0\n",
       "ratings      0\n",
       "dtype: int64"
      ]
     },
     "execution_count": 34,
     "metadata": {},
     "output_type": "execute_result"
    }
   ],
   "source": [
    "recomm_df.isna().sum()"
   ]
  },
  {
   "cell_type": "code",
   "execution_count": 37,
   "metadata": {},
   "outputs": [
    {
     "data": {
      "text/plain": [
       "(7824481, 4)"
      ]
     },
     "execution_count": 37,
     "metadata": {},
     "output_type": "execute_result"
    }
   ],
   "source": [
    "recomm_df.shape"
   ]
  },
  {
   "cell_type": "code",
   "execution_count": 39,
   "metadata": {},
   "outputs": [],
   "source": [
    "recomm_df = recomm_df.drop(['_id'], axis=1)"
   ]
  },
  {
   "cell_type": "code",
   "execution_count": 40,
   "metadata": {},
   "outputs": [
    {
     "data": {
      "text/plain": [
       "(7824481, 3)"
      ]
     },
     "execution_count": 40,
     "metadata": {},
     "output_type": "execute_result"
    }
   ],
   "source": [
    "recomm_df.shape"
   ]
  },
  {
   "cell_type": "code",
   "execution_count": 41,
   "metadata": {},
   "outputs": [
    {
     "data": {
      "text/plain": [
       "array([[<AxesSubplot:title={'center':'ratings'}>]], dtype=object)"
      ]
     },
     "execution_count": 41,
     "metadata": {},
     "output_type": "execute_result"
    },
    {
     "data": {
      "image/png": "[encoded data removed]",
      "text/plain": [
       "<Figure size 432x288 with 1 Axes>"
      ]
     },
     "metadata": {
      "needs_background": "light"
     },
     "output_type": "display_data"
    }
   ],
   "source": [
    "recomm_df.hist('ratings',bins = 10)"
   ]
  },
  {
   "cell_type": "code",
   "execution_count": 43,
   "metadata": {},
   "outputs": [
    {
     "data": {
      "image/png": "[encoded data removed]",
      "text/plain": [
       "<Figure size 640x480 with 1 Axes>"
      ]
     },
     "metadata": {},
     "output_type": "display_data"
    }
   ],
   "source": [
    "popular = recomm_df[['userID','ratings']].groupby('userID').sum().reset_index()\n",
    "popular_20 = popular.sort_values('ratings', ascending=False).head(n=20)\n",
    "import matplotlib.pyplot as plt; plt.rcdefaults()\n",
    "import numpy as np\n",
    "import matplotlib.pyplot as plt\n",
    " \n",
    "objects = (list(popular_20['userID']))\n",
    "y_pos = np.arange(len(objects))\n",
    "performance = list(popular_20['ratings'])\n",
    " \n",
    "plt.bar(y_pos, performance, align='center', alpha=0.5)\n",
    "plt.xticks(y_pos, objects, rotation='vertical')\n",
    "plt.ylabel('userID')\n",
    "plt.title('Most popular')\n",
    " \n",
    "plt.show()"
   ]
  },
  {
   "cell_type": "code",
   "execution_count": 44,
   "metadata": {},
   "outputs": [
    {
     "data": {
      "text/plain": [
       "A5JLAU2ARJ0BO     520\n",
       "ADLVFFE4VBT8      501\n",
       "A3OXHLG6DIBRW8    498\n",
       "A6FIAB28IS79      431\n",
       "A680RUE1FDO8B     406\n",
       "                 ... \n",
       "A4OS1218KOIPF       1\n",
       "A38C6GWIIGR2DZ      1\n",
       "A3SCXPO1R9WE4E      1\n",
       "A2XD8MMBXPX5X2      1\n",
       "A2D7IXO1XZV76G      1\n",
       "Name: userID, Length: 4201696, dtype: int64"
      ]
     },
     "execution_count": 44,
     "metadata": {},
     "output_type": "execute_result"
    }
   ],
   "source": [
    "# find unique users\n",
    "recomm_df.userID.value_counts()"
   ]
  },
  {
   "cell_type": "code",
   "execution_count": 45,
   "metadata": {},
   "outputs": [
    {
     "name": "stdout",
     "output_type": "stream",
     "text": [
      "Number of unique users 4201696\n"
     ]
    }
   ],
   "source": [
    "print('Number of unique users', len(recomm_df['userID'].unique()))"
   ]
  },
  {
   "cell_type": "code",
   "execution_count": 46,
   "metadata": {},
   "outputs": [
    {
     "name": "stdout",
     "output_type": "stream",
     "text": [
      "Number of unique products 476001\n"
     ]
    }
   ],
   "source": [
    "print('Number of unique products', len(recomm_df['productID'].unique()))"
   ]
  },
  {
   "cell_type": "code",
   "execution_count": 47,
   "metadata": {},
   "outputs": [
    {
     "name": "stdout",
     "output_type": "stream",
     "text": [
      "Unique Ratings [5. 4. 3. 1. 2.]\n"
     ]
    }
   ],
   "source": [
    "print('Unique Ratings', recomm_df['ratings'].unique())"
   ]
  },
  {
   "cell_type": "code",
   "execution_count": 48,
   "metadata": {},
   "outputs": [],
   "source": [
    "min_ratings1 = recomm_df[(recomm_df['ratings'] < 2.0)]"
   ]
  },
  {
   "cell_type": "code",
   "execution_count": 49,
   "metadata": {},
   "outputs": [
    {
     "name": "stdout",
     "output_type": "stream",
     "text": [
      "Number of unique products rated low 176283\n"
     ]
    }
   ],
   "source": [
    "print('Number of unique products rated low',len(min_ratings1['productID'].unique()))"
   ]
  },
  {
   "cell_type": "code",
   "execution_count": 50,
   "metadata": {},
   "outputs": [],
   "source": [
    "med_ratings1 = recomm_df[(recomm_df['ratings'] > 2.0) & (recomm_df['ratings'] < 4.0)]"
   ]
  },
  {
   "cell_type": "code",
   "execution_count": 51,
   "metadata": {},
   "outputs": [
    {
     "name": "stdout",
     "output_type": "stream",
     "text": [
      "Number of unique products rated medium 152827\n"
     ]
    }
   ],
   "source": [
    "print('Number of unique products rated medium',len(med_ratings1['productID'].unique()))"
   ]
  },
  {
   "cell_type": "code",
   "execution_count": 52,
   "metadata": {},
   "outputs": [],
   "source": [
    "max_ratings1 = recomm_df[recomm_df['ratings'] >= 4.0]"
   ]
  },
  {
   "cell_type": "code",
   "execution_count": 53,
   "metadata": {},
   "outputs": [
    {
     "name": "stdout",
     "output_type": "stream",
     "text": [
      "Number of unique products rated high 410109\n"
     ]
    }
   ],
   "source": [
    "print('Number of unique products rated high',len(max_ratings1['productID'].unique()))"
   ]
  },
  {
   "cell_type": "code",
   "execution_count": 54,
   "metadata": {},
   "outputs": [],
   "source": [
    "avg_rating_prod = recomm_df.groupby('productID').sum() / recomm_df.groupby('productID').count()"
   ]
  },
  {
   "cell_type": "code",
   "execution_count": 55,
   "metadata": {},
   "outputs": [],
   "source": [
    "avg_rating_prod.drop('userID', axis=1,inplace =True)"
   ]
  },
  {
   "cell_type": "code",
   "execution_count": 56,
   "metadata": {},
   "outputs": [
    {
     "name": "stdout",
     "output_type": "stream",
     "text": [
      "Top 10 highly rated products \n",
      "            ratings\n",
      "productID         \n",
      "321732944      5.0\n",
      "594033934      5.0\n",
      "594287995      5.0\n",
      "594450209      5.0\n",
      "594450705      5.0\n",
      "594511488      5.0\n",
      "594514789      5.0\n",
      "594549558      5.0\n",
      "777700018      5.0\n",
      "986987662      5.0\n"
     ]
    }
   ],
   "source": [
    "print ('Top 10 highly rated products \\n',avg_rating_prod.nlargest(10,'ratings'))"
   ]
  },
  {
   "cell_type": "code",
   "execution_count": null,
   "metadata": {},
   "outputs": [],
   "source": []
  },
  {
   "cell_type": "code",
   "execution_count": 57,
   "metadata": {},
   "outputs": [],
   "source": [
    "userID = recomm_df.groupby('userID').count()"
   ]
  },
  {
   "cell_type": "code",
   "execution_count": 58,
   "metadata": {},
   "outputs": [],
   "source": [
    "top_user = userID[userID['ratings'] >= 50].index"
   ]
  },
  {
   "cell_type": "code",
   "execution_count": 59,
   "metadata": {},
   "outputs": [],
   "source": [
    "topuser_ratings_df = recomm_df[recomm_df['userID'].isin(top_user)]"
   ]
  },
  {
   "cell_type": "code",
   "execution_count": 60,
   "metadata": {},
   "outputs": [
    {
     "data": {
      "text/plain": [
       "(125871, 3)"
      ]
     },
     "execution_count": 60,
     "metadata": {},
     "output_type": "execute_result"
    }
   ],
   "source": [
    "topuser_ratings_df.shape"
   ]
  },
  {
   "cell_type": "code",
   "execution_count": 61,
   "metadata": {},
   "outputs": [
    {
     "data": {
      "text/html": [
       "<div>\n",
       "<style scoped>\n",
       "    .dataframe tbody tr th:only-of-type {\n",
       "        vertical-align: middle;\n",
       "    }\n",
       "\n",
       "    .dataframe tbody tr th {\n",
       "        vertical-align: top;\n",
       "    }\n",
       "\n",
       "    .dataframe thead th {\n",
       "        text-align: right;\n",
       "    }\n",
       "</style>\n",
       "<table border=\"1\" class=\"dataframe\">\n",
       "  <thead>\n",
       "    <tr style=\"text-align: right;\">\n",
       "      <th></th>\n",
       "      <th>userID</th>\n",
       "      <th>productID</th>\n",
       "      <th>ratings</th>\n",
       "    </tr>\n",
       "  </thead>\n",
       "  <tbody>\n",
       "    <tr>\n",
       "      <th>37</th>\n",
       "      <td>A2BYV7S1QP2YIG</td>\n",
       "      <td>B00LKG1MC8</td>\n",
       "      <td>5.0</td>\n",
       "    </tr>\n",
       "    <tr>\n",
       "      <th>43</th>\n",
       "      <td>A2NYK9KWFMJV4Y</td>\n",
       "      <td>B00LI4ZZO8</td>\n",
       "      <td>5.0</td>\n",
       "    </tr>\n",
       "    <tr>\n",
       "      <th>45</th>\n",
       "      <td>A3AYSYSLHU26U9</td>\n",
       "      <td>B00LI4ZZO8</td>\n",
       "      <td>4.0</td>\n",
       "    </tr>\n",
       "    <tr>\n",
       "      <th>53</th>\n",
       "      <td>A2NYK9KWFMJV4Y</td>\n",
       "      <td>B00LGQ6HL8</td>\n",
       "      <td>5.0</td>\n",
       "    </tr>\n",
       "    <tr>\n",
       "      <th>55</th>\n",
       "      <td>A1E1LEVQ9VQNK</td>\n",
       "      <td>B00LGQ6HL8</td>\n",
       "      <td>5.0</td>\n",
       "    </tr>\n",
       "  </tbody>\n",
       "</table>\n",
       "</div>"
      ],
      "text/plain": [
       "            userID   productID  ratings\n",
       "37  A2BYV7S1QP2YIG  B00LKG1MC8      5.0\n",
       "43  A2NYK9KWFMJV4Y  B00LI4ZZO8      5.0\n",
       "45  A3AYSYSLHU26U9  B00LI4ZZO8      4.0\n",
       "53  A2NYK9KWFMJV4Y  B00LGQ6HL8      5.0\n",
       "55   A1E1LEVQ9VQNK  B00LGQ6HL8      5.0"
      ]
     },
     "execution_count": 61,
     "metadata": {},
     "output_type": "execute_result"
    }
   ],
   "source": [
    "topuser_ratings_df.head()"
   ]
  },
  {
   "cell_type": "code",
   "execution_count": 62,
   "metadata": {},
   "outputs": [
    {
     "data": {
      "text/html": [
       "<div>\n",
       "<style scoped>\n",
       "    .dataframe tbody tr th:only-of-type {\n",
       "        vertical-align: middle;\n",
       "    }\n",
       "\n",
       "    .dataframe tbody tr th {\n",
       "        vertical-align: top;\n",
       "    }\n",
       "\n",
       "    .dataframe thead th {\n",
       "        text-align: right;\n",
       "    }\n",
       "</style>\n",
       "<table border=\"1\" class=\"dataframe\">\n",
       "  <thead>\n",
       "    <tr style=\"text-align: right;\">\n",
       "      <th></th>\n",
       "      <th>userID</th>\n",
       "      <th>productID</th>\n",
       "      <th>ratings</th>\n",
       "    </tr>\n",
       "  </thead>\n",
       "  <tbody>\n",
       "    <tr>\n",
       "      <th>37</th>\n",
       "      <td>A2BYV7S1QP2YIG</td>\n",
       "      <td>B00LKG1MC8</td>\n",
       "      <td>5.0</td>\n",
       "    </tr>\n",
       "    <tr>\n",
       "      <th>4860032</th>\n",
       "      <td>A2F2F7N94SR1KQ</td>\n",
       "      <td>B002ZKPU1W</td>\n",
       "      <td>5.0</td>\n",
       "    </tr>\n",
       "    <tr>\n",
       "      <th>4861888</th>\n",
       "      <td>A1REY92IEZJUSX</td>\n",
       "      <td>B002ZIMEMW</td>\n",
       "      <td>5.0</td>\n",
       "    </tr>\n",
       "    <tr>\n",
       "      <th>4861822</th>\n",
       "      <td>A24ARANWS5E3T8</td>\n",
       "      <td>B002ZIMEMW</td>\n",
       "      <td>5.0</td>\n",
       "    </tr>\n",
       "    <tr>\n",
       "      <th>4861778</th>\n",
       "      <td>AQNSQW4495SG0</td>\n",
       "      <td>B002ZIMEMW</td>\n",
       "      <td>5.0</td>\n",
       "    </tr>\n",
       "  </tbody>\n",
       "</table>\n",
       "</div>"
      ],
      "text/plain": [
       "                 userID   productID  ratings\n",
       "37       A2BYV7S1QP2YIG  B00LKG1MC8      5.0\n",
       "4860032  A2F2F7N94SR1KQ  B002ZKPU1W      5.0\n",
       "4861888  A1REY92IEZJUSX  B002ZIMEMW      5.0\n",
       "4861822  A24ARANWS5E3T8  B002ZIMEMW      5.0\n",
       "4861778   AQNSQW4495SG0  B002ZIMEMW      5.0"
      ]
     },
     "execution_count": 62,
     "metadata": {},
     "output_type": "execute_result"
    }
   ],
   "source": [
    "topuser_ratings_df.sort_values(by='ratings', ascending=False).head()"
   ]
  },
  {
   "cell_type": "code",
   "execution_count": null,
   "metadata": {},
   "outputs": [],
   "source": []
  },
  {
   "cell_type": "code",
   "execution_count": 63,
   "metadata": {},
   "outputs": [],
   "source": [
    "prodID = recomm_df.groupby('productID').count()"
   ]
  },
  {
   "cell_type": "code",
   "execution_count": 64,
   "metadata": {},
   "outputs": [],
   "source": [
    "top_prod = prodID[prodID['ratings'] >= 50].index"
   ]
  },
  {
   "cell_type": "code",
   "execution_count": 65,
   "metadata": {},
   "outputs": [],
   "source": [
    "top_ratings_df = topuser_ratings_df[topuser_ratings_df['productID'].isin(top_prod)]"
   ]
  },
  {
   "cell_type": "code",
   "execution_count": 66,
   "metadata": {},
   "outputs": [
    {
     "data": {
      "text/html": [
       "<div>\n",
       "<style scoped>\n",
       "    .dataframe tbody tr th:only-of-type {\n",
       "        vertical-align: middle;\n",
       "    }\n",
       "\n",
       "    .dataframe tbody tr th {\n",
       "        vertical-align: top;\n",
       "    }\n",
       "\n",
       "    .dataframe thead th {\n",
       "        text-align: right;\n",
       "    }\n",
       "</style>\n",
       "<table border=\"1\" class=\"dataframe\">\n",
       "  <thead>\n",
       "    <tr style=\"text-align: right;\">\n",
       "      <th></th>\n",
       "      <th>userID</th>\n",
       "      <th>productID</th>\n",
       "      <th>ratings</th>\n",
       "    </tr>\n",
       "  </thead>\n",
       "  <tbody>\n",
       "    <tr>\n",
       "      <th>260</th>\n",
       "      <td>AOVTLYTHVDNUX</td>\n",
       "      <td>B00L3YHF6O</td>\n",
       "      <td>5.0</td>\n",
       "    </tr>\n",
       "    <tr>\n",
       "      <th>4872067</th>\n",
       "      <td>A2T689YVOAYGGD</td>\n",
       "      <td>B002YU83YO</td>\n",
       "      <td>5.0</td>\n",
       "    </tr>\n",
       "    <tr>\n",
       "      <th>4872221</th>\n",
       "      <td>A2MCRCK1V61FWQ</td>\n",
       "      <td>B002YTDE5I</td>\n",
       "      <td>5.0</td>\n",
       "    </tr>\n",
       "    <tr>\n",
       "      <th>4872244</th>\n",
       "      <td>A3SQCTNYQFVBWM</td>\n",
       "      <td>B002YTDE5I</td>\n",
       "      <td>5.0</td>\n",
       "    </tr>\n",
       "    <tr>\n",
       "      <th>4872256</th>\n",
       "      <td>ARX7Z3NI6O0F7</td>\n",
       "      <td>B002YTDE5I</td>\n",
       "      <td>5.0</td>\n",
       "    </tr>\n",
       "  </tbody>\n",
       "</table>\n",
       "</div>"
      ],
      "text/plain": [
       "                 userID   productID  ratings\n",
       "260       AOVTLYTHVDNUX  B00L3YHF6O      5.0\n",
       "4872067  A2T689YVOAYGGD  B002YU83YO      5.0\n",
       "4872221  A2MCRCK1V61FWQ  B002YTDE5I      5.0\n",
       "4872244  A3SQCTNYQFVBWM  B002YTDE5I      5.0\n",
       "4872256   ARX7Z3NI6O0F7  B002YTDE5I      5.0"
      ]
     },
     "execution_count": 66,
     "metadata": {},
     "output_type": "execute_result"
    }
   ],
   "source": [
    "\n",
    "top_ratings_df.sort_values(by='ratings', ascending=False).head()"
   ]
  },
  {
   "cell_type": "code",
   "execution_count": 67,
   "metadata": {},
   "outputs": [
    {
     "data": {
      "text/plain": [
       "(79182, 3)"
      ]
     },
     "execution_count": 67,
     "metadata": {},
     "output_type": "execute_result"
    }
   ],
   "source": [
    "top_ratings_df.shape"
   ]
  },
  {
   "cell_type": "code",
   "execution_count": 68,
   "metadata": {},
   "outputs": [],
   "source": [
    "from sklearn.model_selection import train_test_split\n",
    "train_data, test_data = train_test_split(top_ratings_df, test_size = 0.30, random_state=0)"
   ]
  },
  {
   "cell_type": "code",
   "execution_count": 69,
   "metadata": {},
   "outputs": [
    {
     "data": {
      "text/html": [
       "<div>\n",
       "<style scoped>\n",
       "    .dataframe tbody tr th:only-of-type {\n",
       "        vertical-align: middle;\n",
       "    }\n",
       "\n",
       "    .dataframe tbody tr th {\n",
       "        vertical-align: top;\n",
       "    }\n",
       "\n",
       "    .dataframe thead th {\n",
       "        text-align: right;\n",
       "    }\n",
       "</style>\n",
       "<table border=\"1\" class=\"dataframe\">\n",
       "  <thead>\n",
       "    <tr style=\"text-align: right;\">\n",
       "      <th></th>\n",
       "      <th>userID</th>\n",
       "      <th>productID</th>\n",
       "      <th>ratings</th>\n",
       "    </tr>\n",
       "  </thead>\n",
       "  <tbody>\n",
       "    <tr>\n",
       "      <th>4144572</th>\n",
       "      <td>A3V7D0LH8L7BG0</td>\n",
       "      <td>B003Y74AXO</td>\n",
       "      <td>4.0</td>\n",
       "    </tr>\n",
       "    <tr>\n",
       "      <th>4054669</th>\n",
       "      <td>A1HFT68GJ42LTM</td>\n",
       "      <td>B0041FV0B8</td>\n",
       "      <td>4.0</td>\n",
       "    </tr>\n",
       "    <tr>\n",
       "      <th>6924284</th>\n",
       "      <td>A11KQADBYE0UZL</td>\n",
       "      <td>B000F1MSJK</td>\n",
       "      <td>5.0</td>\n",
       "    </tr>\n",
       "    <tr>\n",
       "      <th>3130693</th>\n",
       "      <td>A3DOPYDOS49I3T</td>\n",
       "      <td>B0054L8N7M</td>\n",
       "      <td>5.0</td>\n",
       "    </tr>\n",
       "    <tr>\n",
       "      <th>7699361</th>\n",
       "      <td>A231WM2Z2JL0U3</td>\n",
       "      <td>B00005T6GZ</td>\n",
       "      <td>5.0</td>\n",
       "    </tr>\n",
       "  </tbody>\n",
       "</table>\n",
       "</div>"
      ],
      "text/plain": [
       "                 userID   productID  ratings\n",
       "4144572  A3V7D0LH8L7BG0  B003Y74AXO      4.0\n",
       "4054669  A1HFT68GJ42LTM  B0041FV0B8      4.0\n",
       "6924284  A11KQADBYE0UZL  B000F1MSJK      5.0\n",
       "3130693  A3DOPYDOS49I3T  B0054L8N7M      5.0\n",
       "7699361  A231WM2Z2JL0U3  B00005T6GZ      5.0"
      ]
     },
     "execution_count": 69,
     "metadata": {},
     "output_type": "execute_result"
    }
   ],
   "source": [
    "train_data.head()"
   ]
  },
  {
   "cell_type": "code",
   "execution_count": 70,
   "metadata": {},
   "outputs": [
    {
     "data": {
      "text/html": [
       "<div>\n",
       "<style scoped>\n",
       "    .dataframe tbody tr th:only-of-type {\n",
       "        vertical-align: middle;\n",
       "    }\n",
       "\n",
       "    .dataframe tbody tr th {\n",
       "        vertical-align: top;\n",
       "    }\n",
       "\n",
       "    .dataframe thead th {\n",
       "        text-align: right;\n",
       "    }\n",
       "</style>\n",
       "<table border=\"1\" class=\"dataframe\">\n",
       "  <thead>\n",
       "    <tr style=\"text-align: right;\">\n",
       "      <th></th>\n",
       "      <th>userID</th>\n",
       "      <th>productID</th>\n",
       "      <th>ratings</th>\n",
       "    </tr>\n",
       "  </thead>\n",
       "  <tbody>\n",
       "    <tr>\n",
       "      <th>6624398</th>\n",
       "      <td>AY3XPKRAMKKY7</td>\n",
       "      <td>B000NB05MO</td>\n",
       "      <td>5.0</td>\n",
       "    </tr>\n",
       "    <tr>\n",
       "      <th>1006586</th>\n",
       "      <td>A2LW5AL0KQ9P1M</td>\n",
       "      <td>B00A3YDKRI</td>\n",
       "      <td>3.0</td>\n",
       "    </tr>\n",
       "    <tr>\n",
       "      <th>4377936</th>\n",
       "      <td>A11EXFO14WEJM1</td>\n",
       "      <td>B003M0NURK</td>\n",
       "      <td>5.0</td>\n",
       "    </tr>\n",
       "    <tr>\n",
       "      <th>7584011</th>\n",
       "      <td>A2NOW4U7W3F7RI</td>\n",
       "      <td>B000087NBU</td>\n",
       "      <td>5.0</td>\n",
       "    </tr>\n",
       "    <tr>\n",
       "      <th>3140693</th>\n",
       "      <td>A3VTOLNB5N6FVP</td>\n",
       "      <td>B00546JKJC</td>\n",
       "      <td>3.0</td>\n",
       "    </tr>\n",
       "  </tbody>\n",
       "</table>\n",
       "</div>"
      ],
      "text/plain": [
       "                 userID   productID  ratings\n",
       "6624398   AY3XPKRAMKKY7  B000NB05MO      5.0\n",
       "1006586  A2LW5AL0KQ9P1M  B00A3YDKRI      3.0\n",
       "4377936  A11EXFO14WEJM1  B003M0NURK      5.0\n",
       "7584011  A2NOW4U7W3F7RI  B000087NBU      5.0\n",
       "3140693  A3VTOLNB5N6FVP  B00546JKJC      3.0"
      ]
     },
     "execution_count": 70,
     "metadata": {},
     "output_type": "execute_result"
    }
   ],
   "source": [
    "test_data.head()"
   ]
  },
  {
   "cell_type": "markdown",
   "metadata": {},
   "source": [
    "# Build Popularity Recommender model"
   ]
  },
  {
   "cell_type": "code",
   "execution_count": 71,
   "metadata": {},
   "outputs": [],
   "source": [
    "#Building the recommendations based on the average of all user ratings for each product.\n",
    "train_data_grouped = train_data.groupby('productID').mean().reset_index()"
   ]
  },
  {
   "cell_type": "code",
   "execution_count": 72,
   "metadata": {},
   "outputs": [
    {
     "data": {
      "text/html": [
       "<div>\n",
       "<style scoped>\n",
       "    .dataframe tbody tr th:only-of-type {\n",
       "        vertical-align: middle;\n",
       "    }\n",
       "\n",
       "    .dataframe tbody tr th {\n",
       "        vertical-align: top;\n",
       "    }\n",
       "\n",
       "    .dataframe thead th {\n",
       "        text-align: right;\n",
       "    }\n",
       "</style>\n",
       "<table border=\"1\" class=\"dataframe\">\n",
       "  <thead>\n",
       "    <tr style=\"text-align: right;\">\n",
       "      <th></th>\n",
       "      <th>productID</th>\n",
       "      <th>ratings</th>\n",
       "    </tr>\n",
       "  </thead>\n",
       "  <tbody>\n",
       "    <tr>\n",
       "      <th>0</th>\n",
       "      <td>972683275</td>\n",
       "      <td>4.666667</td>\n",
       "    </tr>\n",
       "    <tr>\n",
       "      <th>1</th>\n",
       "      <td>1400501466</td>\n",
       "      <td>3.666667</td>\n",
       "    </tr>\n",
       "    <tr>\n",
       "      <th>2</th>\n",
       "      <td>1400501520</td>\n",
       "      <td>5.000000</td>\n",
       "    </tr>\n",
       "    <tr>\n",
       "      <th>3</th>\n",
       "      <td>1400501776</td>\n",
       "      <td>4.000000</td>\n",
       "    </tr>\n",
       "    <tr>\n",
       "      <th>4</th>\n",
       "      <td>1400532620</td>\n",
       "      <td>1.000000</td>\n",
       "    </tr>\n",
       "  </tbody>\n",
       "</table>\n",
       "</div>"
      ],
      "text/plain": [
       "    productID   ratings\n",
       "0   972683275  4.666667\n",
       "1  1400501466  3.666667\n",
       "2  1400501520  5.000000\n",
       "3  1400501776  4.000000\n",
       "4  1400532620  1.000000"
      ]
     },
     "execution_count": 72,
     "metadata": {},
     "output_type": "execute_result"
    }
   ],
   "source": [
    "train_data_grouped.head()"
   ]
  },
  {
   "cell_type": "code",
   "execution_count": 73,
   "metadata": {},
   "outputs": [],
   "source": [
    "train_data_sort = train_data_grouped.sort_values(['ratings', 'productID'], ascending=False)"
   ]
  },
  {
   "cell_type": "code",
   "execution_count": 74,
   "metadata": {},
   "outputs": [
    {
     "data": {
      "text/html": [
       "<div>\n",
       "<style scoped>\n",
       "    .dataframe tbody tr th:only-of-type {\n",
       "        vertical-align: middle;\n",
       "    }\n",
       "\n",
       "    .dataframe tbody tr th {\n",
       "        vertical-align: top;\n",
       "    }\n",
       "\n",
       "    .dataframe thead th {\n",
       "        text-align: right;\n",
       "    }\n",
       "</style>\n",
       "<table border=\"1\" class=\"dataframe\">\n",
       "  <thead>\n",
       "    <tr style=\"text-align: right;\">\n",
       "      <th></th>\n",
       "      <th>productID</th>\n",
       "      <th>ratings</th>\n",
       "    </tr>\n",
       "  </thead>\n",
       "  <tbody>\n",
       "    <tr>\n",
       "      <th>14847</th>\n",
       "      <td>B00L3YHF6O</td>\n",
       "      <td>5.0</td>\n",
       "    </tr>\n",
       "    <tr>\n",
       "      <th>14845</th>\n",
       "      <td>B00KINSDK8</td>\n",
       "      <td>5.0</td>\n",
       "    </tr>\n",
       "    <tr>\n",
       "      <th>14842</th>\n",
       "      <td>B00K4VQZCM</td>\n",
       "      <td>5.0</td>\n",
       "    </tr>\n",
       "    <tr>\n",
       "      <th>14841</th>\n",
       "      <td>B00K0OBEE2</td>\n",
       "      <td>5.0</td>\n",
       "    </tr>\n",
       "    <tr>\n",
       "      <th>14836</th>\n",
       "      <td>B00JLADOGW</td>\n",
       "      <td>5.0</td>\n",
       "    </tr>\n",
       "  </tbody>\n",
       "</table>\n",
       "</div>"
      ],
      "text/plain": [
       "        productID  ratings\n",
       "14847  B00L3YHF6O      5.0\n",
       "14845  B00KINSDK8      5.0\n",
       "14842  B00K4VQZCM      5.0\n",
       "14841  B00K0OBEE2      5.0\n",
       "14836  B00JLADOGW      5.0"
      ]
     },
     "execution_count": 74,
     "metadata": {},
     "output_type": "execute_result"
    }
   ],
   "source": [
    "train_data_sort.head()"
   ]
  },
  {
   "cell_type": "code",
   "execution_count": 75,
   "metadata": {},
   "outputs": [
    {
     "data": {
      "text/plain": [
       "productID\n",
       "B0088CJT4U    149\n",
       "B003ES5ZUU    138\n",
       "B007WTAJTO    126\n",
       "B000N99BBC    110\n",
       "B008DWCRQW    100\n",
       "B00829TIEK     99\n",
       "B00829THK0     92\n",
       "B002R5AM7C     87\n",
       "B004CLYEDC     77\n",
       "B0034CL2ZI     77\n",
       "Name: ratings, dtype: int64"
      ]
     },
     "execution_count": 75,
     "metadata": {},
     "output_type": "execute_result"
    }
   ],
   "source": [
    "train_data.groupby('productID')['ratings'].count().sort_values(ascending=False).head(10)"
   ]
  },
  {
   "cell_type": "code",
   "execution_count": 76,
   "metadata": {},
   "outputs": [],
   "source": [
    "ratings_mean_count = pd.DataFrame(train_data.groupby('productID')['ratings'].mean())"
   ]
  },
  {
   "cell_type": "code",
   "execution_count": 77,
   "metadata": {},
   "outputs": [],
   "source": [
    "ratings_mean_count['rating_counts'] = pd.DataFrame(train_data.groupby('productID')['ratings'].count())"
   ]
  },
  {
   "cell_type": "code",
   "execution_count": 78,
   "metadata": {},
   "outputs": [
    {
     "data": {
      "text/html": [
       "<div>\n",
       "<style scoped>\n",
       "    .dataframe tbody tr th:only-of-type {\n",
       "        vertical-align: middle;\n",
       "    }\n",
       "\n",
       "    .dataframe tbody tr th {\n",
       "        vertical-align: top;\n",
       "    }\n",
       "\n",
       "    .dataframe thead th {\n",
       "        text-align: right;\n",
       "    }\n",
       "</style>\n",
       "<table border=\"1\" class=\"dataframe\">\n",
       "  <thead>\n",
       "    <tr style=\"text-align: right;\">\n",
       "      <th></th>\n",
       "      <th>ratings</th>\n",
       "      <th>rating_counts</th>\n",
       "    </tr>\n",
       "    <tr>\n",
       "      <th>productID</th>\n",
       "      <th></th>\n",
       "      <th></th>\n",
       "    </tr>\n",
       "  </thead>\n",
       "  <tbody>\n",
       "    <tr>\n",
       "      <th>972683275</th>\n",
       "      <td>4.666667</td>\n",
       "      <td>3</td>\n",
       "    </tr>\n",
       "    <tr>\n",
       "      <th>1400501466</th>\n",
       "      <td>3.666667</td>\n",
       "      <td>3</td>\n",
       "    </tr>\n",
       "    <tr>\n",
       "      <th>1400501520</th>\n",
       "      <td>5.000000</td>\n",
       "      <td>1</td>\n",
       "    </tr>\n",
       "    <tr>\n",
       "      <th>1400501776</th>\n",
       "      <td>4.000000</td>\n",
       "      <td>1</td>\n",
       "    </tr>\n",
       "    <tr>\n",
       "      <th>1400532620</th>\n",
       "      <td>1.000000</td>\n",
       "      <td>1</td>\n",
       "    </tr>\n",
       "  </tbody>\n",
       "</table>\n",
       "</div>"
      ],
      "text/plain": [
       "             ratings  rating_counts\n",
       "productID                          \n",
       "972683275   4.666667              3\n",
       "1400501466  3.666667              3\n",
       "1400501520  5.000000              1\n",
       "1400501776  4.000000              1\n",
       "1400532620  1.000000              1"
      ]
     },
     "execution_count": 78,
     "metadata": {},
     "output_type": "execute_result"
    }
   ],
   "source": [
    "ratings_mean_count.head()"
   ]
  },
  {
   "cell_type": "code",
   "execution_count": 79,
   "metadata": {},
   "outputs": [],
   "source": [
    "pred_df = test_data[['userID', 'productID', 'ratings']]"
   ]
  },
  {
   "cell_type": "code",
   "execution_count": 80,
   "metadata": {},
   "outputs": [],
   "source": [
    "pred_df.rename(columns = {'ratings' : 'true_ratings'}, inplace=True)"
   ]
  },
  {
   "cell_type": "code",
   "execution_count": 81,
   "metadata": {},
   "outputs": [],
   "source": [
    "pred_df = pred_df.merge(train_data_sort, left_on='productID', right_on = 'productID')"
   ]
  },
  {
   "cell_type": "code",
   "execution_count": 82,
   "metadata": {},
   "outputs": [
    {
     "data": {
      "text/html": [
       "<div>\n",
       "<style scoped>\n",
       "    .dataframe tbody tr th:only-of-type {\n",
       "        vertical-align: middle;\n",
       "    }\n",
       "\n",
       "    .dataframe tbody tr th {\n",
       "        vertical-align: top;\n",
       "    }\n",
       "\n",
       "    .dataframe thead th {\n",
       "        text-align: right;\n",
       "    }\n",
       "</style>\n",
       "<table border=\"1\" class=\"dataframe\">\n",
       "  <thead>\n",
       "    <tr style=\"text-align: right;\">\n",
       "      <th></th>\n",
       "      <th>userID</th>\n",
       "      <th>productID</th>\n",
       "      <th>true_ratings</th>\n",
       "      <th>ratings</th>\n",
       "    </tr>\n",
       "  </thead>\n",
       "  <tbody>\n",
       "    <tr>\n",
       "      <th>0</th>\n",
       "      <td>AY3XPKRAMKKY7</td>\n",
       "      <td>B000NB05MO</td>\n",
       "      <td>5.0</td>\n",
       "      <td>4.625</td>\n",
       "    </tr>\n",
       "    <tr>\n",
       "      <th>1</th>\n",
       "      <td>A2LW5AL0KQ9P1M</td>\n",
       "      <td>B00A3YDKRI</td>\n",
       "      <td>3.0</td>\n",
       "      <td>4.000</td>\n",
       "    </tr>\n",
       "    <tr>\n",
       "      <th>2</th>\n",
       "      <td>ADLVFFE4VBT8</td>\n",
       "      <td>B00A3YDKRI</td>\n",
       "      <td>4.0</td>\n",
       "      <td>4.000</td>\n",
       "    </tr>\n",
       "  </tbody>\n",
       "</table>\n",
       "</div>"
      ],
      "text/plain": [
       "           userID   productID  true_ratings  ratings\n",
       "0   AY3XPKRAMKKY7  B000NB05MO           5.0    4.625\n",
       "1  A2LW5AL0KQ9P1M  B00A3YDKRI           3.0    4.000\n",
       "2    ADLVFFE4VBT8  B00A3YDKRI           4.0    4.000"
      ]
     },
     "execution_count": 82,
     "metadata": {},
     "output_type": "execute_result"
    }
   ],
   "source": [
    "pred_df.head(3)"
   ]
  },
  {
   "cell_type": "code",
   "execution_count": 83,
   "metadata": {},
   "outputs": [],
   "source": [
    "pred_df.rename(columns = {'ratings' : 'predicted_ratings'}, inplace = True)"
   ]
  },
  {
   "cell_type": "code",
   "execution_count": 84,
   "metadata": {},
   "outputs": [
    {
     "data": {
      "text/html": [
       "<div>\n",
       "<style scoped>\n",
       "    .dataframe tbody tr th:only-of-type {\n",
       "        vertical-align: middle;\n",
       "    }\n",
       "\n",
       "    .dataframe tbody tr th {\n",
       "        vertical-align: top;\n",
       "    }\n",
       "\n",
       "    .dataframe thead th {\n",
       "        text-align: right;\n",
       "    }\n",
       "</style>\n",
       "<table border=\"1\" class=\"dataframe\">\n",
       "  <thead>\n",
       "    <tr style=\"text-align: right;\">\n",
       "      <th></th>\n",
       "      <th>userID</th>\n",
       "      <th>productID</th>\n",
       "      <th>true_ratings</th>\n",
       "      <th>predicted_ratings</th>\n",
       "    </tr>\n",
       "  </thead>\n",
       "  <tbody>\n",
       "    <tr>\n",
       "      <th>0</th>\n",
       "      <td>AY3XPKRAMKKY7</td>\n",
       "      <td>B000NB05MO</td>\n",
       "      <td>5.0</td>\n",
       "      <td>4.625</td>\n",
       "    </tr>\n",
       "    <tr>\n",
       "      <th>1</th>\n",
       "      <td>A2LW5AL0KQ9P1M</td>\n",
       "      <td>B00A3YDKRI</td>\n",
       "      <td>3.0</td>\n",
       "      <td>4.000</td>\n",
       "    </tr>\n",
       "    <tr>\n",
       "      <th>2</th>\n",
       "      <td>ADLVFFE4VBT8</td>\n",
       "      <td>B00A3YDKRI</td>\n",
       "      <td>4.0</td>\n",
       "      <td>4.000</td>\n",
       "    </tr>\n",
       "    <tr>\n",
       "      <th>3</th>\n",
       "      <td>A1VYFEJM12ZP11</td>\n",
       "      <td>B00A3YDKRI</td>\n",
       "      <td>4.0</td>\n",
       "      <td>4.000</td>\n",
       "    </tr>\n",
       "    <tr>\n",
       "      <th>4</th>\n",
       "      <td>AG2YXYIQ8TLTA</td>\n",
       "      <td>B00A3YDKRI</td>\n",
       "      <td>3.0</td>\n",
       "      <td>4.000</td>\n",
       "    </tr>\n",
       "  </tbody>\n",
       "</table>\n",
       "</div>"
      ],
      "text/plain": [
       "           userID   productID  true_ratings  predicted_ratings\n",
       "0   AY3XPKRAMKKY7  B000NB05MO           5.0              4.625\n",
       "1  A2LW5AL0KQ9P1M  B00A3YDKRI           3.0              4.000\n",
       "2    ADLVFFE4VBT8  B00A3YDKRI           4.0              4.000\n",
       "3  A1VYFEJM12ZP11  B00A3YDKRI           4.0              4.000\n",
       "4   AG2YXYIQ8TLTA  B00A3YDKRI           3.0              4.000"
      ]
     },
     "execution_count": 84,
     "metadata": {},
     "output_type": "execute_result"
    }
   ],
   "source": [
    "pred_df.head()"
   ]
  },
  {
   "cell_type": "code",
   "execution_count": 85,
   "metadata": {},
   "outputs": [
    {
     "name": "stdout",
     "output_type": "stream",
     "text": [
      "The RMSE value for Popularity Recommender model is 1.0877906716540415\n"
     ]
    }
   ],
   "source": [
    "import sklearn.metrics as metric\n",
    "from math import sqrt\n",
    "MSE = metric.mean_squared_error(pred_df['true_ratings'], pred_df['predicted_ratings'])\n",
    "print('The RMSE value for Popularity Recommender model is', sqrt(MSE))"
   ]
  },
  {
   "cell_type": "markdown",
   "metadata": {},
   "source": [
    "# Build Collaborative Filtering model"
   ]
  },
  {
   "cell_type": "code",
   "execution_count": 87,
   "metadata": {},
   "outputs": [
    {
     "name": "stdout",
     "output_type": "stream",
     "text": [
      "Collecting surprise\n",
      "  Downloading surprise-0.1-py2.py3-none-any.whl (1.8 kB)\n",
      "Collecting scikit-surprise\n",
      "  Downloading scikit-surprise-1.1.1.tar.gz (11.8 MB)\n",
      "Requirement already satisfied: joblib>=0.11 in c:\\users\\lenovo\\anaconda3\\lib\\site-packages (from scikit-surprise->surprise) (0.17.0)\n",
      "Requirement already satisfied: numpy>=1.11.2 in c:\\users\\lenovo\\anaconda3\\lib\\site-packages (from scikit-surprise->surprise) (1.19.2)\n",
      "Requirement already satisfied: scipy>=1.0.0 in c:\\users\\lenovo\\anaconda3\\lib\\site-packages (from scikit-surprise->surprise) (1.5.2)\n",
      "Requirement already satisfied: six>=1.10.0 in c:\\users\\lenovo\\anaconda3\\lib\\site-packages (from scikit-surprise->surprise) (1.15.0)\n",
      "Building wheels for collected packages: scikit-surprise\n",
      "  Building wheel for scikit-surprise (setup.py): started\n",
      "  Building wheel for scikit-surprise (setup.py): finished with status 'error'\n",
      "  Running setup.py clean for scikit-surprise\n",
      "Failed to build scikit-surprise\n",
      "Installing collected packages: scikit-surprise, surprise\n",
      "    Running setup.py install for scikit-surprise: started\n",
      "    Running setup.py install for scikit-surprise: finished with status 'error'\n"
     ]
    },
    {
     "name": "stderr",
     "output_type": "stream",
     "text": [
      "  ERROR: Command errored out with exit status 1:\n",
      "   command: 'C:\\Users\\LENOVO\\anaconda3\\python.exe' -u -c 'import sys, setuptools, tokenize; sys.argv[0] = '\"'\"'C:\\\\Users\\\\LENOVO\\\\AppData\\\\Local\\\\Temp\\\\pip-install-hlud0a9g\\\\scikit-surprise\\\\setup.py'\"'\"'; __file__='\"'\"'C:\\\\Users\\\\LENOVO\\\\AppData\\\\Local\\\\Temp\\\\pip-install-hlud0a9g\\\\scikit-surprise\\\\setup.py'\"'\"';f=getattr(tokenize, '\"'\"'open'\"'\"', open)(__file__);code=f.read().replace('\"'\"'\\r\\n'\"'\"', '\"'\"'\\n'\"'\"');f.close();exec(compile(code, __file__, '\"'\"'exec'\"'\"'))' bdist_wheel -d 'C:\\Users\\LENOVO\\AppData\\Local\\Temp\\pip-wheel-3ayzbd01'\n",
      "       cwd: C:\\Users\\LENOVO\\AppData\\Local\\Temp\\pip-install-hlud0a9g\\scikit-surprise\\\n",
      "  Complete output (49 lines):\n",
      "  running bdist_wheel\n",
      "  running build\n",
      "  running build_py\n",
      "  creating build\n",
      "  creating build\\lib.win-amd64-3.8\n",
      "  creating build\\lib.win-amd64-3.8\\surprise\n",
      "  copying surprise\\accuracy.py -> build\\lib.win-amd64-3.8\\surprise\n",
      "  copying surprise\\builtin_datasets.py -> build\\lib.win-amd64-3.8\\surprise\n",
      "  copying surprise\\dataset.py -> build\\lib.win-amd64-3.8\\surprise\n",
      "  copying surprise\\dump.py -> build\\lib.win-amd64-3.8\\surprise\n",
      "  copying surprise\\reader.py -> build\\lib.win-amd64-3.8\\surprise\n",
      "  copying surprise\\trainset.py -> build\\lib.win-amd64-3.8\\surprise\n",
      "  copying surprise\\utils.py -> build\\lib.win-amd64-3.8\\surprise\n",
      "  copying surprise\\__init__.py -> build\\lib.win-amd64-3.8\\surprise\n",
      "  copying surprise\\__main__.py -> build\\lib.win-amd64-3.8\\surprise\n",
      "  creating build\\lib.win-amd64-3.8\\surprise\\model_selection\n",
      "  copying surprise\\model_selection\\search.py -> build\\lib.win-amd64-3.8\\surprise\\model_selection\n",
      "  copying surprise\\model_selection\\split.py -> build\\lib.win-amd64-3.8\\surprise\\model_selection\n",
      "  copying surprise\\model_selection\\validation.py -> build\\lib.win-amd64-3.8\\surprise\\model_selection\n",
      "  copying surprise\\model_selection\\__init__.py -> build\\lib.win-amd64-3.8\\surprise\\model_selection\n",
      "  creating build\\lib.win-amd64-3.8\\surprise\\prediction_algorithms\n",
      "  copying surprise\\prediction_algorithms\\algo_base.py -> build\\lib.win-amd64-3.8\\surprise\\prediction_algorithms\n",
      "  copying surprise\\prediction_algorithms\\baseline_only.py -> build\\lib.win-amd64-3.8\\surprise\\prediction_algorithms\n",
      "  copying surprise\\prediction_algorithms\\knns.py -> build\\lib.win-amd64-3.8\\surprise\\prediction_algorithms\n",
      "  copying surprise\\prediction_algorithms\\predictions.py -> build\\lib.win-amd64-3.8\\surprise\\prediction_algorithms\n",
      "  copying surprise\\prediction_algorithms\\random_pred.py -> build\\lib.win-amd64-3.8\\surprise\\prediction_algorithms\n",
      "  copying surprise\\prediction_algorithms\\__init__.py -> build\\lib.win-amd64-3.8\\surprise\\prediction_algorithms\n",
      "  running egg_info\n",
      "  writing scikit_surprise.egg-info\\PKG-INFO\n",
      "  writing dependency_links to scikit_surprise.egg-info\\dependency_links.txt\n",
      "  writing entry points to scikit_surprise.egg-info\\entry_points.txt\n",
      "  writing requirements to scikit_surprise.egg-info\\requires.txt\n",
      "  writing top-level names to scikit_surprise.egg-info\\top_level.txt\n",
      "  reading manifest file 'scikit_surprise.egg-info\\SOURCES.txt'\n",
      "  reading manifest template 'MANIFEST.in'\n",
      "  writing manifest file 'scikit_surprise.egg-info\\SOURCES.txt'\n",
      "  copying surprise\\similarities.c -> build\\lib.win-amd64-3.8\\surprise\n",
      "  copying surprise\\similarities.pyx -> build\\lib.win-amd64-3.8\\surprise\n",
      "  copying surprise\\prediction_algorithms\\co_clustering.c -> build\\lib.win-amd64-3.8\\surprise\\prediction_algorithms\n",
      "  copying surprise\\prediction_algorithms\\matrix_factorization.c -> build\\lib.win-amd64-3.8\\surprise\\prediction_algorithms\n",
      "  copying surprise\\prediction_algorithms\\optimize_baselines.c -> build\\lib.win-amd64-3.8\\surprise\\prediction_algorithms\n",
      "  copying surprise\\prediction_algorithms\\slope_one.c -> build\\lib.win-amd64-3.8\\surprise\\prediction_algorithms\n",
      "  copying surprise\\prediction_algorithms\\co_clustering.pyx -> build\\lib.win-amd64-3.8\\surprise\\prediction_algorithms\n",
      "  copying surprise\\prediction_algorithms\\matrix_factorization.pyx -> build\\lib.win-amd64-3.8\\surprise\\prediction_algorithms\n",
      "  copying surprise\\prediction_algorithms\\optimize_baselines.pyx -> build\\lib.win-amd64-3.8\\surprise\\prediction_algorithms\n",
      "  copying surprise\\prediction_algorithms\\slope_one.pyx -> build\\lib.win-amd64-3.8\\surprise\\prediction_algorithms\n",
      "  running build_ext\n",
      "  building 'surprise.similarities' extension\n",
      "  error: Microsoft Visual C++ 14.0 or greater is required. Get it with \"Microsoft C++ Build Tools\": https://visualstudio.microsoft.com/visual-cpp-build-tools/\n",
      "  ----------------------------------------\n",
      "  ERROR: Failed building wheel for scikit-surprise\n",
      "    ERROR: Command errored out with exit status 1:\n",
      "     command: 'C:\\Users\\LENOVO\\anaconda3\\python.exe' -u -c 'import sys, setuptools, tokenize; sys.argv[0] = '\"'\"'C:\\\\Users\\\\LENOVO\\\\AppData\\\\Local\\\\Temp\\\\pip-install-hlud0a9g\\\\scikit-surprise\\\\setup.py'\"'\"'; __file__='\"'\"'C:\\\\Users\\\\LENOVO\\\\AppData\\\\Local\\\\Temp\\\\pip-install-hlud0a9g\\\\scikit-surprise\\\\setup.py'\"'\"';f=getattr(tokenize, '\"'\"'open'\"'\"', open)(__file__);code=f.read().replace('\"'\"'\\r\\n'\"'\"', '\"'\"'\\n'\"'\"');f.close();exec(compile(code, __file__, '\"'\"'exec'\"'\"'))' install --record 'C:\\Users\\LENOVO\\AppData\\Local\\Temp\\pip-record-8v9vmqob\\install-record.txt' --single-version-externally-managed --compile --install-headers 'C:\\Users\\LENOVO\\anaconda3\\Include\\scikit-surprise'\n",
      "         cwd: C:\\Users\\LENOVO\\AppData\\Local\\Temp\\pip-install-hlud0a9g\\scikit-surprise\\\n",
      "    Complete output (49 lines):\n",
      "    running install\n",
      "    running build\n",
      "    running build_py\n",
      "    creating build\n",
      "    creating build\\lib.win-amd64-3.8\n",
      "    creating build\\lib.win-amd64-3.8\\surprise\n",
      "    copying surprise\\accuracy.py -> build\\lib.win-amd64-3.8\\surprise\n",
      "    copying surprise\\builtin_datasets.py -> build\\lib.win-amd64-3.8\\surprise\n",
      "    copying surprise\\dataset.py -> build\\lib.win-amd64-3.8\\surprise\n",
      "    copying surprise\\dump.py -> build\\lib.win-amd64-3.8\\surprise\n",
      "    copying surprise\\reader.py -> build\\lib.win-amd64-3.8\\surprise\n",
      "    copying surprise\\trainset.py -> build\\lib.win-amd64-3.8\\surprise\n",
      "    copying surprise\\utils.py -> build\\lib.win-amd64-3.8\\surprise\n",
      "    copying surprise\\__init__.py -> build\\lib.win-amd64-3.8\\surprise\n",
      "    copying surprise\\__main__.py -> build\\lib.win-amd64-3.8\\surprise\n",
      "    creating build\\lib.win-amd64-3.8\\surprise\\model_selection\n",
      "    copying surprise\\model_selection\\search.py -> build\\lib.win-amd64-3.8\\surprise\\model_selection\n",
      "    copying surprise\\model_selection\\split.py -> build\\lib.win-amd64-3.8\\surprise\\model_selection\n",
      "    copying surprise\\model_selection\\validation.py -> build\\lib.win-amd64-3.8\\surprise\\model_selection\n",
      "    copying surprise\\model_selection\\__init__.py -> build\\lib.win-amd64-3.8\\surprise\\model_selection\n",
      "    creating build\\lib.win-amd64-3.8\\surprise\\prediction_algorithms\n",
      "    copying surprise\\prediction_algorithms\\algo_base.py -> build\\lib.win-amd64-3.8\\surprise\\prediction_algorithms\n",
      "    copying surprise\\prediction_algorithms\\baseline_only.py -> build\\lib.win-amd64-3.8\\surprise\\prediction_algorithms\n",
      "    copying surprise\\prediction_algorithms\\knns.py -> build\\lib.win-amd64-3.8\\surprise\\prediction_algorithms\n",
      "    copying surprise\\prediction_algorithms\\predictions.py -> build\\lib.win-amd64-3.8\\surprise\\prediction_algorithms\n",
      "    copying surprise\\prediction_algorithms\\random_pred.py -> build\\lib.win-amd64-3.8\\surprise\\prediction_algorithms\n",
      "    copying surprise\\prediction_algorithms\\__init__.py -> build\\lib.win-amd64-3.8\\surprise\\prediction_algorithms\n",
      "    running egg_info\n",
      "    writing scikit_surprise.egg-info\\PKG-INFO\n",
      "    writing dependency_links to scikit_surprise.egg-info\\dependency_links.txt\n",
      "    writing entry points to scikit_surprise.egg-info\\entry_points.txt\n",
      "    writing requirements to scikit_surprise.egg-info\\requires.txt\n",
      "    writing top-level names to scikit_surprise.egg-info\\top_level.txt\n",
      "    reading manifest file 'scikit_surprise.egg-info\\SOURCES.txt'\n",
      "    reading manifest template 'MANIFEST.in'\n",
      "    writing manifest file 'scikit_surprise.egg-info\\SOURCES.txt'\n",
      "    copying surprise\\similarities.c -> build\\lib.win-amd64-3.8\\surprise\n",
      "    copying surprise\\similarities.pyx -> build\\lib.win-amd64-3.8\\surprise\n",
      "    copying surprise\\prediction_algorithms\\co_clustering.c -> build\\lib.win-amd64-3.8\\surprise\\prediction_algorithms\n",
      "    copying surprise\\prediction_algorithms\\matrix_factorization.c -> build\\lib.win-amd64-3.8\\surprise\\prediction_algorithms\n",
      "    copying surprise\\prediction_algorithms\\optimize_baselines.c -> build\\lib.win-amd64-3.8\\surprise\\prediction_algorithms\n",
      "    copying surprise\\prediction_algorithms\\slope_one.c -> build\\lib.win-amd64-3.8\\surprise\\prediction_algorithms\n",
      "    copying surprise\\prediction_algorithms\\co_clustering.pyx -> build\\lib.win-amd64-3.8\\surprise\\prediction_algorithms\n",
      "    copying surprise\\prediction_algorithms\\matrix_factorization.pyx -> build\\lib.win-amd64-3.8\\surprise\\prediction_algorithms\n",
      "    copying surprise\\prediction_algorithms\\optimize_baselines.pyx -> build\\lib.win-amd64-3.8\\surprise\\prediction_algorithms\n",
      "    copying surprise\\prediction_algorithms\\slope_one.pyx -> build\\lib.win-amd64-3.8\\surprise\\prediction_algorithms\n",
      "    running build_ext\n",
      "    building 'surprise.similarities' extension\n",
      "    error: Microsoft Visual C++ 14.0 or greater is required. Get it with \"Microsoft C++ Build Tools\": https://visualstudio.microsoft.com/visual-cpp-build-tools/\n",
      "    ----------------------------------------\n",
      "ERROR: Command errored out with exit status 1: 'C:\\Users\\LENOVO\\anaconda3\\python.exe' -u -c 'import sys, setuptools, tokenize; sys.argv[0] = '\"'\"'C:\\\\Users\\\\LENOVO\\\\AppData\\\\Local\\\\Temp\\\\pip-install-hlud0a9g\\\\scikit-surprise\\\\setup.py'\"'\"'; __file__='\"'\"'C:\\\\Users\\\\LENOVO\\\\AppData\\\\Local\\\\Temp\\\\pip-install-hlud0a9g\\\\scikit-surprise\\\\setup.py'\"'\"';f=getattr(tokenize, '\"'\"'open'\"'\"', open)(__file__);code=f.read().replace('\"'\"'\\r\\n'\"'\"', '\"'\"'\\n'\"'\"');f.close();exec(compile(code, __file__, '\"'\"'exec'\"'\"'))' install --record 'C:\\Users\\LENOVO\\AppData\\Local\\Temp\\pip-record-8v9vmqob\\install-record.txt' --single-version-externally-managed --compile --install-headers 'C:\\Users\\LENOVO\\anaconda3\\Include\\scikit-surprise' Check the logs for full command output.\n"
     ]
    }
   ],
   "source": [
    "!pip install surprise"
   ]
  },
  {
   "cell_type": "code",
   "execution_count": 90,
   "metadata": {},
   "outputs": [],
   "source": [
    "import surprise\n",
    "from surprise import SVD\n",
    "from surprise import KNNWithMeans\n",
    "from surprise.model_selection import GridSearchCV\n",
    "from surprise import Dataset\n",
    "from surprise import accuracy\n",
    "from surprise import Reader\n",
    "from surprise.model_selection import train_test_split"
   ]
  },
  {
   "cell_type": "code",
   "execution_count": 91,
   "metadata": {},
   "outputs": [],
   "source": [
    "reader = Reader(rating_scale=(0.5, 5.0))"
   ]
  },
  {
   "cell_type": "markdown",
   "metadata": {},
   "source": [
    "# Converting Pandas Dataframe to Surpise format"
   ]
  },
  {
   "cell_type": "code",
   "execution_count": 92,
   "metadata": {},
   "outputs": [],
   "source": [
    "data = Dataset.load_from_df(top_ratings_df[['userID', 'productID', 'ratings']],reader)"
   ]
  },
  {
   "cell_type": "code",
   "execution_count": 93,
   "metadata": {},
   "outputs": [],
   "source": [
    "# Split data to train and test\n",
    "from surprise.model_selection import train_test_split\n",
    "trainset, testset = train_test_split(data, test_size=.3,random_state=0)"
   ]
  },
  {
   "cell_type": "code",
   "execution_count": 94,
   "metadata": {},
   "outputs": [
    {
     "data": {
      "text/plain": [
       "surprise.trainset.Trainset"
      ]
     },
     "execution_count": 94,
     "metadata": {},
     "output_type": "execute_result"
    }
   ],
   "source": [
    "type(trainset)"
   ]
  },
  {
   "cell_type": "markdown",
   "metadata": {},
   "source": [
    "# Training the model"
   ]
  },
  {
   "cell_type": "markdown",
   "metadata": {},
   "source": [
    "KNNWithMeans"
   ]
  },
  {
   "cell_type": "code",
   "execution_count": 95,
   "metadata": {},
   "outputs": [
    {
     "name": "stdout",
     "output_type": "stream",
     "text": [
      "Estimating biases using als...\n",
      "Computing the pearson_baseline similarity matrix...\n",
      "Done computing similarity matrix.\n"
     ]
    },
    {
     "data": {
      "text/plain": [
       "<surprise.prediction_algorithms.knns.KNNWithMeans at 0x16532977910>"
      ]
     },
     "execution_count": 95,
     "metadata": {},
     "output_type": "execute_result"
    }
   ],
   "source": [
    "algo_user = KNNWithMeans(k=10, min_k=6, sim_options={'name': 'pearson_baseline', 'user_based': True})\n",
    "algo_user.fit(trainset)"
   ]
  },
  {
   "cell_type": "markdown",
   "metadata": {},
   "source": [
    "\n",
    "SVD"
   ]
  },
  {
   "cell_type": "code",
   "execution_count": 109,
   "metadata": {},
   "outputs": [
    {
     "data": {
      "text/plain": [
       "<surprise.prediction_algorithms.matrix_factorization.SVD at 0x16532bed790>"
      ]
     },
     "execution_count": 109,
     "metadata": {},
     "output_type": "execute_result"
    }
   ],
   "source": [
    "\n",
    "svd_model = SVD(n_factors=50,reg_all=0.02)\n",
    "svd_model.fit(trainset)"
   ]
  },
  {
   "cell_type": "code",
   "execution_count": 107,
   "metadata": {},
   "outputs": [],
   "source": [
    "from surprise import SVD"
   ]
  },
  {
   "cell_type": "markdown",
   "metadata": {},
   "source": [
    "# Evaluate both the models. ( Once the model is trained on the training data, it can be used to compute the error (like RMSE) on predictions made on the test data.) "
   ]
  },
  {
   "cell_type": "markdown",
   "metadata": {},
   "source": [
    "Popularity Recommender Model (RMSE)"
   ]
  },
  {
   "cell_type": "code",
   "execution_count": 110,
   "metadata": {},
   "outputs": [
    {
     "name": "stdout",
     "output_type": "stream",
     "text": [
      "The RMSE value for Popularity Recommender model is 1.0877906716540415\n"
     ]
    }
   ],
   "source": [
    "MSE = metric.mean_squared_error(pred_df['true_ratings'], pred_df['predicted_ratings'])\n",
    "print('The RMSE value for Popularity Recommender model is', sqrt(MSE))"
   ]
  },
  {
   "cell_type": "markdown",
   "metadata": {},
   "source": [
    "Collaborative Filtering Recommender Model (RMSE)"
   ]
  },
  {
   "cell_type": "code",
   "execution_count": 111,
   "metadata": {},
   "outputs": [
    {
     "name": "stdout",
     "output_type": "stream",
     "text": [
      "23755\n"
     ]
    },
    {
     "data": {
      "text/plain": [
       "list"
      ]
     },
     "execution_count": 111,
     "metadata": {},
     "output_type": "execute_result"
    }
   ],
   "source": [
    "print(len(testset))\n",
    "type(testset)"
   ]
  },
  {
   "cell_type": "markdown",
   "metadata": {},
   "source": [
    "KNNWithMeans"
   ]
  },
  {
   "cell_type": "code",
   "execution_count": 112,
   "metadata": {},
   "outputs": [
    {
     "data": {
      "text/plain": [
       "Prediction(uid='A1VQHH85U7PX0', iid='B006WHPQD6', r_ui=4.0, est=4.621052631578947, details={'actual_k': 0, 'was_impossible': False})"
      ]
     },
     "execution_count": 112,
     "metadata": {},
     "output_type": "execute_result"
    }
   ],
   "source": [
    "# Evalute on test set\n",
    "test_pred = algo_user.test(testset)\n",
    "test_pred[0]"
   ]
  },
  {
   "cell_type": "code",
   "execution_count": 113,
   "metadata": {},
   "outputs": [
    {
     "name": "stdout",
     "output_type": "stream",
     "text": [
      "RMSE: 0.9867\n"
     ]
    },
    {
     "data": {
      "text/plain": [
       "0.986661125737259"
      ]
     },
     "execution_count": 113,
     "metadata": {},
     "output_type": "execute_result"
    }
   ],
   "source": [
    "\n",
    "# compute RMSE\n",
    "accuracy.rmse(test_pred) #range of value of error"
   ]
  },
  {
   "cell_type": "markdown",
   "metadata": {},
   "source": [
    "SVD"
   ]
  },
  {
   "cell_type": "code",
   "execution_count": 114,
   "metadata": {},
   "outputs": [],
   "source": [
    "test_pred = svd_model.test(testset)"
   ]
  },
  {
   "cell_type": "code",
   "execution_count": 115,
   "metadata": {},
   "outputs": [
    {
     "name": "stdout",
     "output_type": "stream",
     "text": [
      "RMSE: 0.9519\n"
     ]
    },
    {
     "data": {
      "text/plain": [
       "0.9518785074298927"
      ]
     },
     "execution_count": 115,
     "metadata": {},
     "output_type": "execute_result"
    }
   ],
   "source": [
    "# compute RMSE\n",
    "accuracy.rmse(test_pred)"
   ]
  },
  {
   "cell_type": "markdown",
   "metadata": {},
   "source": [
    "Parameter tuning of SVD Recommendation system"
   ]
  },
  {
   "cell_type": "code",
   "execution_count": 116,
   "metadata": {},
   "outputs": [],
   "source": [
    "from surprise.model_selection import GridSearchCV\n",
    "param_grid = {'n_factors' : [5,10,15], \"reg_all\":[0.01,0.02]}\n",
    "gs = GridSearchCV(SVD, param_grid, measures=['rmse'], cv=3,refit = True)"
   ]
  },
  {
   "cell_type": "code",
   "execution_count": 117,
   "metadata": {},
   "outputs": [],
   "source": [
    "gs.fit(data)"
   ]
  },
  {
   "cell_type": "code",
   "execution_count": 118,
   "metadata": {},
   "outputs": [
    {
     "data": {
      "text/plain": [
       "{'rmse': {'n_factors': 5, 'reg_all': 0.02}}"
      ]
     },
     "execution_count": 118,
     "metadata": {},
     "output_type": "execute_result"
    }
   ],
   "source": [
    "# get best parameters\n",
    "gs.best_params"
   ]
  },
  {
   "cell_type": "code",
   "execution_count": 119,
   "metadata": {},
   "outputs": [
    {
     "name": "stdout",
     "output_type": "stream",
     "text": [
      "RMSE: 0.8537\n"
     ]
    },
    {
     "data": {
      "text/plain": [
       "0.8537376108377923"
      ]
     },
     "execution_count": 119,
     "metadata": {},
     "output_type": "execute_result"
    }
   ],
   "source": [
    "# Use the \"best model\" for prediction\n",
    "gs.test(testset)\n",
    "accuracy.rmse(gs.test(testset))"
   ]
  },
  {
   "cell_type": "markdown",
   "metadata": {},
   "source": [
    "# Get top - K ( K = 5) recommendations. "
   ]
  },
  {
   "cell_type": "code",
   "execution_count": 120,
   "metadata": {},
   "outputs": [],
   "source": [
    "from collections import defaultdict\n",
    "def get_top_n(predictions, n=5):\n",
    "  \n",
    "    # First map the predictions to each user.\n",
    "    top_n = defaultdict(list)\n",
    "    for uid, iid, true_r, est, _ in predictions:\n",
    "        top_n[uid].append((iid, est))\n",
    "\n",
    "    # Then sort the predictions for each user and retrieve the k highest ones.\n",
    "    for uid, user_ratings in top_n.items():\n",
    "        user_ratings.sort(key=lambda x: x[1], reverse=True)\n",
    "        top_n[uid] = user_ratings[:n]\n",
    "\n",
    "    return top_n"
   ]
  },
  {
   "cell_type": "code",
   "execution_count": 121,
   "metadata": {},
   "outputs": [],
   "source": [
    "top_n = get_top_n(test_pred, n=5)"
   ]
  },
  {
   "cell_type": "code",
   "execution_count": 122,
   "metadata": {},
   "outputs": [
    {
     "name": "stdout",
     "output_type": "stream",
     "text": [
      "A1VQHH85U7PX0 ['B00D6XW62I', 'B005KAK2FI', 'B001TOD7ME', 'B0036Q7MV0', 'B0000BZL5A']\n",
      "AA95DWUI3ODU ['B003O996G8', 'B0023B14TK', 'B003FMUPA0', 'B0096YOQRY', 'B007CMSEUM']\n",
      "A1Z7U9K6X3FEOU ['B000V1PAWQ', 'B00126PHV8', 'B00009R8EK', 'B003UEWF8I', 'B003EWGD1Q']\n",
      "A3NHUQ33CFH3VM ['B004CLYEFK', 'B00DKBU5W4', 'B0034CL2ZI', 'B00BOHNYTW', 'B0002SQ2P2']\n",
      "A23GFTVIETX7DS ['B002WE4HE2', 'B000TKHBDK', 'B005FDXZJU', 'B0002CPBWI', 'B00IX2VGFA']\n",
      "A6FIAB28IS79 ['B002TMRZOQ', 'B003ZSHNGS', 'B000SB9K5W', 'B000HZD2XK', 'B000FQ2JLW']\n",
      "A28J3123I1QDKI ['B003ES5ZUU', 'B005EOWBKE', 'B007IV7KRU', 'B0080XGJPY', 'B00426C56U']\n",
      "A3MFORLOKIOEQY ['B008EQZ25K', 'B0034CL2ZI', 'B00D1GYNT4', 'B001415FIG', 'B00JC5Y6WM']\n",
      "A18S2VGUH9SCV5 ['B0001DBEM4', 'B005DIQ2OC', 'B001AW8W7A', 1400501776, 'B004QK7HI8']\n",
      "AW68KVDV7BBRS ['B002QUZM0U', 'B000VDCT3C', 'B001542X64', 'B0054JJ0QW', 'B003ZSP0WW']\n",
      "A33ZYFE8XMKKR1 ['B001UHOR88', 'B000IZC19A', 'B0007Y79AI', 'B003YKFKR6', 'B005CLPP84']\n",
      "A39137LW12KK7B ['B003ES5ZUU', 'B00G4UQ6U8', 'B00HZWJGS8', 'B007WTAJTO', 'B005J7YA3W']\n",
      "A2RWHTNM5P3I8Y ['B004QOAF7O', 'B001NTFATI', 'B005HSDLCO', 'B006Z1J2JI', 'B00004T0RC']\n",
      "A37CEYB95LK6R6 ['B0056TYRMW', 'B00FGOTBQO', 'B004S4R5CK', 'B004R6NSQG', 'B005LFT3GG']\n",
      "ARBKYIVNYWK3C ['B00007IFED', 'B000TKHBDK', 'B009NHAEXE', 'B000TXEE14', 'B00DTPYRKC']\n",
      "A1T1YSCDW0PD25 ['B0099SMFVQ', 'B00IX2VGFA', 'B008JJLW4M', 'B00007IFED', 'B001OC6DCW']\n",
      "AXU8RH1DEV21H ['B006B7R9PU', 'B002VPE1Q6', 'B004XZY71G', 'B001F7AJKI', 'B005755U0I']\n",
      "A3SU7JSTPH9CC9 ['B003ZTKFEE', 'B000L47AHG', 'B001M4HXB2', 'B002ZIVKAE', 'B001BSQK8Q']\n",
      "A3EWJX7W1X7E79 ['B003FVVMS0', 'B003CJTQJC', 'B0002E51CQ', 'B003CY0SR6', 'B001NFOZ4I']\n",
      "AWHL379EE14K7 ['B00BLCVD9I', 'B004IZN3K2', 'B0056TYRMW', 'B002G1YPH0', 'B00AWBHFRI']\n",
      "A2M9ME0N2S3R39 ['B00299G80Q', 'B000AYGD8E', 'B00FF8ZRR8', 'B003AM8S3G', 'B00ESYW40S']\n",
      "A3G7BEJJCPD6DS ['B002GP7ZT6', 'B002FU5QM0', 'B0087NZ31S', 'B007LBOCVY', 'B0011YAOBE']\n",
      "A2W9I628I6SE1U ['B0082E9K7U', 'B00176TEGM', 'B00DTPYQBM', 'B002IJ95ZM', 'B00829TIEK']\n",
      "A2XXBZPQT5EXHV ['B001TH7GSW', 'B000N99BBC', 'B001UI2FPE', 'B002JQNXZC', 'B00005T3C8']\n",
      "A194Y47BF3CUTJ ['B005GGTTZ0', 'B000KO0GY6', 'B00004WCGF', 'B001E1Y5O6', 'B004AQ95A6']\n",
      "A11KZ906QD08C5 ['B00BW6KCTU', 'B001SER47O', 'B001TH7GSW', 'B00065X51U', 'B000F7QRTG']\n",
      "A214W7SK2DJQ99 ['B00092GM0Q', 'B004R6NSQG', 'B00HODL7ZI', 'B005DIYQA4', 'B009SJ7UWU']\n",
      "A30KPB2ILF6K6J ['B004G8QO8O', 'B00IF0JAIU', 'B0039BPG4C', 'B00452V66G', 'B00BWL33H8']\n",
      "A3EXWV8FNSSFL6 ['B00BQ4F9ZA', 'B000F9YN22', 'B001UI2FPE', 'B005IMFX2K', 'B002NEGTTW']\n",
      "A1CMD08Z49PGKQ ['B003ES5ZUU', 'B00081NX5U', 'B000067RT6', 'B00E98O7GC', 'B000HPV3RW']\n",
      "A10Y058K7B96C6 ['B000N99BBC', 'B0019EHU8G', 'B001QUA6RA', 'B004CLYEDC', 'B004LSNF04']\n",
      "ABSYIF0ONC2AF ['B002YU83YO', 'B000M2TAN4', 'B001UI2FPE', 'B004ELA0SS', 'B00BOHNYU6']\n",
      "ACHTDPEQYSEQL ['B000V5P90K', 'B0000CD08M', 'B004CLYEDC', 'B000N4WRFY', 'B000YIWR8G']\n",
      "ATOKT8QYK967L ['B00E3RH5W2', 'B007X3VC7W', 'B0015DYMVO', 'B00HFRWWAM', 'B0019X20R8']\n",
      "A17O9AHKHK66AI ['B00834SJNA', 'B007M4XML6', 'B0013FK9U2', 'B000FNFSPY', 'B009JP461G']\n",
      "A3HPCRD9RX351S ['B002JQNXZC', 'B002Y6CJJ8', 'B00CZDT30S', 'B000233WJ6', 'B000CP4ML6']\n",
      "A3ER6ARJ23CIN8 ['B00429N18S', 'B00G0OYHCW', 'B000WOK2ZM', 'B001D7REIK', 'B003WV5DJC']\n",
      "A3U41ZL33SS92P ['B00AJHDZSI', 'B000S5Q9CA', 'B002GP7ZT6', 'B00426C56U', 'B004SBBDB2']\n",
      "A3NGOG8Z78AZSD ['B004ELA0SS', 'B003LD4T0K', 'B004SCSV2U', 'B000RZQZM0', 'B004BP03YI']\n",
      "A3LDLV1GWQJLEQ ['B0081FLFQE', 'B00F19Q7AC', 'B0055MBQOW', 'B00EN27TCI', 'B007PTCFFW']\n",
      "A2QI2JHSIQ3SN3 ['B006U3O566', 'B0019EHU8G', 'B002IO2UM2', 'B007WTAJTO', 'B003M0NURK']\n",
      "ANFJYYQ0P35CW ['B009USAJCC', 'B00EQD5ZS4', 'B007R9M6PO', 'B0094S35W4', 'B000ETVKHE']\n",
      "A1H6SBO7R007I8 ['B008ALA6DW', 'B007471PZQ', 'B00829TIA4', 'B006K552SE', 'B005JLQL26']\n",
      "A1MRRMHGV3PN5W ['B003HIXOOG', 'B004HYGEOQ', 'B00829THEG', 'B002PHLZXC', 'B005TN0P7Q']\n",
      "A1G3DKT38DNZJP ['B002WE6D44', 'B00BWF5U0M', 'B005U2VAW0', 'B007FFIF0K', 'B008PO5CSI']\n",
      "A28621TSIR5EOG ['B0036QL1JY', 'B00APCMMDG', 'B000JE7GPY', 'B007WTAJTO', 'B002V88HFE']\n",
      "A203OCQQ12MAVT ['B0000X0VCY', 'B0013LQD7Y', 'B00102A066', 'B001H5T7LK', 'B000I992XY']\n",
      "A3VI2VETB90ZG5 ['B00IVFDZBC', 'B003CFATT2', 'B0039BPG1A', 'B00834SJNA', 'B00JC5Y6WM']\n",
      "A25FL6VLD7S23S ['B0011UIXLG', 'B003CK10DG', 'B00D429Y12', 'B000HJPK2C', 'B000EOSHGQ']\n",
      "A1EXGL6L0QQ0M5 ['B000M2TAN4', 'B003ES5ZR8', 'B004Y1AYAC', 'B001BTG3OQ', 'B009D79VH4']\n",
      "A21I62TCDL4754 ['B002NO7PWC', 'B000NP3DJW', 'B000BQ7GW8', 'B0018CJ9LA', 'B00829THEG']\n",
      "A1BT6TL7UCIC5Y ['B004CLYEFK', 'B0081FLFQE', 'B009SYZ8OC', 'B002TLTE6O', 'B002MPPHKY']\n",
      "ASHJAZC9OA9NS ['B000V1R96G', 'B0015C3UB8', 'B004AH10K8', 'B000WAT79S', 'B000TG4BA0']\n",
      "A2YRX8J4WM5BRX ['B00HNJWSH4', 'B001TZWNF0', 'B001TZUS98', 'B000O161X0', 'B00AXTQQDS']\n",
      "A3M7BCQKSQAK4L ['B008EQYRRY', 'B005ES0YYA', 'B002V8C3W2', 'B008EQZ25K', 'B00HVT27B8']\n",
      "A35HNL2VEDK9Z1 ['B000VDCTCI', 'B00005LEN4', 'B0099XGZXA', 'B00006JN3G', 'B001SJVU24']\n",
      "A30R8VFR16RE32 ['B00829THVO', 'B003YL412A', 'B000JLP5UK', 'B002KKZFJO', 'B003B3P2CE']\n",
      "A11R5VW7IM6ISQ ['B001TH7GUU', 'B000J0AON4', 'B0019X20R8', 'B0001FTVE0', 'B002VPE1WK']\n",
      "A1V4VVBQBFXRHC ['B0071BTJPI', 'B00K91DB7Y', 'B004SBBD1C', 'B000KO0GY6', 'B001WM73P0']\n",
      "A3PD8JD9L4WEII ['B002WE6D44', 'B004CLYEDC', 'B00HMREOLK', 'B000BQ7GW8', 'B005L2NA54']\n",
      "A1ZCSSCAGBCD49 ['B004ELA0SS', 'B009SYZ8OC', 'B0061HMRA2', 'B006EKIQYM', 'B0062IPIPQ']\n",
      "AT09WGFUM934H ['B009OBCAW2', 'B00A4ZXE40', 'B0001Y7UAI', 'B006H06TVG', 'B005KSAG3S']\n",
      "A34BZM6S9L7QI4 ['B002WE6D44', 'B00622AG6S', 'B00G4V0QSK', 'B0079UAT0A', 'B00E0EY7Z6']\n",
      "A2TVH2OBNXYXHV ['B008MWBY6W', 'B006K553LU', 'B001GAOYCS', 'B00AR95FOU', 'B002UAUZQW']\n",
      "A1SDPA1J98UP4L ['B00029U1DK', 'B002WE6D44', 'B002MCZJ78', 'B0015AARJI', 'B000MX48VM']\n",
      "A2QAOP52OEB5EV ['B003IHUHGE', 'B0030O0Q2U', 'B00001W0DI', 'B00000J1TX', 'B001F00F0E']\n",
      "AA8RBTN3J2F5H ['B000OLDG60', 'B005LJQMCK', 'B0058UUR6E', 'B003Y8DIRC', 'B00004ZCDD']\n",
      "A2WW57XX2UVLM6 ['B002WE0QN8', 'B001TANZ0W', 'B00ATM1MHO', 'B001M4HXB2', 'B0045TYDNC']\n",
      "A2858RV2VLI14X ['B00E3W15P0', 'B0034CL2ZI', 'B00847TOLC', 'B005Y8BYOE', 'B009DYOPJ6']\n",
      "AGEWOMQ90BV8R ['B00BQ4F9ZA', 'B004NY9UUK', 'B002DW99H8', 'B000MDJU06', 'B000IWTHYA']\n",
      "A316XO4RWX21YN ['B00D5Q75RC', 'B005IHAIJ8', 'B000E312X2', 'B000WALWW8', 'B00BQHD4B8']\n",
      "A361M14PU2GUEG ['B006ZH0KVG', 'B00080G0BK', 'B005ONMDYE', 'B007X4TGXI', 'B00CJLEHPM']\n",
      "A3Q1J68QY1MZQ9 ['B000136P8W', 'B002TLTE6Y', 'B000F34FVM', 'B000KJQ1DG', 'B00A81ICCE']\n",
      "A10PEXB6XAQ5XF ['B008EQZ25K', 'B001FA1O18', 'B000F9YN22', 'B00APCMMDG', 'B000S5Q9CA']\n",
      "A3JLOIXFM75QNV ['B000U9WVW6', 'B003CJTR8M', 'B00829TIEK', 'B00825BZUY', 'B0090IA4FO']\n",
      "A1PN2U0AWXGVML ['B003GSLU3E', 'B00139JBU2', 'B003M0NT1M', 'B000OFSN4G', 'B007PPYXOC']\n",
      "A3AYSYSLHU26U9 ['B001TOD7ME', 'B000FFISV8', 'B004XZHY34', 'B003M0NURK', 'B005IMFX2K']\n",
      "A11T807LX2EF00 ['B004CLYEFK', 'B003CFATT2', 'B004XW2NEW', 'B002YOENAS', 'B001GQ3DP6']\n",
      "A11EYMH9UV9XG7 ['B00D1GYNT4', 'B001OC6DCW', 'B000204SWE', 'B000165AOY', 'B0001VWHH2']\n",
      "A3FFZQKCA7UOYY ['B0019EHU8G', 'B001TH7T2U', 'B002JQNXZC', 'B000OGX5AM', 'B000OG88KY']\n",
      "A3TBMAWIIHKHFN ['B000CRFOMK', 'B002PAX9QU', 'B0013CED4I', 'B000NFIW98', 'B001G0MPBK']\n",
      "A3D5B2CBFNJB0K ['B00FRMAOIO', 'B001EPVOQY', 'B007PTCFFW', 'B00B59NO5S', 'B001S0LUCI']\n",
      "A2JP9E1H0SF392 ['B000VX6XL6', 'B000N99BBC', 'B002UUTCNE', 'B0002ZW5W4', 'B004CLYJ0K']\n",
      "AJX9A4Q19UTJU ['B000N99BBC', 'B00DQKQ7U8', 'B003CFATT2', 'B003FGB8H0', 'B00008OE5I']\n",
      "A33PVCHCQ2BTN0 ['B00E87E1OM', 'B00EO96W2I', 'B00006JN3G', 'B005LJQO9G', 'B009EPSJXM']\n",
      "A10H24TDLK2VDP ['B00BOHNYU6', 'B00E87E1OM', 'B00AQUO5RI', 'B009Z7KMUM', 'B002HWRJBM']\n",
      "A506HOOCVL8GW ['B003ES5ZUU', 'B007WTAJTO', 'B004J3V7RO', 'B00004WCIC', 'B00104XCVO']\n",
      "A3NCIN6TNL0MGA ['B003VANOI6', 'B005LS2GPI', 'B000TEVQVO', 'B00006IS4X', 'B0001FTVDQ']\n",
      "A2XQYE6TJYROHQ ['B004Q7J4W8', 'B000OT94PO', 'B00007056H', 'B004J16XB6', 'B000N35A0Y']\n",
      "A3E68EBGXTWDNP ['B00007EDZG', 'B003NSC2WU', 'B000HDFXU2', 'B00079SWNQ', 'B001GS8G06']\n",
      "A2IMLOJ2Z2QEU2 ['B003KPBRRW', 'B002MZUNXU', 'B00HWMPSF6', 'B00D68ZVY8', 'B0056YNA2A']\n",
      "A36MP37DITBU6F ['B00DXFDHV8', 'B008ULPAT2', 'B004L9M4C8', 'B00DQZPCTA', 'B0097CXWUW']\n",
      "A195EZSQDW3E21 ['B004V4IWHY', 'B003UI62AG', 'B007ILK234', 'B0035FZJHQ', 'B001EO6W8K']\n",
      "A20VG5W98SX99L ['B00429N18S', 'B003ES5ZR8', 'B00829TIEK', 'B001OOZ1X2', 'B003YGMECE']\n",
      "A38RMU1Y5TDP9 ['B005IMFX2K', 'B005FDXZJU', 'B003U7SR0U', 'B001TANZ0W', 'B00568BV68']\n",
      "A1F7YU6O5RU432 ['B005FDXZJU', 'B0044YPN0A', 'B004Q3R9AQ', 'B00BXAGSRU', 'B008X9Z44M']\n",
      "A2ZWJVKITA32OV ['B002RL875A', 'B002AKKFPI', 'B0002Z45DQ', 'B004YLCBRG', 'B000EW2XQ8']\n",
      "A2I6GN7OHB9JKF ['B000N99BBC', 'B001EAQTRI', 'B002RCNX8K', 'B005Q65JHM', 'B000HDJXMQ']\n",
      "AQCJWSMSURQI2 ['B004CLYEFK', 'B001OC6DCW', 'B0034CL2ZI', 'B00176TEGM', 'B00EMHVVNM']\n",
      "A209G57KXCBF4C ['B00COHALOM', 'B00A9NE84C', 'B003SX0NFI', 'B002DUEBIC', 'B0093IZOV0']\n",
      "A1MNN0ZMHYPJDU ['B002WE6D44', 'B004TPPWT6', 'B002Y3139I', 'B004VTF7IG', 'B008TT7CXW']\n",
      "A27H0T39U3FZB5 ['B004ELA0SS', 'B00D6XW62I', 'B003CK10DG', 'B004TBBSNY', 'B008YDTRZ4']\n",
      "A1NQFT941TOTT7 ['B0056TYRMW', 'B002V8C3W2', 'B00E95OT6I', 'B0089ZV1WY', 'B002RCNX8K']\n",
      "A3FS3FJPD3RJTD ['B007KZQM8W', 'B0035ERKYW', 'B004MMEI6Y', 'B002SZEOLG', 'B005X9XVNQ']\n",
      "A34VRVI4CSI5RQ ['B001FVLTNA', 'B001H4B0AC', 'B00IRRDHUI', 'B002M38I2U', 'B00D429Y12']\n",
      "AWPODHOB4GFWL ['B000N99BBC', 'B002WE4HE2', 'B001HSOFI2', 'B000F9YN22', 'B005DIQ2OC']\n",
      "A2RU4U1JZ3DMP5 ['B00017LSPI', 'B001TH7GUU', 'B001G445Q4', 'B000L47AHG', 'B002JCSV8A']\n",
      "A2503LT8PZIHAD ['B003L1ZYZ6', 'B00DR6DQZA', 'B0079UAT0A', 'B0074703CM', 'B005I6EU48']\n",
      "A2BYV7S1QP2YIG ['B003ZUIHY8', 'B00C20KWP4', 'B00A0JUNWQ', 'B00DR6DQZA', 'B003WUBIZQ']\n",
      "A2D0CO1OA6DSWY ['B003Y2TD3G', 'B005KSAG3S', 'B0000A2QBP', 'B005A0B7CA', 'B004N625B4']\n",
      "A2QNS95WGN35G9 ['B002TMRZOQ', 'B003ES5ZUU', 'B0029EB3OC', 'B000V07N9U', 'B000UH8I66']\n",
      "A2SATO5BNKWY3Y ['B000V7AF8E', 'B004LNXO28', 'B000GU88CQ', 'B00109Y2DQ', 'B002C97CAI']\n",
      "A2MOD50IHEDH3G ['B0019EHU8G', 'B000QUUFRW', 'B0002IWC9C', 'B0074CISLK', 'B004I8WH74']\n",
      "AW5JSQCHC2ZJO ['B000JMJWV2', 'B00139JBU2', 'B0015AARJI', 'B008M0NDRM', 'B00EXPNFQO']\n",
      "ATDE9JYCPI0L1 ['B003NR57BY', 'B00004SB92', 'B0006HTZ76', 'B000JLKIHA', 'B0000632FZ']\n",
      "A34CSXOGVYF94S ['B004ELA0SS', 'B00DTZYHX4', 'B001F51G16', 'B00HHRP11C', 'B0023B14TK']\n",
      "A20OBCQWBKCGZT ['B00IVFDZBC', 'B002TLSOGA', 'B000O8WE66', 'B0079UAT0A', 'B002IC0YL8']\n",
      "A377LPVLLAI42D ['B003SGCO3E', 'B000BWACX2', 'B0002XQJFA', 'B000HVXD3S', 'B00007JDRV']\n",
      "A2I18AO597DSDI ['B006ZT4VA0', 'B00012OJ22', 'B000IVDIL4', 'B000AP05BO', 'B001O94GNS']\n",
      "A18YMFFJW974QS ['B001TH7T2U', 'B00BOHNYU6', 'B001T9NUJE', 'B001MXLD4G', 'B00CSDMWGW']\n",
      "A1RDHBBZE1NPS3 ['B005O0R99Q', 'B005CRQLSG', 'B00BCHHZGW', 'B007EHI1DK', 'B0018LX0DY']\n",
      "AT8V3JOZD3KWK ['B005IHAIHA', 'B001TZWNF0', 'B007DJGHF8', 'B0030BJEUS', 'B000EMWBT2']\n",
      "AG2YXYIQ8TLTA ['B002M3SOCE', 'B00F3SIQKK', 'B0044DEDC0', 'B008ULPA2O', 'B00829THK0']\n",
      "A3A15L96IYUO6V ['B002MZUNXU', 'B007KZQM8W', 'B00176TEGM', 'B00004Z6Q6', 'B003M0NURK']\n",
      "A215WH6RUDUCMP ['B0082E9K7U', 'B0079UAT0A', 'B009YQ8BTI', 'B0057UUB1G', 'B00489SLEQ']\n",
      "A2IFGGXG3YV3Y6 ['B00004RC2D', 'B00CEZBKTO', 'B001EZUQ5E', 'B00426C56U', 'B00634PLTW']\n",
      "A1W415JP5WEAJK ['B00CSDMWGW', 'B00G4UQ6U8', 'B00BERGFV6', 'B0053R0WWG', 'B000VX6XL6']\n",
      "A2SYAQXJGRY3XE ['B000144I2Q', 'B001TZWFBM', 'B00005LEOH', 'B0007VPFI4', 'B00009UTL1']\n",
      "A2KYRPDKVBI2R4 ['B000N99BBC', 'B0039BPG1A', 'B006QB1RPY', 'B005EWTKN2', 'B0018QTWH2']\n",
      "AUUV3XDYB16X5 ['B00E3W15P0', 'B005LFT3GG', 'B003QSG0HK', 'B000VS4HDM', 'B0079M711S']\n",
      "AQB4DH57MSZSC ['B00D1GYNT4', 'B009NHWVIA', 'B00829THVO', 'B005NHR6MU', 'B000BFNT0W']\n",
      "A2ZDY0V4Q1SZD7 ['B003ES5ZUU', 'B003YNQ6MG', 'B0019SVUQK', 'B00E055H5O', 'B003SX0P1A']\n",
      "A14MZJTZAQS6CV ['B00011KM38', 'B008LTBITY', 'B00B4GGW5Q', 'B0062EUE54', 'B005LFT3GG']\n",
      "A259MPG6SOL02P ['B009SYZ8OC', 'B004W2JKWG', 'B00004TDN2', 'B002WE4HE2', 'B00007M1TZ']\n",
      "AG7EF0SVBQOUX ['B00AYB9PUQ', 'B004WB8EYM', 'B001TZUS98', 'B00007E7JU', 'B004QZFOF6']\n",
      "A1UQBFCERIP7VJ ['B005UA3I72', 'B00GMTN96U', 'B00834SJSK', 'B00ISGCAJM', 'B00G4V0QSK']\n",
      "A6VPK7X53QNAQ ['B00FJWKYYG', 'B0012GK3MQ', 'B00176TEGM', 'B0001G6U4S', 'B002J9HBIO']\n",
      "A2NOIWPJDD7WIQ ['B0067PLM5E', 'B009USAJCC', 'B00D7NZLK6', 'B0063K4NN6', 'B000HJ5N2Y']\n",
      "A2NN1KIYEM2SKS ['B000MX48VM', 'B0036V9AGU', 'B003X7TRWE', 'B000S5Q9CA', 'B000NMFCIA']\n",
      "A3QNX5KWHDV0GD ['B000BY52NK', 'B000J43HJ8', 'B00005LEN4', 'B007JGB8R2', 'B000BYCKU8']\n",
      "A2UOHALGF2X77Q ['B0052SCU8U', 'B0015AARJI', 'B00FJRS5BA', 'B000M17AVO', 'B00FR6VL50']\n",
      "AYB4ELCS5AM8P ['B004NHCGJO', 'B000BQ7GW8', 'B00CD8ADKO', 'B000Q85WRC', 'B004CLYEFK']\n",
      "A3T4OHEAHOJ700 ['B001TH7GSW', 'B008MF48J4', 'B004FHO5Y6', 'B00829TIEK', 'B004ULOZPQ']\n",
      "A3CKI6VEH0HBMJ ['B001BM5XB2', 'B003WV5DJC', 'B001G5ZTN6', 'B003LZYXYU', 'B002TQ6HT6']\n",
      "A3VZH0PWLQ9BB1 ['B007GMPZ9Q', 'B008MF3X9K', 'B005KELR3A', 'B00000K13A', 'B003WU6KFO']\n",
      "A307Y3LMCVEZS1 ['B002WE6D44', 'B001FA09WI', 'B001FWKA7A', 'B001VL572I', 'B006LD7VP2']\n",
      "A10ZBR6O8S8OCY ['B003FVJYF8', 'B002TLTE6O', 'B001E1Y5O6', 'B008VMT2HQ', 'B00E87E1OM']\n",
      "A3KTWUXXB8KKC7 ['B000EDK8V4', 'B003XIJ3MW', 'B001A4KAFK', 'B005X1Y7I2', 'B000RZQZM0']\n",
      "AQIJ3ZEEVCIKU ['B004U1Y3IU', 'B00FZ9SMVU', 'B0025VKUQQ', 'B001KHCESS', 'B009JPBPWO']\n",
      "ATZJNEXX7LWD3 ['B00E98O7GC', 'B001TH7GT6', 'B00834SJSK', 'B002VPE21A', 'B003CJTQJW']\n",
      "A2TN0U8173HM7A ['B001DFS49U', 'B004YDUZ22', 'B004CANMCC', 'B0035B4LJM', 'B0049SCB2Y']\n",
      "A5JLAU2ARJ0BO ['B0000642RX', 'B000Q8621C', 1400532655, 'B0007GIXQU', 'B00015GYU4']\n",
      "AFR9GYKAHM37U ['B00005T3G0', 'B0055QYKQO', 'B0055QYJIS', 'B000P1O73A', 'B000FAKUE6']\n",
      "A2PJH18W4XHTZW ['B003L1ZYZ6', 'B002V88HFE', 'B00429N18S', 'B001423GZO', 'B008B488DI']\n",
      "A2Z2MUP8JRJXEU ['B002NEGTTW', 'B00009XVCZ', 'B0001VGFKW', 'B000NP46K2', 'B00FSA8VQ2']\n",
      "A100WO06OQR8BQ ['B00AJHDZSI', 'B000HPV3RW', 'B00006HSYC', 'B003XM73P2', 'B000PGDT8O']\n",
      "A2NOW4U7W3F7RI ['B00017LSPI', 'B00G4UQ6U8', 'B00HZWJGS8', 'B00CD8ADKO', 'B004IK2EAW']\n",
      "A1QVFHPY8418HC ['B00009EHJV', 'B001OOZ1X2', 'B000RZQZM0', 'B00077AA5Q', 'B004CLYEDC']\n",
      "A3O5ASFUXC32UA ['B0009RGLSE', 'B00009R6N0', 'B002CVU4G0', 'B005IHAI8O', 'B007PZALFC']\n",
      "A1NRMTQ5SZPZA ['B00139W0XM', 'B00834SJSK', 'B002WE4HE2', 'B00829THK0', 'B005J31BCY']\n",
      "A8CKH8XB33XGN ['B001QUA6RA', 'B005DKZTMG', 'B002QAUN2M', 'B006U3O566', 'B00CO8TBQ0']\n",
      "AGYH5U11ZKPFB ['B0019EHU8G', 'B006U3O566', 'B002YU83YO', 'B003X7TRWE', 'B000OG88KY']\n",
      "A2SNE4QQGVP13U ['B000N99BBC', 'B000O8I474', 'B001CIREXA', 'B009O7YUF6', 'B005869A16']\n",
      "AHQRU3MRORIWQ ['B008EQYRRY', 'B000N99BBC', 'B002Y6CJJ8', 'B002HWRJY4', 'B008LCYIEI']\n",
      "AZBXKUH4AIW3X ['B00029U1DK', 'B005LDLP8W', 'B001NS0OZ4', 'B0003QIXBY', 'B005GZ235E']\n",
      "A3T8WOFS5RD2IR ['B000EOMXM0', 'B000AP05BO', 'B0019X20R8', 'B000JO3Y1O', 'B001B0GWVE']\n",
      "A1ILWPH1GHUXE2 ['B0074FGLUM', 'B000053HC5', 'B0094S35W4', 'B002LARRDA', 'B0040JHVC2']\n",
      "AZ515FFZ7I2P7 ['B002V88HFE', 'B00COF7DGS', 'B00EOI2SR2', 'B007BZRXK2', 'B00004ZC8Y']\n",
      "A20DZX38KRBIT8 ['B004YLCFCM', 'B001EYV9TM', 'B000VJWJW2', 'B000FDOWQK', 'B005DLDO4U']\n",
      "A1MFAPVBW9BEGD ['B0016D1I0G', 'B005FYNSPK', 'B00746W3HG', 'B008LTBITY', 'B00FOTF8M2']\n",
      "A87N6UTYA6NOB ['B00029U1DK', 'B000067RVL', 'B007I5JT4S', 'B00483WRZ6', 'B0002MQGRM']\n",
      "A1ZU55TM45Y2R8 ['B007KEZMX4', 'B004MF11MU', 'B001212ELY', 'B003ZTKFEE', 'B00834SJNA']\n",
      "A2RS66Y79Q8X0W ['B002NEGTTW', 'B0040JHG86', 'B002NO7PWC', 'B003YM04NO', 'B005PQTYHE']\n",
      "ABIVKBMSIPEDY ['B005KAK2FI', 'B00BOHNYU6', 'B005GVAWXS', 'B0039BPG1K', 'B003WOWB5S']\n",
      "A1KD8NJPZ01R37 ['B0047T79J0', 'B001F0RPGG', 'B005FVDTAW', 'B000PALZE0', 'B0070UFMOW']\n",
      "A17BUUBOU0598B ['B001DJ64D4', 'B000TKHBDK', 'B0043M668G', 'B004CLYEDC', 'B004CLYE8C']\n",
      "AGVWTYW0ULXHT ['B002WE6D44', 'B005FDXZJU', 'B00829TIA4', 'B005IMFX2K', 'B00BERGFV6']\n",
      "A1B4MIXYVIKMU2 ['B00001WRSJ', 'B004CLYEFK', 'B00B588HY2', 'B001EYV9TM', 'B000JMJWV2']\n",
      "A231WM2Z2JL0U3 ['B00006LV79', 'B00004Y2MM', 'B0007TJ5OG', 'B00008OE5G', 'B00007K3A3']\n",
      "A2ZRG5NOFZ47RK ['B002V88HFE', 'B0000BZL1P', 'B00834SJSK', 'B003TLAMV4', 'B0009Y7APU']\n",
      "A2GKMXRLI7KLFP ['B001C271MA', 'B004W2JKWG', 'B0030MITDK', 'B0033TJPJW', 'B004SBBD8U']\n",
      "A3EK2KTYHJCPB9 ['B008EQZ25K', 'B000N99BBC', 'B002T45WXU', 'B008X9Z44M', 'B0009GZAGO']\n",
      "A27ADCSD15F3GL ['B00FJRS5BA', 'B007ILFFS6', 'B008EC4O76', 'B004XZHY34', 'B000RZQZM0']\n",
      "A10ZFE6YE0UHW8 ['B00029U1DK', 'B000N99BBC', 'B001MSU1FS', 'B003L139HG', 'B00007IFED']\n",
      "A3094EPI56GKZ6 ['B004XW2NEW', 'B003M0NT1M', 'B00COYOAYW', 'B00DQZQPNM', 'B00ISRUFSY']\n",
      "A1Z4GII5CHCDG7 ['B000FL9E6K', 'B006QB1RPY', 'B001BLTDZA', 'B000RGR50U', 'B000CCXCYC']\n",
      "AKBVYIIHWI04B ['B009SYZ8OC', 'B00E055H5O', 'B0049YQVHE', 'B009JPBPWO', 'B00609B3J2']\n",
      "A2BCDZO1XQLDH ['B007R9M6PO', 'B000F34FVM', 'B002HWRJBM', 'B00007LTBI', 'B00DDK1QUC']\n",
      "A1U4GOVZWL8ZTL ['B001ENW61I', 'B00001WRSJ', 'B002V88HFE', 'B0036Q7MV0', 'B0010HE2CY']\n",
      "A6VXZ1EEPRTLV ['B000HPV3RW', 'B00G4UQ6U8', 'B002V88HFE', 'B00DK2JQOQ', 'B000H4CLXS']\n",
      "ADOR3TR7GDF68 ['B001TH7GUU', 'B00461E7JE', 'B0027AGK3M', 'B008CXTX7S', 'B00003CWDH']\n",
      "AYGEKID3G7DPW ['B004DBD4TG', 'B0083XTQ42', 'B006QB1RPY', 'B0012J52OC', 'B004VGBDYG']\n",
      "A3KZ7OH4VRL048 ['B004CLYEDC', 'B00CDIK908', 'B008PQAFR4', 'B004CLYE8C', 'B000IV6S9S']\n",
      "A2PC9ZZIFV31B1 ['B0044YPN0A', 'B008SFPMRK', 'B002HWJT1A', 'B000068O3L', 'B001R6NGG6']\n",
      "A34UVV757IKPVB ['B001UI2FPE', 'B00834SJSK', 'B004CLYEFK', 'B00003CWDG', 'B004CLYE8C']\n",
      "A2AC6GQ24S45GA ['B00IVFDZBC', 'B002QAUN2M', 'B004CLYEDC', 'B001AAOZHI', 'B000PGHCG4']\n",
      "A2XRMQA6PJ5ZJ8 ['B004V4IWHY', 'B0054JJ0QW', 'B000MX48VM', 'B0043WJRRS', 'B007BWTOHU']\n",
      "A1OO9N1MRNQ7K0 ['B003SGCO3E', 'B003XMROKG', 'B005WKIKA0', 'B000067RT6', 'B000EITTLE']\n",
      "A2ZFFSJ0VM6KSJ ['B008AST7R6', 'B00AAIPT76', 'B006ZP8UOW', 'B00CDS9HTM', 'B004IUVEB2']\n",
      "A3EZEP0FX5BC1P ['B00FR6VL50', 'B00008I9K8', 'B00030DEQE', 'B00COF7DGS', 'B000HDJT4S']\n",
      "A1L1N3J6XNABO2 ['B004Q3R9B0', 'B000E8SY5G', 'B007US83IG', 'B0090F8JAE', 'B0013EXTZU']\n",
      "AFM7FK7NFEKFZ ['B000EN62YG', 'B005E1CGZC', 'B000FIH0ZA', 'B0079MX4Q4', 'B000X1S3VO']\n",
      "A1WF4QNIE2Z3I7 ['B004RORMF6', 'B0099SMFVQ', 'B00GTGETFG', 'B009NB8WR0', 'B000S5Q9CA']\n",
      "A2F7CSE6KT7NI4 ['B002RWJHBM', 'B000Q82PIQ', 'B000GQMHBI', 'B0037BQJPE', 'B00D78Q2AO']\n",
      "AQR4HPVSOPS08 ['B003ES5ZUU', 'B003ES5ZR8', 'B002JQNXZC', 'B003FVVMS0', 'B005PZDVF6']\n",
      "A2PSC7LUNIDEAH ['B001NJ0WCS', 'B00AQUO5RI', 'B00BQ4SBSM', 'B00CWEG5H4', 'B0018DKODQ']\n",
      "A197T2N6RU7K56 ['B003L1ZYZ6', 'B001342KM8', 'B000F7QRTG', 'B001KB6Z2U', 'B001QFZMBU']\n",
      "AHR86ZEYETLJI ['B005LFT3GG', 'B008B488DI', 'B0039BPG1K', 'B0049WBZ1I', 'B00C980Z2O']\n",
      "A21VM9WVF8EOSJ ['B001342KM8', 'B003QKBVYK', 'B0045JHJSS', 'B004H1MCKY', 'B001207YMY']\n",
      "A2HDTOF8222KN3 ['B00011KM38', 'B007BYLO4E', 'B0009WU65I', 'B007P4VOWC', 'B0007U0IQE']\n",
      "A3AG5QAT8L0I3R ['B006W8U2MU', 'B00D1GYNT4', 'B0035J7XG2', 'B00829TIEK', 'B0079TOET8']\n",
      "AQM0K7MBBT4AY ['B00FR6VL50', 'B00BFO14W8', 'B008X1BV2Y', 'B005GVAWXS', 'B0011E87QI']\n",
      "A1PSVZBM894R5H ['B003CJTQJC', 'B000U9WVW6', 'B000HGQJZW', 'B003M2YT96', 'B0021Y73W6']\n",
      "A3T7V207KRDE2O ['B004CLYEFK', 'B00D6XW62I', 'B000BYCKU8', 'B003I4FHNA', 'B001ASU1QO']\n",
      "A204K1OFE8OB9Y ['B0001Y7UAI', 'B000QU1QVG', 'B00BFRKYVM', 'B0062EUE54', 'B00110ENQ0']\n",
      "A34DQINHT6NYJU ['B0079UAT0A', 'B00829TIA4', 'B009YQ8BTI', 'B008MWBY6W', 'B001G5ZTZO']\n",
      "A3GQY0TFRG0MPZ ['B004RFBIUU', 'B0043BNF4U', 'B0040IO1RQ', 'B002HMWQE2', 'B00FFJ0HUE']\n",
      "A1H4IVXNXWWBLV ['B003MQWN40', 'B007QOX5A0', 'B00004ZC8Y', 'B00005125T', 'B002VPE1WK']\n",
      "A35SNSDRNE9P8Q ['B0035ERKYW', 'B00829THH8', 'B007QOX5A0', 'B003B8PPEY', 'B000CMS0XU']\n",
      "A3HC7NWLKCPX4X ['B0034JLTNG', 'B003PJ6QVU', 'B00003006E', 'B00AN9Q8WC', 'B0083B6HEQ']\n",
      "A1F9Z42CFF9IAY ['B000JV9LUK', 'B001TH7GSW', 'B00001WRSJ', 'B000LRMS66', 'B004TJ6JH6']\n",
      "A3MQ15651KGVLJ ['B000N99BBC', 'B0052SCU8U', 'B0009MX5R4', 'B00HFRWWAM', 'B004CLYEH8']\n",
      "A3E049PVKG7NDK ['B008GVNP2K', 'B004DI7DFU', 'B00DTPYRTI', 'B00AEGRGNO', 'B005LDJERQ']\n",
      "A33YZNZIRA3H97 ['B00BOHNYTW', 'B00006I5J7', 'B00009R6N0', 'B00HNJWSH4', 'B00DTPYQBM']\n",
      "A1CPRP3VFJRS1R ['B00429N18S', 'B005FYNSPK', 'B004HKIB6E', 'B0002L5R78', 'B001PS9E5I']\n",
      "A680RUE1FDO8B ['B000EVSLRO', 'B006JH8T3S', 'B001TOD7ME', 'B0012Y2LLE', 'B000RZQZM0']\n",
      "A1P0JSFW184ZXJ ['B001OC6DCW', 'B005DIQ2OC', 'B000CKVOOY', 'B002TLTE6O', 'B007KEZMX4']\n",
      "A32NEDX6UVV8DE ['B006QB1RPY', 'B007YKUWN4', 'B004AP9FSE', 'B0097BEFYA', 'B003GGXGU6']\n",
      "A30X750M8V1XXW ['B00CD8ADKO', 'B0043M668G', 'B0002VAQR4', 'B001XURPQI', 'B0007WK8KS']\n",
      "A16C19G0I2DE8S ['B008YLD7XE', 'B008MDSWI4', 'B002LITI70', 'B009JP461G', 'B008I636D6']\n",
      "AROQO2VDODT7 ['B00017LSPI', 'B002W2Y8PC', 'B000KO0GY6', 'B002K3Z3DO', 'B00009XVCU']\n",
      "A141R97FHSSUQ0 ['B00DR6DQZA', 'B004QGXOOI', 'B006DEBYWU', 'B003VANOI6', 'B005DOUJL8']\n",
      "AGXMC3ITWZASE ['B00005LEN4', 'B0002XQDSS', 'B001O94GNS', 'B0023B14TK', 'B001I45T9O']\n",
      "AFHYEO3Y1IIDD ['B004N625B4', 'B004RKQM8I', 'B0048IATQ0', 'B00475XLOG', 'B00EMZC11K']\n",
      "A6XLG77BC9R8R ['B001MSU1FS', 'B0028Y4DCC', 'B006J1ZAR2', 'B003FPD3IS', 'B003WOWB5S']\n",
      "A1VLVWTLV3LVHR ['B002J9HBIO', 'B0040702HA', 'B0000A602S', 'B001B3A6DQ', 'B001AD0QPA']\n",
      "A3VVMIMMTYQV5F ['B001342KM8', 'B0015AARJI', 'B001DK1ZVO', 'B003BYRGJU', 'B004ALYGI2']\n",
      "A18A5VSD0IPN14 ['B0019EHU8G', 'B00BGGDVOO', 'B0081EC08M', 'B006G5ZVA2', 'B002LITI70']\n",
      "A3CW0ZLUO5X2B1 ['B007WTAJTO', 'B00B588HY2', 'B0093H4WT6', 'B004CLYEFK', 'B004CLYE8C']\n",
      "A31RZMVAFMLB8B ['B00017LSPI', 'B0056TYRMW', 'B00007GQLU', 'B0002KVQBA', 'B001M5K4EO']\n",
      "A1UNJ46NSB352E ['B00HFRWWAM', 'B006U1YUW2', 'B003MVZ60S', 'B00JC5Y6WM', 'B005HMBQR2']\n",
      "A3OA4DV4L81N1D ['B000QUUFRW', 'B002WE0QN8', 'B008AL9VXI', 'B006JINHYS', 'B00829TIEK']\n",
      "A1C82BC5GNABOA ['B00009XVCZ', 'B000I1YIDQ', 'B00009USW3', 'B00A9S3OOC', 'B004LEAYXY']\n",
      "A2Y29IRSI08F0I ['B001V9KG0I', 'B003XIJ3MW', 'B007PRHNHO', 'B002CA19W4', 'B004J3ZV62']\n",
      "A96JD9312DHWC ['B00829THVO', 'B009NHWVIA', 'B00CKAOJA0', 'B008ULPAT2', 'B008ULPA2O']\n",
      "A206CGM6J75UJY ['B000QUUFRW', 'B000IF51UQ', 'B003XIJ3MW', 'B007PRHNHO', 'B003B8PPEY']\n",
      "A1OGCPMSIVK7G4 ['B007WTAJTO', 'B000QUUFRW', 'B000HPV3RW', 'B00BT7RAPG', 'B009WU5XUG']\n",
      "A2L90SGUP36KGA ['B003WV5DJC', 'B000I1X3W8', 'B0049XGNKK', 'B00007E7K1', 'B000BSN4UY']\n",
      "A14JBDSWKPKTZA ['B006K553LU', 'B004CLYEDC', 'B003LR7ME6', 'B002RCNX8K', 'B00001ZWXA']\n",
      "A3JU990UTN5RQP ['B0052SCU8U', 'B003VSTDFG', 'B0047XUFH4', 'B003WV5DLA', 'B00AQM8586']\n",
      "A13BX9O5UDBILC ['B002V88HFE', 'B0035FZJHQ', 'B002K9IHGI', 'B009YQ8BTI', 'B009LL9VDG']\n",
      "A4WEZJOIZIV4U ['B00CKAOJA0', 'B00E3W15P0', 'B00DT04I9W', 'B00L3YHF6O', 'B0015AARJI']\n",
      "A11EXFO14WEJM1 ['B0081FLFQE', 'B009OZUPUC', 'B00HRQB28Y', 'B0001G6U52', 'B000MANFIC']\n",
      "A20H1M28WLI9J2 ['B001Q3MA80', 'B00180LGX6', 'B00BTVTA0U', 'B004S7QKDC', 'B001B96HLU']\n",
      "A9BWUH9XKZ2DQ ['B007WTAJTO', 'B004SCSV2U', 'B000FJUMWC', 'B0055YB7IA', 'B00456V6WG']\n",
      "ABQWMANK4AR63 ['B004RORMF6', 'B002V8C3W2', 'B00E3W15P0', 'B009XN9GQY', 'B008ALAHA4']\n",
      "A3QDY9I0CNMD2W ['B001TH7GUU', 'B0002D6QJO', 'B000096B01', 'B0026MTCFY', 'B003D5MY5I']\n",
      "A33XMCG1UFDSY2 ['B000TKHBDK', 'B003XIJ3MW', 'B000LRMS66', 'B000TXEE14', 'B00AXZWG8Q']\n",
      "A22I55P15NSAOX ['B00D6XW62I', 'B001NJ0WCS', 'B00GHY5F3K', 'B005J31BCO', 'B009PK2MNY']\n",
      "A3TR3KLL5PXSZ8 ['B004WB8EYM', 'B000A1SZ2Y', 'B005KEL4NI', 'B003F2DA2A']\n",
      "A3TBMGNSEQBWIL ['B001TH7GUA', 'B004CADY9I', 'B006EWUOL8', 'B000MBUSD6', 'B001GN5OLK']\n",
      "A16RI68PS6T5CA ['B000N99BBC', 'B00CI3BIWQ', 'B009A6CZ30', 'B00DQKQ7U8', 'B00EO302SO']\n",
      "A3V7D0LH8L7BG0 ['B00BOHNYU6', 'B0025VKUQQ', 'B001PS9UKW', 'B000EXS1BS', 'B0079T724W']\n",
      "AR74YY08IP2WE ['B00HFRWWAM', 'B0093H4WT6', 'B00HR7FWUC', 'B009VV56TY', 'B008AF383S']\n",
      "A1VGXHHR08G044 ['B009B0MZ8U', 'B0023B14TK', 'B00B7X2OTY', 'B00834SJNA', 'B001F51G16']\n",
      "A376OJHLE6SU9Q ['B002TLTE6Y', 'B004CLYEDC', 'B000F34FVM', 'B00HFRWWAM', 'B00FRMAOIO']\n",
      "A24J2Y1O22JYZX ['B000068O1A', 'B001F5FI3S', 'B000AM3U2I', 'B001V9LA44', 'B0033TJPJW']\n",
      "A3IK2VCQ007CJ ['B00834SJNA', 'B00429N18S', 'B008EC4O76', 'B007BJHETS', 'B007476KRY']\n",
      "A3J8A5L5AF5TX9 ['B001TH7GSW', 'B000JMJWV2', 'B0001Y7UAI', 'B000I23TTE', 'B001W28L2Y']\n",
      "A1GBU479WXR7UG ['B00CD8ADKO', 'B0074BW614', 'B005680BX2', 'B001D60LG8', 'B00486T134']\n",
      "AKX9EQ37PAYMY ['B001BM5XB2', 'B002N2EHVQ', 'B00834SJNA', 'B001O4EPHA', 'B0012GK3MQ']\n",
      "A2SKEQT0WTB954 ['B002ZIMEMW', 'B00C20KWP4', 'B0099XGZXA', 'B0002XQDSS', 'B003QVWJM2']\n",
      "A1A5KUIIIHFF4U ['B005FYNSPK', 'B00007IFED', 'B003ULJU2A', 'B004U1Y3IU', 'B004TBBSNY']\n",
      "A298GL2D0BHGKZ ['B003VAM32E', 'B001ID829O', 'B00AWBHFRI', 'B0001XGQTA', 'B005KG44V0']\n",
      "A3PCEB9ND82AGE ['B008OHNZI0', 'B00083LFW6', 'B00CU9GOAO', 'B0043T7FXE', 'B008D2IHES']\n",
      "AO2EURP2Y4JZM ['B001CIREXA', 'B0042FZ50O', 'B002Z2QDNE', 'B004CLYE8C', 'B003FGB8H0']\n",
      "A38KK0SZYEH5UD ['B00BOZ1Y46', 'B0081FLFQE', 'B000VDCTCI', 'B00009MDBQ', 'B003KPBRRW']\n",
      "A1V3TRGWOMA8LC ['B003ES5ZUU', 'B00DTZYHX4', 'B00000JDF6', 'B001PIBE8I', 'B002Y6CJJ8']\n",
      "A2HMF8ZR67BNZS ['B000JMJWV2', 'B000QUUFRW', 'B003HFCDLY', 'B001TH7GUA', 'B00006I5J7']\n",
      "A12DQZKRKTNF5E ['B005QBK5V2', 'B000VX6XL6', 'B001TH7GUU', 'B007I5JT4S', 'B009YQ8BTI']\n",
      "A1LAGS8H4A2DR7 ['B002V8C3W2', 'B007KZQM8W', 'B00AJHDZSI', 'B007ILFFS6', 'B00D96LZ6K']\n",
      "A1X1CEGHTHMBL1 ['B002V88HFE', 'B008R6OPJQ', 'B000O8I474', 'B002NO7PWC', 'B004Q0PT3I']\n",
      "A2UTZ4O5E2W4DK ['B004W2JKWG', 'B00065AO0K', 'B000062VUO', 'B001O4EPHA', 'B00814CAS2']\n",
      "AA91O96C1Z18W ['B003VANOI6', 'B000QWEN5K', 'B003IT985S', 'B00438MWAG', 'B003MATPQK']\n",
      "A8FKL1DHTHC12 ['B000QUUFRW', 'B003XIJ3MW', 'B003YM04NO', 'B001CCAISE', 'B005LFT3GG']\n",
      "A2RIXSMGE9VIBG ['B0098QSTFK', 'B0018YHZHI', 'B0006A7X36', 'B0097252UK', 'B004NYB684']\n",
      "AN81JUYW2SL24 ['B003ES5ZUU', 'B004CLYEDC', 'B003Z4G3I6', 'B0018BQR84', 'B000EVSLRO']\n",
      "ADHA1W879JNT0 ['B001UI2FPE', 'B000BTL0OA', 'B006U3O566', 'B001KUL012', 'B0015AARJI']\n",
      "ADLVFFE4VBT8 ['B003ES5ZUU', 'B001TH7GUK', 'B0053R0WWG', 'B008F05Q2E', 'B004CLYEFK']\n",
      "A1PS4OYWUB0VX ['B0088PUEPK', 'B002V88HFE', 'B003NR57BY', 'B009NHAEXE', 'B00113PUJQ']\n",
      "AR6APXLK7TJU2 ['B000AZ57M6', 'B00829TIA4', 'B002ZIMEMW', 'B0002Y5WXE', 'B006TF36TM']\n",
      "A3N4VTNFPMTHEF ['B000BTL0OA', 'B00006B81E', 'B00077AA5Q', 'B005MIDB7E', 'B003SX0NFI']\n",
      "A20951I210L0IB ['B003VAHYNC', 'B001F7AHOG', 'B0018P7WZ2', 'B002WE4HE2', 'B002HWRJY4']\n",
      "AYO1146CBIV5C ['B001S4OTS6', 'B00EO96W2I', 'B00834SJNA', 'B00II6VYI0', 'B00829THK0']\n",
      "A28BX3MM90A6FI ['B002JQNXZC', 'B0049XGNKK', 'B007FEFQDA', 'B00D02AHEO', 'B0041MY32Y']\n",
      "A20WUUD9EDWY4N ['B005LFT3GG', 'B002BZFSYA', 'B008YKV5RA', 'B009FC3YJ8', 'B00567H67C']\n",
      "A3OZA8HNJM26DC ['B0056TYTV6', 'B0014CIBWC', 'B00B2166BS', 'B0047WZOOO', 'B0028R3NCU']\n",
      "A11KQADBYE0UZL ['B002MCZJ78', 'B002FU5QMK', 'B00FJRS5BA', 'B005F77Z9C', 'B00FDUHD2K']\n",
      "A213J54E63SYOP ['B000CRFOMK', 'B002V88HFE', 'B001MSU1FS', 'B00080G0BK', 'B008ZGKWQI']\n",
      "A3D1TZH619NKHN ['B001TH7GSW', 'B0034CL2ZI', 'B004HYGEOQ', 'B00HC0ZDOE', 'B00DSGLM50']\n",
      "AMVXR3NPL0GWX ['B002WE0QN8', 'B000EVSLRO', 'B000KO0GY6', 'B003SQEAY0', 'B000U0S304']\n",
      "A314KKDIJWCNMV ['B0019EHU8G', 'B00011KM38', 'B0013LWK3A', 'B0055FZIX4', 'B003FGWF04']\n",
      "AFNG8O2DXRCUV ['B001FA1NK0', 'B0053OLY9O', 'B0002U1TJY', 'B000NMFCIA', 'B0012Z4QXO']\n",
      "A15U64VGUV6RBF ['B0011U65F2', 'B004Q3R9AQ', 'B003ES5ZR8', 'B0097BEDOC', 'B009X01C64']\n",
      "A2KHG3JOFXQ4CE ['B000F7QRTG', 'B0031RG29M', 'B00CD1PTF0', 'B005KG44V0', 'B0043M668G']\n",
      "A2QI2NTDTMK2FV ['B000N99BBC', 'B00834SJNA', 'B00HMREOLK', 'B000EXRSVM', 'B00IVPU786']\n",
      "AWNBZSEZ9P8BE ['B004GUT1QO', 'B005DKZTMG', 'B009SQQF9C', 'B0038KLD50', 'B003M0NURK']\n",
      "A20DDH4NT6Q1E8 ['B0036AWR8E', 'B000N99BBC', 'B00BW6KCTU', 'B00CD8ADKO', 'B001TH7GUU']\n",
      "A3NEAETOSXDBOM ['B0019EHU8G', 'B000FJD5IA', 'B004SBBD8U', 'B001FWBUUG', 'B0073Z49AM']\n",
      "A2V2URLB31HG59 ['B00HVT27B8', 'B000IELOY4', 'B00CB2F65O', 'B004IBK3PE', 'B009T0NFXG']\n",
      "ABUE0ALHKWKHC ['B0082E9K7U', 'B002I3OZB2', 'B0051BG48U', 'B006ZBWV0K', 'B002TLSOGA']\n",
      "A1PVX61PRPVX27 ['B00B4GGW5Q', 'B007WTAJTO', 'B000TYL27M', 'B004SP0WAQ', 'B00DTPYRTI']\n",
      "APOGXH3A74CM3 ['B0010Z294O', 'B005IHAIDO', 'B00006B7DA', 'B000M2GYF6', 'B007I5JT4S']\n",
      "A1Y4EWMUTW73GD ['B00889ST2G', 'B002IKLJVE', 'B00009V4G9', 'B001FSKDWG', 'B000MDZKUU']\n",
      "A1Z16630QMH8Q6 ['B00461E7JE', 'B0041OSAZ8', 'B003M0NURK', 'B002U1N95K', 'B003KPBRRW']\n",
      "A3MMR2WDKAK0PA ['B007PJ4PKK', 'B005O81U9S', 'B00DDUK0H2', 'B00006IJO4', 'B0041SWQ5O']\n",
      "ATDQ9CGCWTT8D ['B0036Q7MV0', 'B00752R5Z4', 'B0001VWHH2', 'B003YFHEAC', 'B005K96VE0']\n",
      "A7KBAXO177NND ['B00139W0XM', 'B00A3DLG7A', 'B000I98ZYG', 'B0009HN588', 'B005EP36NY']\n",
      "A2XCCN239AR1XK ['B00L3YHF6O', 'B00BOHNYTW', 'B00IVFDZBC', 'B004CLYEH8', 'B00906HNZU']\n",
      "A4D5B7Q8A7PA6 ['B004CLYEFK', 'B009NHWVIA', 'B00F3SIQKK', 'B00B3PDHBU', 'B001TANZ0W']\n",
      "A226VGZWOEBPGL ['B00834SJSK', 'B00829TIA4', 'B00829THO6', 'B006ZBWV0K', 'B009WG6JF8']\n",
      "A1R377IPZOKLMM ['B009A6CZ30', 'B001TH7GSW', 'B008JJLW4M', 'B0015DYMVO', 'B0096W1OCG']\n",
      "A3INN916E4VION ['B004Q0PT3I', 'B000AY5YI4', 'B0062IPIPQ', 'B00II6VT0S', 'B007PY3ZPG']\n",
      "A3077MQTAKOVFZ ['B001XURP7W', 'B000062VUO', 'B00001P4ZH', 'B00762YNMG', 'B000ZJZ7OA']\n",
      "A2KZOIOFXXMC1H ['B002BH3Z8E', 'B001VEAI74', 'B009NHAF5G', 'B00125Y0NU', 'B000M8OX6W']\n",
      "A2G563AC1HME2R ['B003FVVMS0', 'B003FVJYF8', 'B0002L5R78', 'B00EQD5ZS4', 'B002RL875A']\n",
      "A3EM243NDJ4DF3 ['B000RZQZM0', 'B0043M668G', 'B002TLTE6O', 'B0054L8MR8', 'B003M0NURK']\n",
      "A7Z2J9V37ABCO ['B004RORMF6', 'B002V88HFE', 'B0002D6QJO', 'B009NB8WR0', 'B005X1Y7I2']\n",
      "A2RIL2NXHE00AQ ['B000I1X3W8', 'B001ENW61I', 'B00009R6WO', 'B003TLSXMO', 'B004NDEWWW']\n",
      "AVSMRPI23DQI2 ['B004FEEY9A', 'B0050YG3CU', 'B0049H8W1Y', 'B003G2ZJTG', 'B00009LI55']\n",
      "ANRS196NKFVUU ['B000233WJ6', 'B000BQ7GW8', 'B000O8I474', 'B004TA0AUW', 'B000VX6XL6']\n",
      "A3H6NNGCINPLEC ['B001TOD7ME', 'B001XURPQI', 'B002LITT56', 'B0054L8N7M', 'B001EDTL52']\n",
      "AULFLNWJP1QXY ['B00829THK0', 'B0000AQI9E', 'B001IWOBA4', 'B00F3F0EIU', 'B004N625BO']\n",
      "A12R3YGEHW7D8G ['B00017LSPI', 'B000QUUFRW', 'B002JQNXZC', 'B0099SMFP2', 'B007WTAJTO']\n",
      "A2NJQF2UI60VGT ['B0081FLFQE', 'B00119T6NQ', 'B002ZCXJZE', 'B001IEXU68', 'B0002GRUJ6']\n",
      "A3LGT6UZL99IW1 ['B00G4UQ6U8', 'B000EVSLRO', 'B000V5P90K', 'B004W2JKWG', 'B004CLYEDC']\n",
      "A1QNYLBG73QRNF ['B000F34FVM', 'B0002LEMWE', 'B000FIH0ZA', 'B00009R6WY', 'B0002ILKWM']\n",
      "A2X8KN82L07RSK ['B001OC6DCW', 'B006LW0W5Y', 'B00GO4GMAI', 'B002RL875A', 'B005PUZOYM']\n",
      "A3OXHLG6DIBRW8 ['B000TKHBDK', 'B002VPE1X4', 'B00461E7JE', 'B000JMJWV2', 'B00E87E1OM']\n",
      "A3PDWA32BAMB2Y ['B004W2JKWG', 'B00A9NE84C', 'B00CGW74YU', 'B000Q8UAWY', 'B002FYL7PG']\n",
      "A1SHHQSPOWR00F ['B000M2TAN4', 'B002V8C3W2', 'B0016XIQ1U', 'B000HGIWN4', 'B00007EDZG']\n",
      "A3LDPF5FMB782Z ['B000QUUFRW', 'B0035FZJJ4', 'B0015DNIOG', 1400698987, 'B0041PO3DU']\n",
      "A84FLVDK2R5JF ['B002TLTE6O', 'B00EMHVVNM', 'B007ILFFS6', 'B004LB4MZS', 'B002DUCMQU']\n",
      "A3V5F050GVZ56Q ['B002Y6CJJ8', 'B00FJRS5BA', 'B003ES5ZUU', 'B00E3FHXYO', 'B009SQQF9C']\n",
      "A18HE80910BTZI ['B002JQNXZC', 'B00HVT27B8', 'B002MPPHKY', 'B0001G6U4S', 'B007WTAJTO']\n",
      "A2J8T58Z4X15IO ['B008EQZ25K', 'B003CFATT2', 'B00BOHNYU6', 'B001MT8J4W', 'B00CB2F65O']\n",
      "A2FXBWR4T4OFQ ['B001C271MA', 'B002M3SOCE', 'B001CCAISE', 'B00198DM2K', 'B003WGJYCY']\n",
      "AUBEFRFHJR64Y ['B001TH7T2U', 'B000QUUFRW', 'B005ES0YYA', 'B0000511U7', 'B009C98NPY']\n",
      "A1DSRM2P0WGQNS ['B001DJ64D4', 'B000089GN3', 'B001AGM2VI', 'B003M0NURK', 'B00829THK0']\n",
      "A2WBVO6X3KPMDT ['B005GGTTZ0', 'B003A7CDY6', 'B008M9U3BM', 'B00116SLYY', 'B005V155YO']\n",
      "A3IMALU0RM8UT9 ['B000QUUFRW', 'B002JP92K8', 'B007BJHETS', 'B00007M1TZ', 'B001MSU1HG']\n",
      "A1H55L0BLPCWYF ['B0002L5R78', 'B000HKIPVE', 'B0002JY712', 'B004NBZ8DQ', 'B00A9NE84C']\n",
      "AN9CP6J4JF91X ['B0045KGZOG', 'B0012W7HQK', 'B00483WRZ6', 'B000KKPN5C', 'B004YDUZ22']\n",
      "A25UZ7MA72SMKM ['B006LW0W5Y', 'B003VAM32E', 'B003CFATT2', 'B0002L5R78', 'B0087B6SV4']\n",
      "A2OT3PDH1AWLTG ['B0083EZE4M', 'B000VE2RP6', 'B00123XZNI', 'B0001ZUZR2', 'B003VTZE1M']\n",
      "A1ROUMJOGO4QMB ['B00006HSYC', 'B003ZKG10K', 'B004XZL980', 'B00385XUG0', 'B00224ZDFY']\n",
      "A24HWYHR28JJ7A ['B00017LSPI', 'B000CKVOOY', 'B0016D1I0G', 'B000V5P90K', 'B005DVJJWQ']\n",
      "A7FDGFK0KN7QG ['B004V4IWHY', 'B0082E9K7U', 'B00FISD9DO', 'B00E87OITK', 'B0043VE26U']\n",
      "ABAPF3XY1W6JX ['B003KPBRRW', 'B007WTAJTO', 'B00484IEJS', 'B00EU9V3S0', 'B003WOWB5S']\n",
      "A2W2ODLRQ2L8LE ['B000V7AF8E', 'B002TXYEV2', 'B004JQN670', 'B004D7CY4Q', 'B0020HRHL6']\n",
      "A19EKT8H85AKO5 ['B000JMJWV2', 'B000SMVQK8', 'B000J45BK6', 'B000J1H4VI', 'B0019X20R8']\n",
      "AOTZOHB2LZGYR ['B001TH7GUU', 'B009O7YUF6', 'B008SBX6GI', 'B0067PLM5E', 'B0042A8CW2']\n",
      "A1U11IP6K6NHAK ['B004286VMW', 'B00CMF0SO4', 'B00IMZKDOS', 'B003ES5ZSW', 'B001QE03GK']\n",
      "A1BXVZSQOJE6UE ['B00G4UQ6U8', 'B0062XB9FE', 'B00G4V0QSK', 'B0092KRAVQ', 'B004B52LHU']\n",
      "A3V6QSTG2T9MIO ['B002TLTE6O', 'B00CI3BIWQ', 'B00AR95FOU', 'B004H8FNJ4', 'B0058SRNZ4']\n",
      "A2AF0NOCM71J0B ['B003CFATT2', 'B00HSQAIQU', 'B00BQ4F9ZA', 'B00829TIA4', 'B0000CFYM9']\n",
      "A3CJOB7CHOSZUG ['B005O81U9S', 'B004HO58SO', 'B0000VYJRY', 'B0046BGUWG', 'B002VPE1Q6']\n",
      "AEJAGHLC675A7 ['B000N99BBC', 'B001TH7GUU', 'B004Q3R9AQ', 'B004CLYEDC', 'B002Y6CJJ8']\n",
      "A36A1ZYZH8568P ['B004Q3R9AQ', 'B003HFCDLY', 'B002V88HFE', 'B00G4UQ6U8', 'B002WE4HE2']\n",
      "A36K2N527TXXJN ['B00CHH0JF0', 'B0012Y6HC8', 'B00BOHNYTW', 'B001EYV9TM', 'B0082E9K7U']\n",
      "A1KSNK256G46GX ['B00752R9PK', 'B000VOU91U', 'B000FOYMKU', 'B004JKH4FQ', 'B000IZDN60']\n",
      "A9DYWY9VOSP1P ['B002Y6CJJ8', 'B00B5HE3UU', 'B000P5AJXI', 'B00DYQQSSK', 'B000MWVMRG']\n",
      "A2ARDVMUGDFED6 ['B000M17AVO', 'B000VUIXOO', 'B001AHALEC', 'B001S0RUFY', 'B000KO0GY6']\n",
      "A19N3S7CBSU6O7 ['B00CAAJDP6', 'B000OG4E2U', 'B0027EMHM6', 'B000OG88NQ', 'B006ZB39QU']\n",
      "A1ZA5SXZS8Z3CK ['B001TH7T2U', 'B003PJ6QVU', 'B007PJVB3Y', 'B0000BVYTV', 'B008B6ONXK']\n",
      "A2RN2AO4BE6F4K ['B009A6CZ30', 'B005YQY5TM', 'B007ZZ6OW6', 'B003XM9774', 'B00119T6NQ']\n",
      "A1E55W6ES0FY17 ['B00IVPU7DG', 'B00F1CRTJM', 'B001HBHLEY', 'B001EQQW1A', 'B002Y1U2M4']\n",
      "A1IG1I6MR3HAWA ['B00316263Y', 'B00ATM1MHO', 'B00004ZCDD', 'B001RB2L44', 'B001FA1NK0']\n",
      "A3A4ZAIBQWKOZS ['B0029N3U8K', 'B00JX1ZS5O', 'B009XN9GQY', 'B00GMTN96U', 'B001CF60R4']\n",
      "A32LX4XJ2LU740 ['B007PRHNHO', 'B004HHICKC', 'B00D429Y12', 'B0090Z3QG6', 'B005KQ2O26']\n",
      "A21KNRUAA5RK5E ['B002IJA1EG', 'B00834SJSK', 'B00ATM1M92', 'B00GMGDFPI', 'B00829TIEK']\n",
      "A2CWIYIETNBAK3 ['B00834SJSK', 'B0092T84HQ', 'B002L6GEKG', 'B001O5CCQK', 'B00829TIEK']\n",
      "AZMY6E8B52L2T ['B000A0CV9S', 'B00E3FJJYG', 'B000BQ7GW8', 'B00A81SXHI', 'B001TH7GUU']\n",
      "AOMEH9W6LHC4S ['B000N99BBC', 'B001MSU1FS', 'B004CLYEDC', 'B006MPUTBC', 'B006W8U2MU']\n",
      "AONUCJBC85BL ['B000F7QRTG', 'B005EOWBKE', 'B005J31BCY', 'B007PRHNHO', 'B00COHALOM']\n",
      "A2HRHF83I3NDGT ['B00005T3G0', 'B001TH7T2U', 'B009USAJCC', 'B00762YNMG', 'B0043WJRRS']\n",
      "A3GX0FAMEXV6FB ['B000QUUFRW', 'B0034CL2ZI', 'B006588Z7G', 'B005B3VO24', 'B007P4VOWC']\n",
      "A3VBXQKRM7A4JR ['B00HMREOLK', 'B008MF3X9K', 'B0097FZRYI', 'B004SKBHB4', 'B0079UAT0A']\n",
      "A1SC5OXLQNGPLN ['B00D5Q75RC', 'B001SER47O', 'B0039BPG1K', 'B0011NVMO8', 'B000KJQ1DG']\n",
      "A1JWSDDIH5Z7DV ['B0009K9FZW', 'B0011ZCDKS', 'B004YLCBRG', 'B000NEJYZA', 'B000NEFVM0']\n",
      "A2NYK9KWFMJV4Y ['B00HG1L334', 'B00DTZYHX4', 'B00GMTN96U', 'B004I5FL1G', 'B007KEZMX4']\n",
      "A37D1ZP8GBHE38 ['B004ELA0SS', 'B0043M668G', 'B001OI2Z4Q', 'B002VPE1X4', 'B003JZU8DC']\n",
      "A3S3VSXEFXBMRC ['B0075SUHKI', 'B0046RE21G', 'B002N3DIC4', 'B007QXNQXC', 'B0015GVQEC']\n",
      "A19X4BF861LQST ['B000MX48VM', 'B000HZGQ9C', 'B001H5T7LK', 'B004FLJVXM', 'B000HZDF8W']\n",
      "A353U0L2HAMSHV ['B002TLTE6Y', 'B000OLDG60', 'B00316263Y', 'B003LSTD38', 'B0043M668G']\n",
      "ALDAF4VVLFRHP ['B004CLYEFK', 'B0035FZJHQ', 'B00109Y2DQ', 'B001DBF07I', 'B000JE7GPY']\n",
      "A3QMJMTLJC34QC ['B003HFCDLY', 'B005CLPP8E', 'B003M2YT96', 'B000BQ7GW8', 'B00006B7HB']\n",
      "A15QYHQH80W30L ['B000VDCTCI', 'B000EOSHGQ', 'B00005LEN4', 'B00007EDZG', 'B001U02JZ8']\n",
      "A1VS1LL905P5L5 ['B00AAHT8JC', 'B00028D778', 'B001CJNWX0', 'B0002OZXGU', 'B00009V7MU']\n",
      "AT6CZDCP4TRGA ['B001I45T9O', 'B002JQNXZC', 'B002M38I2U', 'B0002INUIY', 'B002DUCMQU']\n",
      "A1GW7V6S6XSXX3 ['B005ELBSWO', 'B00829THO6', 'B000WOIFO2', 'B00834SJSK', 'B00HFRWWAM']\n",
      "AXP8GO5Q3AXSA ['B000N99BBC', 'B003ES5ZUU', 'B0093H4WT6', 'B005KP473Q', 'B00AE0IEHM']\n",
      "A111WCUF5KA2I6 ['B006Z95LHW', 'B00B353NI2', 'B004N8ZQKY', 'B0069R05M6', 'B006W494ZA']\n",
      "A14X244VGHWPSX ['B00829TIA4', 'B003M0NT1M', 'B001D8S9E2', 'B00829TIEK', 'B001U612R8']\n",
      "AD0J5KK4WQXNS ['B000LRMR26', 'B00064V6RG', 'B00006HMPK', 'B0002375F8', 'B000HCRVQ2']\n",
      "A2NSMJVQY0RV9S ['B00316263Y', 'B002NEGTSI', 'B00009R6WY', 'B004FA8NOQ', 'B005DKZTMG']\n",
      "A3JV071KO43Q5X ['B001BM5XB2', 'B008LCYIEI', 'B007IMPMW4', 'B002J9HBIO', 'B004QK7HI8']\n",
      "A3F7F7QKQP2FKT ['B0013FRNKG', 'B000SMVQK8', 'B0092HP3GS', 'B003R5AYRE', 'B0058W0S1Q']\n",
      "A7Y6AVS576M03 ['B000BQ7GW8', 'B000AJIF4E', 'B004QR56SE', 'B00004YMBK', 'B00001W0DI']\n",
      "A225G2TFM76GYX ['B002QUZM0U', 'B006DDT6JO', 'B001HSOFI2', 'B00006I53X', 'B001TANZ0W']\n",
      "A3LPL35P7FH78Y ['B009WA115M', 'B000Q8UAWY', 'B003FVJYF8', 'B001T2CTSY', 'B0002EQU6C']\n",
      "AATWFX0ZZSE6C ['B00BQ4F9ZA', 'B002Y6CJJ8', 'B003LPUWT0', 'B000CSWCQA', 'B0037KLTCI']\n",
      "A3SRDVCD2ATIIS ['B000067RT6', 'B000TKHBDK', 'B007WTAJTO', 'B002WE4HE2', 'B004TA0AUW']\n",
      "ALNE7Q71JFC0F ['B001ENW61I', 'B002Y6CJJ8', 'B007BJHETS', 'B007I5JT4S', 'B00CNZTPGA']\n",
      "A19UTUEBWKIZFT ['B00E98O7GC', 'B00JF0D7RE', 'B004XC6GJ0', 'B008MF3X9K', 'B0075SUK14']\n",
      "A3BVN2QBNPBHCR ['B000JMJWV2', 'B00CRJWW2G', 'B00829THVO', 'B008R7EWEI', 'B00D3F7D7M']\n",
      "A3QJU4FEN8PQSZ ['B002V88HFE', 'B00BOHNYTW', 'B007GMPZ9Q', 'B0095F5AFG', 'B000V1XICU']\n",
      "A2PICNZWHEINQC ['B003ES5ZUU', 'B008EQZ25K', 'B005ES0YYA', 'B004LNXO28', 'B00834SJNA']\n",
      "A1VVRA3P6G1TWH ['B001SER47O', 'B00009XVCZ', 'B000UMX7FI', 'B000AZ57M6', 'B000053HH5']\n",
      "A2BLFCOPSMBOZ9 ['B00HZWJGS8', 'B00EHZYWGM', 'B00EOE4G4E', 'B001TH7GUA', 'B001NTFAOS']\n",
      "A3M82NO6OU1FHS ['B008JJLW4M', 'B00006B7DA', 'B006W8U2MU', 'B002BH3Z8E', 'B001EAQTRI']\n",
      "AS269J1OGZT1V ['B002YU83YO', 'B009USAJCC', 'B005BI5WMW', 'B0058AH2US', 'B003F69JBW']\n",
      "A2NX6PABLIJLP1 ['B00009EHJV', 'B003ES5ZUU', 'B0057UUB1G', 'B006ZZQ5EY', 'B007OY5V68']\n",
      "A38CHSS1ZAE51B ['B0077CR5RK', 'B004AGX4YO', 'B001CIREXA', 'B0028QWJTO', 'B005Y5891S']\n",
      "A2BIJMB2BITQUM ['B004Q3R9AQ', 'B00AAIPT76', 'B0043WJRRS', 'B004XC6GJ0', 'B000TXZIDM']\n",
      "A11YIHB6IW352W ['B0002CPBWI', 'B001MSU1HG', 'B004O0PAKW', 'B007R1FH3K', 'B00008Y1BX']\n",
      "A2T24Z5QP2OMXU ['B003ES5ZUU', 'B007WTAJTO', 'B0073ESYZO', 'B00BFO14W8', 'B0019RBJOE']\n",
      "A11I1I9QLMAM1A ['B001CIREXA', 'B00E3RH5W2', 'B002TLTE6Y', 'B00BOHNYU6', 'B00E055H5O']\n",
      "A3FKQQTSMHOCE0 ['B00009XVCZ', 'B0002XQJFA', 'B000AYGD8E', 'B00AXZYWR4', 'B002IKLJS2']\n",
      "A200RY2ELZL2Q3 ['B0052RM8T2', 'B004D2AZ06', 'B005J7YA3W', 'B00AQRUW4Q', 'B005Q39PTI']\n",
      "A22CW0ZHY3NJH8 ['B005UA3I72', 'B000QWEN5K', 'B003ES5ZUU', 'B00834SJNA', 'B000M2TAN4']\n",
      "AM0QLU79O05JR ['B00D5Q75RC', 'B000AY5Y5W', 'B004G8QO8O', 'B0057AVXJA', 'B00834SJNA']\n",
      "A2QRXQPHDMFCQV ['B000N99BBC', 'B001OI2Z4Q', 'B008HO9DK4', 'B009NB8WR0', 'B001F7HLRC']\n",
      "A1KXJCXS6HFRQZ ['B003ES5ZUU', 'B0031RG2JC', 'B002I3OZB2', 'B0025VKUQQ', 'B002TLTE6O']\n",
      "A1EKSETIBS9ETQ ['B005755U0I', 'B00E3W15P0', 'B0042X9L6A', 'B004G6002M', 'B004XZL980']\n",
      "A1IU7S4HCK1XK0 ['B000N99BBC', 'B009NHWVIA', 'B00065ANY2', 'B00894YWD0', 'B00F5NB7MW']\n",
      "AC9QEWWN4W9MC ['B00IX2VGFA', 'B00APCMMDG', 'B004Z0S6RU', 'B004C4SHQY', 'B009LL9VDG']\n",
      "A2UWPPU5GZLMQZ ['B0096W1OCG', 'B009SYZ8OC', 'B002KETE24', 'B0012Y541S', 'B0042RTQPC']\n",
      "A1CSRR7FCKBL9M ['B0034CL2ZI', 'B0058AH2US', 'B005755U0I', 'B005GM6H8G', 'B00BQA5BWU']\n",
      "A1YVO5V1SO18DZ ['B00CD8ADKO', 'B009NHWVIA', 'B00CB2F65O', 'B00HSQAIQU', 'B008ULPE70']\n",
      "A27Y4OEC9MD9PA ['B00009XVCZ', 'B003LR7ME6', 'B000JNQSIQ', 'B003Y322RO', 'B002NWO9EG']\n",
      "A34C9AFFZOI45T ['B002B8WVVU', 'B00B588HY2', 'B0057Q4AGW', 'B00305N48C', 'B000PCX780']\n",
      "AEZJTA4KDIWY8 ['B000N99BBC', 'B00E3W15P0', 'B000JMJWV2', 'B001ID829O', 'B003PJ6QVU']\n",
      "A1JBEKU5TYIWE7 ['B004286VMW', 'B005J7YA4G', 'B000IMSK8Y', 'B0013AV4M4', 'B006MRAVFE']\n",
      "A3QQCEQ33O0GJU ['B000O8I474', 'B005UBNKWO', 'B005X64OA8', 'B004W2T2TM', 'B0057QETGS']\n",
      "A3S3R88HA0HZG3 ['B003ES5ZUU', 'B006ZH0KVG', 'B001TUYTZM', 'B006TT91TW', 'B005NGQWL2']\n",
      "A1CYTBE7LLUQ8F ['B007GMPZ9Q', 'B0002L5R78', 'B0002GDIII', 'B0001G6U52', 'B00310K9VQ']\n",
      "A2ZY3S7SD3QO8Z ['B00E0HITQ6', 'B0074FGNDC', 'B00FH66AW4', 'B00BQ5RYI4', 'B004N6259G']\n",
      "A1N5FSCYN4796F ['B0079UAT0A', 'B001TUYTZM', 'B005DKZTMG', 'B009JPBPWO', 'B0015L0T68']\n",
      "AHNHLGKIZ2N3B ['B001NJ0WCS', 'B00003006R', 'B00F9OQRZE', 'B004XNLR16', 'B0097BEFYA']\n",
      "A2ED50E3KWKUKW ['B00004XOM3', 'B001M4N956', 'B005NGLTZQ', 'B00007E7JU', 'B001QATRCA']\n",
      "A2FWZ58M6IQMD7 ['B00FW6T36Y', 'B009OZUPUC', 'B00300570U', 'B00884WH74', 'B008EWNVI4']\n",
      "A2AFTRU43PY9P5 ['B0046TJG1U', 'B0002Y5WZM', 'B009XN993O', 'B00AWKC0JM', 'B005CLPP84']\n",
      "A1WXG10FJ353K0 ['B001DJ64D4', 'B00IVFDZBC', 'B00DR6DQZA', 'B000M17AVO', 'B0045XV2CI']\n",
      "A22S7D0LP8GRDH ['B00746YZS6', 'B000FNFSPY', 'B001O4EPHA', 'B005NHR6MU', 'B002TLTE6O']\n",
      "A1L64KDYO5BOJA ['B0019EHU8G', 'B00009XVCZ', 'B0007QKMQY', 'B00180LGX6', 'B00DMS0GTC']\n",
      "AL42PIIG5DXYD ['B001QUA6RA', 'B002WE6D44', 'B006WAGG14', 'B000MGGTY8', 'B003924UBG']\n",
      "AETQIN7OH0RL9 ['B008JJLW4M', 'B008AST7R6', 'B0000BZL1P', 'B001CIREXA', 'B00622AG6S']\n",
      "A16J281SJ9QXIQ ['B000O8I474', 'B00722JCMQ', 'B00FNPD1VW', 'B007KEZMX4', 'B003MTTJOY']\n",
      "A25QJBK33C4O0R ['B008C1JC4O', 'B008ULPAT2', 'B00ATM1MGA', 'B006DEBYWU', 'B00B3PDH5G']\n",
      "A21S26XYPGXJZX ['B0040JHVC2', 'B0001GRTK2', 'B000Z9UY2K', 'B004ZMV2GA', 'B001DYC0CS']\n",
      "AGX2K0FMS0IVL ['B002WE6D44', 'B007WTAJTO', 'B0012GBBQS', 'B002E6R7NG', 'B0028K2TXQ']\n",
      "A35KBAQ4VBNQ6L ['B000QUUFRW', 'B001C271MA', 'B0079M711S', 'B000JE7GPY', 'B003M3A1BK']\n",
      "ABMF4UC4Z00NT ['B0019EHU8G', 'B001OOZ1X2', 'B00009R94Q', 'B000OL3QTW', 'B007I5JT4S']\n",
      "A3TRY87JJCA5Y8 ['B000FQ2JLW', 'B00E98O7GC', 'B001HZI2ZC', 'B0042GHI8U', 'B004TLH7C0']\n",
      "A1NNMOD9H36Q8E ['B000A22V6Y', 'B00007EDZG', 'B0011FQUQG', 'B000BYCKUI', 'B0000BZLBA']\n",
      "A1GQRGB8FGSLIZ ['B00BQ4F9ZA', 'B000N99BBC', 'B006ZH0JBM', 'B00EOE4G4E', 'B00HFRWWAM']\n",
      "A1VHCO8RQFIGQJ ['B00009XVCZ', 'B001NS828K', 'B000JMJWV2', 'B003SQEAY0', 'B007I5JT4S']\n",
      "A3QU3O79AGNWCY ['B009CN8VNY', 'B006ZBWV0K', 'B004N625BY', 'B002VPDM2A', 'B00BWL33H8']\n",
      "A2XIOXRRYX0KZY ['B00AR95FOU', 'B003VAM36K', 'B00FRMAOIO', 'B005GOINEK', 'B00FG38L16']\n",
      "A2PL06HW6KZH2 ['B006W8U2MU', 'B003LSTD38', 'B00117LECY', 'B005H3Q57M', 'B00AEGFFM8']\n",
      "A30JPZ9TZ7I61U ['B009NHWVIA', 'B00HC0ZDOE', 'B00DB3SH2G', 'B0079UAT0A', 'B000065BP9']\n",
      "A2L4ZGN7GZJ95T ['B004CLYE8C', 'B00829TIA4', 'B008R7EWEI', 'B00F0S0DK4', 'B00C28L51G']\n",
      "A2F2F7N94SR1KQ ['B004RORMF6', 'B002IO2UM2', 'B003NR57BY', 'B003N12TSY', 'B004IZN3YI']\n",
      "A27M75LRSJ788H ['B0039BPG1A', 'B00007IFED', 'B003ES5ZR8', 'B00G4UQ6U8', 'B001NS0OZ4']\n",
      "A2MJ8OL2FYN7CW ['B00FZ9SMVU', 'B006ZBWV0K', 'B0007XDI54', 'B005HSG3TC', 'B007VL8Y5E']\n",
      "A178M2AHNWQZB0 ['B003WJR69E', 'B004UM7124', 'B009SS0FZK', 'B00137NMMW', 'B003LZ5SM6']\n",
      "A2OKRGHIYTBQ6P ['B004ELA0SS', 'B000BQ7GW8', 'B0081FLFQE', 'B005IMFX2K', 'B003MTTJOY']\n",
      "ARXU3FESTWMJJ ['B001P05NBA', 'B00HFRWWAM', 'B00D429Y12', 'B00AR95FOU', 'B00390JT1O']\n",
      "ANW6EGY12V5XS ['B000OGX5AM', 'B003ES5ZUU', 'B00IF4OATU', 'B009PK2MNY', 'B003BKW2K2']\n",
      "A2WCFDOCS73PNB ['B00C20KWP4', 'B0034CL2ZI', 'B0042FZ50O', 'B0056Z0SJM', 'B00B99JU5M']\n",
      "A3KZEGBTPH6MMF ['B001NTFATI', 'B00568BV68', 'B002RWJHBM', 'B000FBK3QK', 'B00ESLEAFI']\n",
      "A27T4RQ3XA661C ['B002KY2OU8', 'B00746W3HG', 'B004JOQSEA', 'B00548QAPC', 'B0057AVXJA']\n",
      "A5KMMY627T3W ['B000NP3DJW', 'B008C1JC4O', 'B00BWHILCY', 'B0012W9APQ', 'B000144I2Q']\n",
      "AL9WKVMRI6GFB ['B00G4UQ6U8', 'B00BOHNYU6', 'B00DR6DQZA', 'B00475K64E', 'B00FSA8VQ2']\n",
      "A2PSD2R9A1CXG7 ['B007BXD66E', 'B00DT04I9W', 'B006ZH0KVG', 'B008HK3QII', 'B00D68ZVY8']\n",
      "AFQBS241UKPAZ ['B004BDOGL6', 'B005IHAIJ8', 'B00FPKDPZC', 'B007K3SB6K', 'B00D3F7D7M']\n",
      "A1UEL5C1N6E5SE ['B000VE2RP6', 'B0027EMHM6', 'B0007TJ5AK', 'B000EITTLE', 'B00068U44I']\n",
      "A2J7FHZFKOKGZ6 ['B000067RT6', 'B006TT91TW', 'B003M0NT1M', 'B003L18YFS', 'B00E6HG1XI']\n",
      "A240FRPD4MEXND ['B00HMREOLK', 'B00HG1L334', 'B00834SJSK', 'B0082E9K7U', 'B003VAK16O']\n",
      "AA3FTJYJYX55C ['B002QAUN2M', 'B0031ESKJA', 'B006BCKDGW', 'B007VPGL5U', 'B005DKZTMG']\n",
      "A3EZFFPVS34AMO ['B0033PRWSW', 'B002NEGTSI', 'B0001Y7UAI', 'B00006I53W', 'B004SBBDB2']\n",
      "A3F3B6HY9RJI04 ['B000TKHBDK', 'B004ELA0SS', 'B001NTFAOS', 'B007KZQM8W', 'B000068O34']\n",
      "A1OA2ZW406NQXM ['B007PJ4P4G', 'B001TOD7ME', 'B001S0PWWC', 'B0089L4TL8', 'B006YTZUA6']\n",
      "A2J8DE8R94ZB02 ['B003ES5ZR8', 'B0099SMFVQ', 'B00829THK0', 'B00CD1FB26', 'B005A0B7CA']\n",
      "AJEOFP6ZWY0MK ['B00017LSPI', 'B007WTAJTO', 'B000HPV3RW', 'B005FYNSPK', 'B00603RTC8']\n",
      "A13WOT3RSXKRD5 ['B002WE6D44', 'B00029U1DK', 'B00568BV68', 'B004SY5O5K', 'B005LIDN00']\n",
      "A2OOLI2WFY4L2 ['B0046TJG1U', 'B005FYNSPK', 'B005J7YA4G', 'B005FUNYSA', 'B006TZM6XO']\n",
      "A2WB7LZ595CR50 ['B00BOHNYTW', 'B007R5YDYA', 'B001TH7GUU', 'B00BQ4F9ZA', 'B002HWRJY4']\n",
      "AMKNPIDFLRFMP ['B000JMJWV2', 'B001OC6DCW', 'B0002CPBWI', 'B00004SB92', 'B004CADY9I']\n",
      "A2TRXEZYU9GYY8 ['B003ZM7YTA', 'B002V88HFE', 'B005CT56F8', 'B0054OWT0G', 'B004G6002M']\n",
      "ANTGGAQYPSWHF ['B00006JLOT', 'B004GUT1QO', 'B004T9RR0E', 'B00BBAFWLK', 'B005NFG1MS']\n",
      "A2X06FP2PQ6EK0 ['B0040723AO', 'B001L1H0SC', 'B005CLPP8E', 'B0041Q38NU', 'B004YPK5ZW']\n",
      "AL1XV4L25FZ2S ['B00DBDM934', 'B002XVYZ82', 'B00123WDR2', 'B008QSJXJM', 'B0017O3U8M']\n",
      "A6KL17KKN0A5L ['B003SGCO3E', 'B00009XVCZ', 'B002NEGTTW', 'B000KO0GY6', 'B003Z4G3I6']\n",
      "AC1YLEFC9AN5X ['B001OI2Z4Q', 'B001TOD7ME', 'B00K91DB7Y', 'B001U612R8', 'B0001PFQ7G']\n",
      "AV8MDYLHHTUOY ['B00HFRWWAM', 'B00CRY250U', 'B00BYRPM9M', 'B00DTPYQBM', 'B00829TIA4']\n",
      "A28CCQNXWV6WA2 ['B001EQ4C8U', 'B001G5ZTN6', 'B0011E4NSO', 'B001BX6HCU', 'B001BX4NSA']\n",
      "A1X3DA7C61WZLQ ['B008D2POAS', 'B001C3V54O', 'B004JXVODG', 'B000ER5G58', 'B00006I5FQ']\n",
      "A2HV76MYH7UL3S ['B00E3W15P0', 'B007V5A1BK', 'B004BLK24S', 'B003JH7KT0', 'B007UM59O8']\n",
      "AR18DH5SL9F73 ['B001F7AJKI', 'B001JZFQU4', 'B0091UHMHO', 'B002MUGUFK', 'B004MU8VCS']\n",
      "A1KY5G5FP31F2F ['B00834SJSK', 'B003OSPCJO', 'B009SYZ8OC', 'B005N8W16U', 'B002SZEOLG']\n",
      "A2KIJBT9HRIOM8 ['B003XM1WE0', 'B0030MIU16', 'B002IUG14O', 'B0046RE21G', 'B004WB8EYM']\n",
      "AHIK7BUXFRMT8 ['B001TH7GSW', 'B000JMJWV2', 'B002EEP3MK', 'B00CHRID4Y', 'B00006B9H8']\n",
      "A10X9ME6R66JDX ['B0052SCU8U', 'B002YU83YO', 'B001Q3MA80', 'B001TH7GUK', 'B003XIJ3MW']\n",
      "A1VFX417XDNWIU ['B00G4UQ6U8', 'B0034CL2ZI', 'B0055QZ216', 'B00DV51DTS', 'B002TLTE6O']\n",
      "A25TNBMJ4ZO7RD ['B00829TIEK', 'B00575RN62', 'B000FKQ8LA', 'B00IVPU786', 'B00IF0JAIU']\n",
      "A2PZXXPGLXXKZU ['B0099SMFVQ', 'B007PRHNHO', 'B0002CPBUK', 'B00CM0XHNS', 'B0013FRNKG']\n",
      "A1XXMNLOLKNO0I ['B0088PUEPK', 'B001TOD7ME', 'B001TH7T2U', 'B009GUXU52', 'B000P8X65S']\n",
      "AQSV34W54L0VO ['B007WTAJTO', 'B009SK57HY', 'B009PK9S90']\n",
      "A3DWO5RJDA430F ['B00009UTLM', 'B0016D1I0G', 'B0000AG92Z', 'B005HY4U5A', 'B001MLZKAQ']\n",
      "AY3XPKRAMKKY7 ['B009APBY0G', 'B00BOHNYTW', 'B00005NIMJ', 'B003HKRVAW', 'B002YAOS7A']\n",
      "A370XYLIZCSK1Y ['B00F0DD0I6', 'B003FVJYF8', 'B00077AA5Q', 'B004FA8NOQ', 'B002ZWU33U']\n",
      "A8X478DM3KAWM ['B000N99BBC', 'B000FITKK8', 'B006YLTLUY', 'B00EN27SHY', 'B0064P5I1G']\n",
      "A2D1ZQEFS1NBH2 ['B007R5YDYA', 'B00825BZUY', 'B005J2E2US', 'B004RLOPE0', 'B009LL9VDG']\n",
      "AS8C336DDLSO4 ['B009USAJCC', 'B00009EHJV', 'B0007QKMQY', 'B000ZJWZYU', 'B000021YU8']\n",
      "A3JNBO7H2SPL44 ['B007BJHETS', 'B0079MX4Q4', 'B000T8THL6', 'B001QUA6R0', 'B008F537KC']\n",
      "A25C2M3QF9G7OQ ['B00HG1L334', 'B00G4UQ6U8', 'B001UI2FPE', 'B004CLYEDC', 'B00E3FHXYO']\n",
      "A22R9L5DAVYYWR ['B009F1DYF8', 'B001IEXU68', 'B0088CJT4U', 'B001FWYGJS', 'B004Q0PT3I']\n",
      "A2BMZRO0H7TFCS ['B002YU83YO', 'B00BQ4F9ZA', 'B001OC6DCW', 'B00001WRSJ', 'B003VANO7C']\n",
      "A3R4794K2RVU1S ['B000TKHBDK', 'B002Y6CJJ8', 'B0035FZJHQ', 'B001F51G16', 'B0082E9K7U']\n",
      "A3IOQ7NVVLAUEE ['B009F1DYF8', 'B008RGD114', 'B002EOD52A', 'B000233ZMU', 'B000JQ17WK']\n",
      "AVTJEWTCJ3PBE ['B004S9CT08', 'B0000TO0BQ', 'B0014Z29OU', 'B0002GRUV4', 'B000I3XIEE']\n",
      "A2LB4FLRZG6CUV ['B005CLPP8E', 'B00G4UQ6U8', 'B009MSGEHO', 'B00G4V0QSK', 'B005OA3BSY']\n",
      "ANYC38I00IRVK ['B000S5Q9CA', 'B0053VZUW4', 'B0041Q38NU', 'B0058P0I2C', 'B000GZ6ZQW']\n",
      "A3J3ZHGDUDPCFL ['B00829TIA4', 'B0016P5ASK', 'B00BFO14W8', 'B004SGJCCO', 'B00064V6RG']\n",
      "A38Z6QG6988WS7 ['B003ES5ZUU', 'B002SQKL7Q', 'B001TH7GSW', 'B000VX6XL6', 'B0039BPG1A']\n",
      "A3CG93783LP0FO ['B00G4UQ6U8', 'B00B588HY2', 'B004XC6GJ0', 'B001S0PWWC', 'B001RQ2YF0']\n",
      "A3NOBH42C7UI5M ['B001MSU1FS', 'B0010Z28XG', 'B000LRMS66', 'B001XURPQI', 'B0029EB3OC']\n",
      "A2TVJ0YDW3QO63 ['B002M3SOC4', 'B001TZWNF0', 'B004CLYE8C', 'B002HWRJBM', 'B00829TIEK']\n",
      "ADKZOXAOV8EXD ['B007VGGFZU', 'B000BYCKU8', 'B000JMJWV2', 'B002RCNX8K', 'B0047ZH0B6']\n",
      "A2DG63DN704LOI ['B00EDCF0MY', 'B00DK2JQOQ', 'B00CAMCCLQ', 'B00D1GYNT4', 'B000EVSLRO']\n",
      "A4IL0CLL27Q33 ['B001E1Y5O6', 'B00DTPYQBM', 'B00475K64E', 'B005NHR6MU', 'B005LJQNQU']\n",
      "A17W0GMB0YY83M ['B00AWKBZOI', 'B00834SJSK', 'B001CIREXA', 'B003XM73P2', 'B004RORMF6']\n",
      "A2WXURU33RBGQS ['B003F8UWUM', 'B001C9KW88', 'B00FEE7B1I', 'B001XURP7W', 'B0038NK9HU']\n",
      "A1VEELTKS8NLZB ['B009WQQYG2', 'B005HMBQR2', 'B003A4H2LI', 'B004G6002M', 'B0087AUCSA']\n",
      "ASF3J4UYV34KA ['B001TH7GT6', 'B007WTAJTO', 'B00212NO6W', 'B006WAGG14', 'B005CT56F8']\n",
      "A1N3EH28S4DI8L ['B001CCAISE', 'B00007EDZG', 'B00DMS0GTC', 'B000I1X3W8', 'B003Y2KC7W']\n",
      "A2A4X545ERLS7H ['B003SGCO3E', 'B001EPVOQY', 'B0040QE998', 'B00CPGYNV4', 'B008LCYIEI']\n",
      "A1O229NVVDJUX2 ['B00009XVCZ', 'B003ES5ZR8', 'B005IMFX2K', 'B00834SJSK', 'B000NK8EWI']\n",
      "A2NT3W1F1XYBFZ ['B002WE6D44', 'B00APCMMDG', 'B0007QU6WY', 'B001FA0AM2', 'B0049WBZEK']\n",
      "A54S9CIUV5VNB ['B003ES5ZUU', 'B003XM1WE0', 'B007WTAJTO', 'B00840353W', 'B000RZQZM0']\n",
      "AIJQU979J6UFY ['B000F7QRTG', 'B00E0HITQ6', 'B00ATM1MGA', 'B005KFONIU', 'B001T9NUJE']\n",
      "A2EZTM9WY5B5IL ['B000AJIF4E', 'B0011NVMO8', 'B00EOI2SR2', 'B0012Y6HC8', 'B000ZMCILW']\n",
      "AV10H5K6VPQIJ ['B00029U1DK', 'B00007IFED', 'B003VAHYNC', 'B003XM1WE0', 'B005DD28XG']\n",
      "AS7J4952JB5XR ['B00FNPD1VW', 'B00FPKDPZC', 'B006M76GWG', 'B002SXMRPI', 'B005Y8BYOE']\n",
      "A3TA1UJWRJF9NC ['B00029U1DK', 'B000BTL0OA', 'B000MX48VM', 'B0015ZIS8K', 'B000GHVZO2']\n",
      "A19FRW264WZTGP ['B001Q3MA80', 'B004SGJCCO', 'B000Q8UAWY', 'B0057WXF6C', 'B001SEQN3K']\n",
      "AT28RL25Q2OLK ['B00017LSPI', 'B001T9NX9Q', 'B00EQD5ZS4', 'B00005NIMJ', 'B006ZZ2V9M']\n",
      "A3TAS1AG6FMBQW ['B003ES5ZUU', 'B000HPV3RW', 'B00D6XW62I', 'B009NHWVIA', 'B002WE6D44']\n",
      "ADKGE078JK8K7 ['B003HIXOOG', 'B005755U0I', 'B004ZMVQRA', 'B0001YXWVO', 'B005PVXH1S']\n",
      "AFM2J3HJNPIHV ['B003NR57BY', 'B007WTAJTO', 'B009STMN9K', 'B003BKW2K2', 'B00B46XUQU']\n",
      "A1MEISNED4NP7U ['B00603RTC8', 'B00483WRZ6', 'B002SIMPXM', 'B006B7R9PU', 'B000P0PF9G']\n",
      "AW6J9IILGOZY3 ['B00CI3BIWQ', 'B00BOHNYTW', 'B00GA55OGE', 'B003NR57BY', 'B008MF48J4']\n",
      "A2ZR3YTMEEIIZ4 ['B000NKJ2X8', 'B000EVT0XS', 'B000GBGPAW', 'B0001D3JXG', 'B00067TTY0']\n",
      "AR3EVUQF0AC7R ['B003BLQHN4', 'B007SHJIO2', 'B00HNJWSH4', 'B00DR0B7Y8', 'B005DOUJL8']\n",
      "A19XMHRB3G4DIR ['B000JV9LUK', 'B00AVWKUXE', 'B005VAORH6', 'B008ULPE70', 'B00021EE4U']\n",
      "AAR7CEPXYJA0T ['B001JTQCU8', 'B0030MITDK', 'B0001VGFKW', 'B0012W7HQK', 'B001D7REIK']\n",
      "A3L1VJMHFWONCB ['B004RORMF6', 'B00E3W15P0', 'B001PUSERA', 'B0050NF926', 'B004G6002M']\n",
      "A335QXPTV1RIV1 ['B005CWHZP4', 'B00004Z0C7', 'B00005U21H', 'B0000BVYTV', 'B002LARRDK']\n",
      "A1BBYSMT9YCODI ['B008EQYRRY', 'B004Q3R9AQ', 'B00A9NE84C', 'B00D695GS8', 'B00D96LZ6K']\n",
      "A1IDAKX7OM3QIE ['B000N99BBC', 'B00829TIEK', 'B001S4OTS6', 'B00DVPGBDG', 'B000QKKAOU']\n",
      "A2LXX47A0KMJVX ['B002WE6D44', 'B003YL412A', 'B00008V6NI', 'B004K1EZDS', 'B003ZX8B1E']\n",
      "A17UNMURMLX0ZE ['B000N99BBC', 'B009YT6PPC', 'B00834SJSK', 'B00829TIA4', 'B0054L8N7M']\n",
      "A2LW5AL0KQ9P1M ['B00EOE4G4E', 'B0036V9AGU', 'B00829THVO', 'B002UAUZQW', 'B00DQZO3JK']\n",
      "A3UQSOJW51UU9T ['B003ES5ZR8', 'B0049XGNKK', 'B003AM7V0C', 'B004VM1T5S', 'B000RZQZM0']\n",
      "ACYZXQ2JKPZKT ['B0000BZL0G', 'B0097BEFYA', 'B002SFDJMQ', 'B005CT56F8', 'B002JH3TW8']\n",
      "A2NB2E5DXE319Z ['B005ES0YYA', 'B004CLYEDC', 'B00DY2Y28M', 'B00E83XHXM', 'B00946XHI8']\n",
      "AI8EMB0HUC6Z5 ['B000N99BBC', 'B0019EHU8G', 'B001TH7GUU', 'B003CFATT2', 'B000VX6XL6']\n",
      "A1LD5SE8IZ1H70 ['B007SZ0E1K', 'B0034CL2ZI', 'B0015A8Y5M', 'B0077E47SI', 'B004EBUXHQ']\n",
      "A31N0XY2UTB25C ['B009APBY0G', 'B0027AGK3M', 'B0000B006W', 'B00008AWKZ', 'B002WE0QN8']\n",
      "A35Q0RBM3YNQNF ['B0081FLFQE', 'B004IK2EAW', 'B009UNZ5WQ', 'B00FF8ZRR8', 'B0002LEMWE']\n",
      "AMFXXAOVV4CPJ ['B007R5YDYA', 'B000067RT6', 'B004JMZPJQ', 'B008MDSWI4', 'B0097BEFYA']\n",
      "A274X54O9CN2SR ['B0009S5HQA', 'B001202C44', 'B00AQT653G', 'B00D856NOG', 'B002FECHQ4']\n",
      "A3TPNC3TKGCCEI ['B00DT04I9W', 'B00BWF5U0M', 'B00FRMAOIO', 'B00005T406', 'B0042FZ50O']\n",
      "A132ETQPMHQ585 ['B008TWWLAS', 'B00825BZUY', 'B006QOM1FG', 'B000AB286S', 'B0014YURPE']\n",
      "A64LEAZ2QF8L2 ['B00429N18S', 'B001342KM8', 'B001SER47O', 'B006W8U2MU', 'B002DYIXMI']\n",
      "AIFLY2HF8NS8U ['B008EQZ25K', 'B00JC5Y6WM', 'B00CQ35C1Q', 'B004SKBJ5S', 'B000PKC102']\n",
      "A3L6L5O89JTX2T ['B002WE6D44', 'B0014VY28A', 'B000L7INLU', 'B004C3AW40', 'B00B588HY2']\n",
      "A2TKWMX4563NR6 ['B000S5Q9CA', 'B007WTAJTO', 'B00006RVPW', 'B006U1YUZE', 'B00A35WYBA']\n",
      "A3F9CMU8KNAY1M ['B004BDOGL6', 'B001TH7GSW', 'B002HWRJY4', 'B004SGJCCO', 'B00HMREOLK']\n",
      "A100UD67AHFODS ['B0082E9K7U', 'B00108UNEY', 'B00FISD9DO', 'B0053T4PHC', 'B000069EUW']\n",
      "A1T7EHCMZ92TKC ['B000EVSLRO', 'B0025VKUQQ', 'B000O161X0', 'B000OFTRKU', 'B003VAGXZC']\n",
      "A1PPS91NLI7KEH ['B006ZBWV0K', 'B0079UAT0A', 'B0013FRNKG', 'B0064EL2DK', 'B00825BZUY']\n",
      "A3QKIR8J56EUI1 ['B002G1YPH0', 'B005IHAIJ8', 'B000J43HJ8', 'B0014175E8', 'B00DVFLJDS']\n",
      "A19NP8YYADOOSF ['B0017H4G0A', 'B00JF0D7RE', 'B0093IZOV0', 'B000652M6Y', 'B0054JE706']\n",
      "A2CPP7BZKOF9TP ['B0019EHU8G', 'B000068O16', 'B005GI2VMG', 'B0036Q7MV0', 'B009X3UW2G']\n",
      "A1FR68QH6Z4YZM ['B006K5505E', 'B00005LEN4', 'B001ENOZY4', 'B00DUN2PBQ', 'B007BJHETS']\n",
      "A23NSKTMSPPBTR ['B00834SJSK', 'B00DTZYHX4', 'B00EOI2SYK', 'B001S4OTS6', 'B000LRMR26']\n",
      "A198CCH4NNLI2E ['B001XHBNN2', 'B002C744K6', 'B0018DJF4K', 'B000BTQPAO', 'B001NXDQAY']\n",
      "A1G5MI2KREPEIB ['B003NR57BY', 'B000JE7GPY', 'B000JJSQ3A', 'B005F9Q8HU', 'B004HO58NY']\n",
      "A3V15SFD7918WZ ['B004CLYEFK', 'B0034CL2ZI', 'B005J31BCO', 'B00829THO6', 'B008MF3X9K']\n",
      "A3P69DTOXII004 ['B00CRXZPA8', 'B00D9KP70G', 'B00DXFF6EO', 'B00HEYVAN6', 'B000A6NUU6']\n",
      "A3V2EZ6MA32FF6 ['B002TLTE6O', 'B008HO9DK4', 'B002S53LJ2', 'B005A0B7CA', 'B00168BSEW']\n",
      "ABMN74TBW5UWE ['B00746LVOM', 'B0040702HA', 'B000BI2162', 'B00004ZC8Y', 'B003LLS5JI']\n",
      "A2R6RA8FRBS608 ['B0012Y2LLE', 'B00029U1DK', 'B00004Z5M1', 'B000IF51UQ', 'B0035ERKYW']\n",
      "A149RNR5RH19YY ['B001OOZ1X2', 'B00008I9K8', 'B00B99JU5M', 'B00002EQCS', 'B000089GN3']\n",
      "A1T9MILRRZ00F8 ['B00829THEG', 'B000089GN3', 'B0081FLFQE', 'B00829TIA4', 'B00BCA41PW']\n",
      "A3F9CBHV4OHFBS ['B001V9KG0I', 'B005ELBSWO', 9983891212, 'B00004Z5PY', 'B000RZQZM0']\n",
      "A110VKXAVLAYKY ['B001G70M6S', 'B004G6002M', 'B003WPTBAK', 'B00008OT2G', 'B002YVRGPA']\n",
      "A3223W5IROMYTY ['B009NB8WR0', 'B003PJ6QVU', 'B003AJXUTQ', 'B00D02AHEO', 'B009O7YU56']\n",
      "A1YN5I4FINMBTI ['B0019EHU8G', 'B004W2JKWG', 'B004SCSV2U', 'B0036Q7MV0', 'B000SMVQK8']\n",
      "A2V7EO331SFUF6 ['B003ES5ZUU', 'B004C9P9TM', 'B00C87D0XM', 'B000S5Q9CA', 'B00006YZ3Y']\n",
      "A30C8WHQ2CYFO4 ['B001BTCSI6', 'B0033PRWSW', 'B000053HC5', 'B0040JHVC2', 'B000053HBB']\n",
      "AY3D7DG5L5WCK ['B00FJWKYYG', 'B0061HMRA2', 'B004BDOGL6', 'B0079UAT0A', 'B008CXTX7S']\n",
      "A35IX2GE0VC0JP ['B003ES5ZUU', 'B005X64MN2', 'B002I636YG', 'B0088CJT4U', 'B005CLPP84']\n",
      "A1FDSZISWIXH1A ['B00IVFDZBC', 'B00310PJM0', 'B004GUT1QO', 'B00GMTN96U', 'B0079UAT0A']\n",
      "A7EJERNB7IK3Z ['B001D7REIK', 'B002Y6CJJ8', 'B000OH99JW', 'B000UIA6YM', 'B001PNNXGO']\n",
      "A3GFQHHVMEAIO ['B0013DXVYK', 'B000Y33CVM', 'B004SBI2PW', 'B002K7EJDK', 'B00005854B']\n",
      "AQ55H30MZSV0Q ['B000HPV3RW', 'B007PJ4P4G', 'B001QFZMBU', 'B003LR7ME6', 'B005S0XYKK']\n",
      "A212MDP6K4VJS5 ['B002NU5UW8', 'B005CLPP8E', 'B003ZSHKJ8', 'B00005B8HO', 'B002OGEP2M']\n",
      "A26LD9FQHTM8ZH ['B004Q3R9B0', 'B005A0B7CA', 'B002GEQDK4', 'B008PR3Z9I', 'B007USA1F4']\n",
      "A3J2YU2D9BH2J7 ['B0052SCU8U', 'B00461E7JE', 'B0006I1TRY', 'B001W26TIW', 'B002G1YPHA']\n",
      "A20L63B48RPSOH ['B002TLTE6O', 'B004HYGEOQ', 'B00ESYW40S', 'B00CD778LC', 'B0041OMWNY']\n",
      "A1VR1HIOVQWN09 ['B004LSNF04', 'B0019EHU8G', 'B000067RT6', 'B004GF8TIK', 'B000P0NJPS']\n",
      "AO8NH0BV82XIE ['B001TOD7ME', 'B000AYKUUQ', 'B0036NMQ7S', 'B0094S35W4', 'B004UC4HCG']\n",
      "APBDZ88BBTN4F ['B001OI2YNS', 'B003N7NMO8', 'B007KZQM8W', 'B00BWHILCY', 'B000089GN3']\n",
      "A3D0UM4ZD2CMAW ['B003LPUWT0', 'B000JSFZPS', 'B002IO2UM2', 'B000O8JZIG', 'B004LWYE4Q']\n",
      "A3CJ7MHAS9IMAM ['B000V5P90K', 'B00009R6WO', 'B0009I4VE4', 'B00009W5FF', 'B0006VX1G8']\n",
      "A2Y1WNETD9AYHO ['B003KPBRRW', 'B0013LRLUM', 'B007PJ4PKK', 'B00HRO3IBA', 'B000PCVIEU']\n",
      "A2UCDLO7V7DG6 ['B006X98A7C', 'B003DSEJWQ', 'B000T93UR2', 'B007TUSXEY', 'B0016BUKJS']\n",
      "AKCZIJ6ZHE41D ['B0019EHU8G', 'B0015EA3NO', 'B000WOIFO2', 'B004CADY9I', 'B0012JCYPC']\n",
      "A3PU3EDJ2FG1AW ['B003ELVLKU', 'B001NJ0WCS', 'B000VE2RP6', 'B001CZKSWW', 'B0072B5DZC']\n",
      "AAQ9NJ480N9W5 ['B000NP3DJW', 'B00009XVCZ', 'B005JN9310', 'B0043WJRRS', 'B00006RVPW']\n",
      "A328S9RN3U5M68 ['B00DTZYHX4', 'B00IX2VGFA', 'B00BLCVD9I', 'B00AYQ433U', 'B00FMTIUD8']\n",
      "A2NP9CGUSFP22E ['B004RORMF6', 'B002V88HFE', 'B0013LRLUM', 'B00BWF5U0M', 'B000ENUCR4']\n",
      "A31RULW0KNYJ5H ['B0082E9K7U', 'B0025VKUQQ', 'B005GVAWXS', 'B00D6PTMHI', 'B0040723AE']\n",
      "AKT8TGIT6VVZ5 ['B000EOSHGQ', 'B00004XOM3', 'B000EW9Y4M', 'B00CD8ADKO', 'B00005LEN4']\n",
      "A3FPSY1M6G7XIB ['B000BY52NK', 'B007RZB3KM', 'B000144I2Q', 'B0000A1G05', 'B0099XGZXA']\n",
      "A3963R7EPE3A7E ['B002WE4HE2', 'B003ES5ZUU', 'B00077AA5Q', 'B0042FZ50O', 'B00CQ35C1Q']\n",
      "A3L9E0YI7C5G0W ['B003ES5ZUU', 'B001TH7GUU', 'B004W2JKWG', 'B003FVVMS0', 'B008AST7R6']\n",
      "A2V1J3JT5OOZFO ['B000HPV3RW', 'B007R5YDYA', 'B001FWBUUG', 'B000652SOK', 'B008XV7VTG']\n",
      "A20ZM879PCQQEZ ['B0019EHU8G', 'B009NHAEXE', 'B002UOR17Y', 'B003WOL4VK', 'B006SOMERY']\n",
      "A1R6RKKE44AYA8 ['B000QUUFRW', 'B00BT7RAPG', 'B005OFFH5Y', 'B00834SJSK', 'B006YTUQ1O']\n",
      "A2OWR5G2OAQF7C ['B00829THVO', 'B008MF48J4', 'B004JMZPJQ', 'B00CD1FB26', 'B0006Q3B2W']\n",
      "ASJZT7DM51QEM ['B003HFCDLY', 'B00COF7DGS', 'B00HVT27B8', 'B004V4IWHY', 'B00829TIEK']\n",
      "A1J75JJ0Q2OEJN ['B00EXK1L38', 'B001FA1O18', 'B001TOD7ME', 'B001NJ0D0Y', 'B00000J1V3']\n",
      "A1UQUDT2Q0YENM ['B000MX48VM', 'B003CFATT2', 'B000BQ57BU', 'B004CLYEE6', 'B003RRYAXQ']\n",
      "A3DOPYDOS49I3T ['B00ATM1MHO', 'B000QUUFRW', 'B000EPHP4U', 'B00A0JUNWQ', 'B002VPE1Q6']\n",
      "A2AY4YUOX2N1BQ ['B00DTZYHX4', 'B000VX6XL6', 'B005ELBSWO', 'B000NP46K2', 'B001UNI80A']\n",
      "AENULRBQ2IE5I ['B001NS0OZ4', 'B004XC6GJ0', 'B001G04VJO', 'B005HSG3TC', 'B00A9NE84C']\n",
      "AN0JK8OQLUC55 ['B000VX6XL6', 'B001GIPSAW', 'B007US83IG', 'B002LARRDK', 'B00066EK36']\n",
      "A2L36AGL8CKY3D ['B002WE6D44', 'B006JINHYS', 'B0062HIQLU', 'B004Q81CKY', 'B0009PTBZ6']\n",
      "APQQK1V695AUE ['B000BYVA8Q', 'B00008VIX2', 'B00065X51U', 'B0012YHQVE', 'B000VU0CQG']\n",
      "ALHC64J88LVWO ['B008Z2661W', 'B0089ZV1WY', 'B005YHC4LW', 'B000F46CQM', 'B0016RNX2I']\n",
      "AGFSSC5DBY2HU ['B00IVFDZBC', 'B00EH5UGR6', 'B001S4OTS6', 'B000E6G9RI', 'B00D78Q2AO']\n",
      "A233TZONT1OGR0 ['B000M17AVO', 'B000T9DHZW', 'B000OG88KY', 'B001716LMM', 'B000092TT0']\n",
      "A35X2JJI49OBZP ['B001EYV9TM', 'B003YL412A', 'B0017JY5FE', 'B0064EL2DK', 'B0084V5FOI']\n",
      "A23ZNGL704AW7O ['B00HZWJGS8', 'B00HFRWWAM', 'B0081FLFQE', 'B000T8CWFE', 'B00452V66G']\n",
      "A4IEUHNRFZO0 ['B000OFWJO6', 'B000F9YN22', 'B007BJHETS', 'B0074024XU', 'B005T3LKKM']\n",
      "A3SP7T2PZ3HSDE ['B009NHWVIA', 'B00BOHNYU6', 'B00COEBCXY', 'B002TLSOG0', 'B000EPHP4U']\n",
      "A3639Z6O5JBLIZ ['B000HPV3RW', 'B00081A2KY', 'B005FYNSPK', 'B00AJHDZSI', 'B006DKEUWK']\n",
      "A1MCH5RXDOH87H ['B008EQZ25K', 'B007R5YDYA', 'B000QUUFRW', 'B002V8C3W2', 'B005KP473Q']\n",
      "A1B0NL8UWAELI7 ['B005NC8BF6', 'B007P71IM0', 'B004C3AW40', 'B000CD6B6W', 'B005LJKEXS']\n",
      "A4U27URFECK1U ['B004CLYEFK', 'B00834SJSK', 'B0097FZRYI', 'B00HFRWWAM', 'B00BOHNYU6']\n",
      "A105TOJ6LTVMBG ['B0019EHU8G', 'B004S4R5CK', 'B004W2JKWG', 'B001UNM414', 'B001KB6Z2U']\n",
      "A141OPVE376YFI ['B004Q3R9AQ', 'B001CIREXA', 'B001QUA6R0', 'B00126V8WU', 'B000LRMS66']\n",
      "A18GJ9MYYO6GCQ ['B0046TJG1U', 'B005HY4U5A', 'B002MPPHKY', 'B0079UAT0A', 'B008X9Z8NE']\n",
      "A29GWIJL72GXXZ ['B00000K13A', 'B0014KKV7W', 'B0001GGXQI', 'B00076FVP6', 'B0014KROZO']\n",
      "A1P4XD7IORSEFN ['B000IJY8DS', 'B005PAINXQ', 'B00003CWDH', 'B00DMCVKMU', 'B0084OIY0M']\n",
      "A2VC48WIMY6L6E ['B008EQYRRY', 'B003ES5ZUU', 'B000QUUFRW', 'B001E3XLZS', 'B00EFILHB4']\n",
      "A2JOPUWVV0XQJ3 ['B000N99BBC', 'B005CLPP8E', 'B007DL79FS', 'B001NJ27QM', 'B0042X8W0Q']\n",
      "A3QNQQKJTL76H0 ['B000N99BBC', 'B00829TIA4', 'B0082E9K7U', 'B001S0PWWC', 'B005IMFX2K']\n",
      "A26877IWJGISYM ['B00829TIA4', 'B004CLYEFK', 'B003CFATT2', 'B004YLCKYA', 'B00871SR68']\n",
      "A11D1KHM7DVOQK ['B0009FUFPG', 'B00005B9W6', 'B00006JILW', 'B0002I5RHG', 'B00004T8R2']\n",
      "A38NELQT98S4H8 ['B005DSPLCQ', 'B00378KLYC', 'B0090CVJZ4', 'B001PUQ7PG', 'B005N3TPJQ']\n",
      "A35A2RWUMC737N ['B005GI2VMG', 'B004VM1T5S', 'B004B8GF7Y', 'B00I5SW8MC', 'B004OBZ088']\n",
      "A10NMELR4KX0J6 ['B002WE0QN8', 'B003VAM32E', 'B003NR57BY', 'B007SZ0EHE', 'B007SZ0EOW']\n",
      "A1FDV3WPOHREY9 ['B00007GQLU', 'B00009XVCZ', 'B000P1O73A', 'B00009R6JT', 'B001PKEJYM']\n",
      "A35HOUWHAYZZN6 ['B00CQ35C1Q', 'B007GNN0AG', 'B005A0B7CA', 'B0094CX5M0', 'B001TOD7ME']\n",
      "A32O5FZH994CNY ['B00BOHNYU6', 'B008GVL9YQ', 'B001FA1NK0', 'B008M0NDRM', 'B002C7481G']\n",
      "A3LZA698SQPCXE ['B00IVFDZBC', 'B009YQ8BTI', 'B00COYOAYW', 'B00AR95FOU', 'B0055QZ216']\n",
      "A2QDOJFFLFGF18 ['B009NHWVIA', 'B00829THVO', 'B000067RVL', 'B0058GK55Q', 'B008X1BV2Y']\n",
      "AOEAD7DPLZE53 ['B00BW6KCTU', 'B000VX6XL6', 'B002WE4HE2', 'B009D79VH4', 'B002K7EJDK']\n",
      "A145LBW8ZHF0TW ['B003LSTD38', 'B0015YJOK2', 'B004FEEY9A', 'B000095S9V', 'B000NG67E4']\n",
      "A3M7R4PD0FEPUB ['B0030MITDK', 'B001542UQW', 'B00EXK14S0', 'B009APC0S6', 'B003M8HWDA']\n",
      "A21T0D2F7SKG5S ['B0000BZL5A', 'B006QB1RPY', 'B0002Y5WXE', 'B000I1YIDQ', 'B00006I53X']\n",
      "A1NZLRAZJGD99W ['B000067RC4', 'B00000JDF6', 'B008C1JC4O', 'B0055XKBW4', 'B002HR8HV8']\n",
      "A5A4374R8I7NB ['B002WE6D44', 'B001LJG102', 'B0050PKKKK', 'B005TP4LV0', 'B0052N9HWM']\n",
      "A1CN1P7147QDJC ['B006QB1RPY', 'B003WUBIZQ', 'B004CADY9I', 'B00BQ8RFAI', 'B007WT9SSC']\n",
      "AU3GYRAKBUAEU ['B004HIN7SI', 'B000204SWE', 'B005HSG446', 'B0043T7FXE', 'B00191PKJK']\n",
      "A3B20R4ZAH0Y2Y ['B00092GM0Q', 'B00AAHT8JC', 'B00CB2F65O', 'B00070QI1I', 'B004C26XHQ']\n",
      "A3CEUT263RNUDO ['B000N99BBC', 'B00D6XW62I', 'B00COF7DGS', 'B00004XOM3', 'B003M0NURK']\n",
      "A1KI7YHQEOS1RB ['B0043WJRRS', 'B004GF8TIK', 'B003X7TRWE', 'B000I23TTE', 'B004G6002M']\n",
      "A2K5RRMPICZ606 ['B003ES5ZUU', 'B002WE4HE2', 'B006JO232E', 'B005SAKW9G', 'B004PYEBY8']\n",
      "A1435P5AMCPB3X ['B002I636XM', 'B00119T6NQ', 'B0002GV876', 'B000NDBRJC', 'B000H7FXHG']\n",
      "AG8YP2XTC5X1I ['B001FO4QHI', 'B00005T3Q2', 'B005H3Q57M', 'B00C37AZXK', 'B00B5HE3UU']\n",
      "A1C5WS021EL3WO ['B001TH7T2U', 'B000067RT6', 'B002SQKL7Q', 'B0002YE6FY', 'B005058B56']\n",
      "A11YOTONCPRQ9S ['B003Z4G3I6', 'B000UHQVOW', 'B003ZUIHY8', 'B005FYNSPK', 'B0031RG29M']\n",
      "A2PMR2PIGWKCQ9 ['B005LDLP8W', 'B003ES5ZUU', 'B0002CPBWI', 'B000QUUFRW', 'B0095F5AFG']\n",
      "AQ2FC1DLKVD8H ['B001TH7T2U', 'B009SQQF9C', 'B00EH5UGR6', 'B003XZSZWO', 'B007R8U5R6']\n",
      "A3AGQAXTX6VRJ3 ['B000HDJT4S', 'B00164822W', 'B002C7489S', 'B001P06Q48', 'B003JV3XZ6']\n",
      "A2RW587355CMVA ['B001BM5XB2', 'B003CFATT2', 'B00JC5Y6WM', 'B0036V9AGU', 'B002K9IHGI']\n",
      "A26EQ8U96JA92T ['B00969J3EU', 'B003LVZO8S', 'B004Q3R9B0', 'B004GW25WY', 'B000BQ7GW8']\n",
      "A2R1HUYHXV7H18 ['B002ZIN9DU', 'B00IVFDZBC', 'B002MCZJ78', 'B00FSA8VQ2', 'B00C9TECFO']\n",
      "A1WJ3P43SZUNDM ['B005ES0YYA', 'B004W2JKWG', 'B006K5505E', 'B003VAHYNC', 'B002DUEBIC']\n",
      "A2EW01G2LNJN06 ['B00017LSPI', 'B0015AARJI', 'B0041OYS36', 'B00006JPDI', 'B007JF8FD8']\n",
      "A2I357I10ZY7CI ['B002V88HFE', 'B001AHALEC', 'B004GF8TIK', 'B0034CL2ZI', 'B001NS0OZ4']\n",
      "A2OS3TIVAKUAHG ['B00COF7DGS', 'B003ZSHNE0', 'B005NYPC1U', 'B009AEYDZA', 'B003YNO0LA']\n",
      "AGHZXQL9F94T9 ['B00008OE46', 'B00008OE5G', 'B00008J6VW', 'B00006IR39', 'B0002ZAIMI']\n",
      "A2NVQZ4Y7Y0J1R ['B003ES5ZUU', 'B000ZMCILW', 'B004TS2AOS', 'B001ENOZY4', 'B003LPUWT0']\n",
      "A3UKWQS8SRW6IO ['B00829THVO', 'B000TXZIDM', 'B004HHICKC', 'B0040702HA', 'B003OC6LWM']\n",
      "A28X0LT2100RL1 ['B007R5YDYA', 'B003HFCDLY', 'B002Y6CJJ8', 'B000067RT6', 'B00006JN3G']\n",
      "A3UW0PQLDUACMH ['B00D6XW62I', 'B005IHAIJ8', 'B005O9YMM4', 'B004CLYE8C', 'B0050IE1O8']\n",
      "A36IHC0K68NS2 ['B006LW0W5Y', 'B002NU5RZS', 'B00829TIEK', 'B00DTPYQBM', 'B0002UM0JW']\n",
      "A1UCAVBNJUZMPR ['B000LRMS66', 'B0017JY5FE', 'B0074BW614', 'B00DV2QX3M', 'B0096T97OG']\n",
      "A19HKRB4LU5YR ['B00829THVO', 'B004W2JKWG', 'B00HFRWWAM', 'B00000J1U8', 'B007PTCFFW']\n",
      "A2Q7OJTVPIO2XH ['B0000BZL1P', 'B0084FM5JC', 'B00EY3YGBS', 'B0058G40O8', 'B0096WD0KU']\n",
      "A3KCETSIJNOK56 ['B000FBK3QK', 'B00CSIOLXY', 'B003ULJU2A', 'B001QWWXA6', 'B0002BEUZ8']\n",
      "A24RCBRDXRXR0Y ['B00BP5KOPA', 'B00634PLTW', 'B00BB0ZSIC', 'B0041NO012', 'B009LU80RK']\n",
      "A2MIP3AQVSF2SS ['B000N99BBC', 'B007WTAJTO', 'B0002D6QJO', 'B008HK50ZA', 'B0009WU65I']\n",
      "A1ZBEIL78MLR9Z ['B004TS2AP2', 'B003TXRTNG', 'B000083CUA', 'B0011Z44UA', 'B00B1YZSOC']\n",
      "AYP0YPLSP9ISM ['B00829THK0', 'B001RB21JY', 'B001TOD7ME', 'B005JXAEGS', 'B008X6C4I4']\n",
      "A1SFPA80X7TRBR ['B000QUUFRW', 'B0002Y5WZM', 'B0041MY32Y', 'B001FXZTIY', 'B0002Y5WZC']\n",
      "A379DLIAF0MFM5 ['B000N99BBC', 'B001TH7GVE', 'B00834SJNA', 'B001SJVU24', 'B00272MT3A']\n",
      "A3IUW081KXD3PE ['B009X01C64', 'B002NP8XJ0', 'B0043M668G', 'B005I6EU48', 'B005VAORH6']\n",
      "AMS2CPERWN7JV ['B00E98O7GC', 'B0030MITDK', 'B002MCZJ78', 'B005VONPT8', 'B0007XJSQC']\n",
      "A2JMJVNTBL7K7E ['B00DQKQ7U8', 'B0011U65F2', 'B002J9HBIO', 'B004GHMU5Q', 'B001F7AJKI']\n",
      "A257X1MQJO82P2 ['B005IMFX2K', 'B004HREPCQ', 'B0012IJYZ6', 'B002VJL0OI', 'B00009R6TA']\n",
      "A3NKRH3TJ4DPVI ['B0012Y2LLE', 'B0002CPBWI', 'B001C271MA', 'B00005T3H5', 'B007WTAJTO']\n",
      "A38NHXL5257E3B ['B00EOE4G4E', 'B0091PEC3Q', 'B008X1BV2Y', 'B00EXK1KZW', 'B00CB2F65O']\n",
      "A1R3GN9MEJFXM3 ['B009USAJCC', 'B001QUA6RA', 'B007WTAJTO', 'B0023NVS30', 'B00012FVYC']\n",
      "ASJSX783R5HTZ ['B0000BZL1P', 'B00006B7DA', 'B003HFCDLY', 'B001QUA6R0', 'B001TH7GUU']\n",
      "A3VBZDYGHF4NK8 ['B003ES5ZUU', 'B001HSOFI2', 'B00FZ9SMVU', 'B008RVJJZG', 'B005KG3NQM']\n",
      "A2DKQQIZ793AV5 ['B009USAJCC', 'B009QV15DU', 'B00GX9A06Q', 'B00AHBKW2S', 'B005C6CVAE']\n",
      "AW6FQE5QRF2LM ['B005PQTYHE', 'B009USAJCC', 'B004HHICKC', 'B000UHQVOW', 'B00104XCVO']\n",
      "A2LLSFQO8O8XNW ['B0012Y2LLE', 'B00429N18S', 'B001FVI91U', 'B000VE2RP6', 'B00116SLYY']\n",
      "A13WREJ05GMRA6 ['B003VAHYNC', 'B009F1DYF8', 'B001S4OTS6', 'B003ZSP0WW', 'B00906E03I']\n",
      "A30UP2KKD5IQEP ['B001TH7GSW', 'B002K9IHGI', 'B005KAK2FI', 'B00HR7FWUC', 'B0008GP880']\n",
      "A26CPEEWB2WKRE ['B000B9O83A', 'B003VTZFNE', 'B008OGEA0S', 'B00D77KEEK', 'B00EZ9XG5I']\n",
      "ALRCAGJOJ9583 ['B006LW0W5Y', 'B000089GN3', 'B000NOEDGK', 'B000DZH4D8', 'B0078K17WK']\n",
      "AZAC8O310IK4E ['B001V9KG0I', 'B000HPV3RW', 'B002V88HFE', 'B003VANO7C', 'B003ZSHNGS']\n",
      "A3FEJ8H2VTN0OJ ['B00DSUTVK4', 'B008RJZQSW', 'B003WV5DJC', 'B0007Y836W', 'B004Y02R1W']\n",
      "AH5BCMZELZSKG ['B005Y8BYOE', 'B00D6XSRL2', 'B009P7JJEC', 'B008D1RMGI', 'B00F4A8FQM']\n",
      "A27GITTN6AVW5I ['B00EOE4G4E', 'B008ALAHA4', 'B00FA1Y65O', 'B000KE48CM', 'B001N85NMI']\n",
      "AJCR7L4AXL2OG ['B00AMPIVFO', 'B0000A0AEM', 'B00427ZLRO', 'B00004SABB']\n",
      "AGOH8N902URMW ['B00889ST2G', 'B007BXD66E', 'B005DIQ2OC', 'B003CFATT2', 'B0023B14TK']\n",
      "A2D1LPEUCTNT8X ['B00BERGFV6', 'B00DK2JQOQ', 'B000F9YN22', 'B0036AWR8E', 'B005FDXZJU']\n",
      "AEAFHD09X8044 ['B008EQZ25K', 'B000FBK3QK', 'B004G6002M', 'B001L1H0SC', 'B000E8BGCO']\n",
      "A3HRDRQ5VAFPQS ['B006W8U2MU', 'B003CJTQJC', 'B0023B14TK', 'B0016BVKAQ', 'B000ONZTMW']\n",
      "AMO1MLSIJSQOF ['B00DQZRKY0', 'B000FJUMWC', 'B00DQZRQPI', 'B00EJ8CKGG', 'B003YKG2XM']\n",
      "A3HR0ZZOFKQ97N ['B002MZUNXU', 'B006WAGG14', 'B004Q3R9B0', 'B003MVZ60S', 'B00BWHILCY']\n",
      "A3O4OIBCML0683 ['B002YU83YO', 'B001MSU1FS', 'B008Y8PON8', 'B000JE7GPY', 'B005KQ0S8S']\n",
      "A15CL28ALB7MTZ ['B000JMJWV2', 'B002K9IHGI', 'B00007EDZG', 'B000RY2PLQ', 'B0009U6YQK']\n",
      "A1KWPIORLG2QV ['B000EVSLRO', 'B0000511U7', 'B00AJHDZSI', 'B003B41XYO', 'B0051PGX2I']\n",
      "A2OOXVZ6B1VZ9A ['B002WE6D44', 'B000RZNI4S', 'B00015Y0FK', 'B000FYZARY', 'B005A0O8QW']\n",
      "A1U5IJHJK84S54 ['B002WE6D44', 'B000LRMS66', 'B004LZ5XMU', 'B005IVUWHW', 'B0045TYDNC']\n",
      "A1ZPY91VE3IDN1 ['B0042A8CW2', 'B000NLLXVQ', 'B002C1BHIO', 'B008MF48J4', 'B008MF3X9K']\n",
      "A3RGJ1FXOB1ZLL ['B0001GRTK2', 'B00B1R8JT0', 'B0001Y7UAI', 'B004Q0PT3I', 'B004SBI2MU']\n",
      "A2Q2A6JKY95RTP ['B0081FLFQE', 'B005DKZTMG', 'B00AVWKUXE', 'B0012JCYPC', 'B0015HYPOO']\n",
      "A1OH33MR6K4G5J ['B0002LEMWE', 'B003YGVDDU', 'B000X9O8SI', 'B002WVMHDI', 'B00746W3HG']\n",
      "AVPNQUVZWMDSX ['B00D5Q75RC', 'B007WTAJTO', 'B000MP831G', 'B00BOHNYU6', 'B007E2M3SY']\n",
      "A3UW23DBF2KHWC ['B008AST7R6', 'B00FISD9DO', 'B0002JY712', 'B00E055H5O', 'B0038W0K2K']\n",
      "A15G70V9OBTOVO ['B00005LEN4', 'B00894YP00', 'B004HO59M4', 'B001DL9WDG', 'B008NENG1A']\n",
      "A1FLJCHN5CG5M5 ['B001940S1C', 'B003D5MY5I', 'B008I636D6', 'B00310EF2A', 'B003DKQB02']\n",
      "A1NJHKPHD4YWZV ['B00006I53X', 'B000VM8EDW', 'B0018LQVIA', 'B005MYAHJ8', 'B000IZDN60']\n",
      "A2DS9DLMSU2M2Z ['B001TUYTZM', 'B0036WTDHK', 'B0001GMIOE', 'B004CLYJ0K', 'B008MPB9YQ']\n",
      "A1AH8033GWKBY7 ['B002JQNXZC', 'B003NSBLOK', 'B00406MWZQ', 'B007BZ1092', 'B002WVICXM']\n",
      "A2S26YGSVXBCFL ['B00B3PDHBU', 'B003CJTQJC', 'B002TLTE7I', 'B00D6XSRL2', 'B00011G5FW']\n",
      "AP53MVRC8ZEW2 ['B005FYNSPK', 'B006YLTLUY', 'B007GFX0PY', 'B008R7EWEI', 'B002W7U3E2']\n",
      "AWH2AY17ZU7W2 ['B00G6IJ5NI', 'B0008D76L0', 'B00168BSEW', 'B00884WH74', 'B0055MBQOW']\n",
      "A3775OP5VTX5ON ['B003WUX6PG', 'B003M5GVJY', 'B00001W0DI', 'B002RM08RE', 'B004X355Y6']\n",
      "A3JU16JTNLVK1J ['B000S5Q9CA', 'B000IF51UQ', 'B0002Y5WZC', 'B007PJ4PKK', 'B002FFG6JC']\n",
      "A1JZFGZEZVWQPY ['B003Z4G3I6', 'B003IHUHGE', 'B007I5JT4S', 'B00829TIEK', 'B002FB684E']\n",
      "A2294LS59GC5K7 ['B004YTCNJY', 'B003ZBZ64Q', 'B0025EWXEU', 'B0089V4WOC', 'B00009UT9B']\n",
      "A2VCXIAWCPQ13P ['B0010Z28XG', 'B001NS828K', 'B004G6002M', 'B002IJA1EG', 'B0000A2QBP']\n",
      "A2XU6J41ZQOJ2V ['B0019EHU8G', 'B004WK3U9W', 'B004HNCRNO', 'B00007E7JU', 'B000BONJXU']\n",
      "A11ULAZ4B5ZXC8 ['B000N99BBC', 'B003A4H2LI', 'B00005T3BD', 'B00BS92DCA', 'B00481KO30']\n",
      "A1ZPUEHF4AES86 ['B005ES0YYA', 'B000O5N5AI', 'B001KELVS0', 'B005U0M9B8', 'B0012IYLMM']\n",
      "A2VODABWSVHV8E ['B0012W7HQK', 'B0042X9LC4', 'B000MDZKUU', 'B007ILK234', 'B005FYNSPK']\n",
      "AM9APPMIE1BHZ ['B00D429Y12', 'B004S4R5CK', 'B00ESYW40S', 'B007B5QQ96', 'B003XU6H8I']\n",
      "AYOMAHLWRQHUG ['B002TLTE6Y', 'B001TZWNF0', 'B001OC6DCW', 'B004Q3R9B0', 'B00B3PDH5G']\n",
      "AEFTIUQHSVUFX ['B0000BZL1P', 'B00009XVCZ', 'B000AZ57M6', 'B0002Y5WZM', 'B009B0MZ8U']\n",
      "A2BX8DDQGCCG2J ['B000067RVL', 'B002VPE1Q6', 'B00746LVOM', 'B004YDUZ22', 'B003T5KXJQ']\n",
      "A2WJ5XSE4I9F55 ['B000EFIJTA', 'B004FA8NOQ', 'B001E1Y5O6', 'B0039YON5C', 'B000EFMPCW']\n",
      "A1V5TRJXTI6F01 ['B001AW8W7A', 'B0064R9H2A', 'B001UGMTKC', 'B0017JY5FE', 'B0041Q38NU']\n",
      "ABVYGB2TKBO8F ['B00BOHNYU6', 'B0036Q7MV0', 'B003WUBIZQ', 'B001KB6Z2U', 'B0043AV8ZE']\n",
      "APBB297H3ZA5E ['B0017H4G0A', 'B003HFCDLY', 'B0016XIQ1U', 'B000HDFXU2', 'B001FWBUUG']\n",
      "A2JRDFIGWTX50J ['B0007CZ70Y', 'B0002ZW5W4', 'B00008VF63', 'B0009N5MDI', 'B0002JY6TK']\n",
      "A2MOJANFPX353G ['B004RORMF6', 'B009USAJCC', 'B0002RBQO0', 'B0093HMKVI', 'B00BD7UXT2']\n",
      "A3VL4RXCWNSR3H ['B00007IFED', 'B004EBUXHQ', 'B00008Y1BX', 'B000062R4P', 'B00CE58ZYC']\n",
      "A2X695AM08AIN1 ['B007WTAJTO', 'B000WXSO76', 'B00DJERMRS', 'B003YKG2UK', 'B00511PS3C']\n",
      "A2THQCHKR89E16 ['B002V88HFE', 'B00009V6U0', 'B004N85YBA', 'B004PYEBY8', 'B0019DKOVW']\n",
      "A28UMA3GW9L124 ['B000VX6XL6', 'B00FRMAOIO', 'B000F34FVM', 'B009YT6PPC', 'B0050A1O64']\n",
      "A1GNYV0RA0EQSS ['B003JZU8DC', 'B005KFONIU', 'B0079UAT0A', 'B008MF3X9K', 'B00D96BMV8']\n",
      "A3N0P5AAMP6XD2 ['B002V8C3W2', 'B00834SJNA', 'B00BQ8RFAI', 'B002WE6D44', 'B007W02PRM']\n",
      "A3BKNXX8QFIXIV ['B004CLYEDC', 'B001OOZ1X2', 'B00IRRDHUI', 'B004CLYEFK', 'B00972M942']\n",
      "AMUP8DYE7EAN2 ['B00BOHNYTW', 'B002V88HFE', 'B00829TIA4', 'B004YLAYHA', 'B000067SGI']\n",
      "A319Y83RT0MRVR ['B009NHWVIA', 'B0057UUB1G', 'B004ROOCO0', 'B00DQZRQPI', 'B0044WWLW0']\n",
      "A2W9GX82SLKROQ ['B000N99BBC', 'B004Q3R9AQ', 'B004W2JKWG', 'B000AZ57M6', 'B004WB8EYM']\n",
      "A1F1A0QQP2XVH5 ['B0002CPBWI', 'B003HFCDLY', 'B001M4HXB2', 'B00BOHNYU6', 'B00746YHV6']\n",
      "A2JXS1JII6SAUD ['B001FA1O18', 'B007R67FNA', 'B003YL412A', 'B005UDITPK', 'B004X8EO6Q']\n",
      "A3UR2N0ATGBCU8 ['B005869A16', 'B00CXACPN0', 'B00G0MP05W', 'B005DKZTMG', 'B000UHE8Y2']\n",
      "A3E3EQ39FZTZEK ['B001TH7T2U', 'B007R5YDYA', 'B00752R89C', 'B00006HSM2', 'B006TAEH7W']\n",
      "A1USYP4AXF5I1D ['B003VAHYNC', 'B002N2EHVQ', 'B0017JY5FE', 'B003WOL4VK', 'B00305N48C']\n",
      "A18U49406IPPIJ ['B00H7PBWK8', 'B000CKVOOY', 'B00G4UQ6U8', 'B008AST7R6', 'B00G4V0QSK']\n",
      "ASRA2UZ3JV87B ['B00E3RHS6A', 'B002OOWC3S', 'B00E6HG1XI', 'B000EWD4TS', 'B003B4AVRE']\n",
      "A1CM4HI4S5P0WO ['B001PNNXGO', 'B000RHZJN4', 'B001M4HEVG', 'B00066Z9XG', 'B003FO4UHW']\n",
      "A3FBM0RMCMAABV ['B00EHZYWGM', 'B00834SJSK', 'B0040YFPSO', 'B00EU9V3S0', 'B00DQZQPNM']\n",
      "A3SDJ70H00OQCJ ['B004XC6GJ0', 'B005CLPP8E', 'B004G6002M', 'B004G6076G', 'B002VK7L04']\n",
      "A5Q1FK0FWU7DH ['B0010Z294O', 'B001TOD7ME', 'B00829TIA4', 'B0009YDP7W', 'B001NJ0WCS']\n",
      "A3P1508PZ0UADD ['B005FYNSPK', 'B001EDXPMC', 'B004G6002M', 'B00AU0HMGA', 'B000EPNDEG']\n",
      "A20G074MWH9U7O ['B0043WJRRS', 'B000EMWBV0', 'B00CB2F65O', 'B002SOU2Y0', 'B00D856NOG']\n",
      "A2SL5IW096Z2BL ['B004FA8NOQ', 'B005UA3I72', 'B004Z0S6RU', 'B004TLIVB6', 'B0066D608G']\n",
      "A18NDN2CIG2TKR ['B008UH8SRM', 'B005C95NNI']\n",
      "A247L282PID4PE ['B001F7AHOG', 'B005HMKKH4', 'B006ZCHVM2', 'B00FEA01O6', 'B004KZJ0UM']\n",
      "A3284KYDZ00BZA ['B006YQBKE4', 'B009Z7KMUM', 'B00EO302SO', 'B003FMUMN0', 'B000RZQZM0']\n",
      "A2F92M62KN324B ['B00BW6KCTU', 'B002JQNXZC', 'B009NHAEXE', 'B003LVZO8S', 'B005DSPLCQ']\n",
      "A3QUDXLOJTKEP9 ['B00006B7DA', 'B004YTQ4UI', 'B001H0GI9Y', 'B005LU2Z2A', 'B000EUGX70']\n",
      "A1901NTE8LFJF6 ['B001T9NUJE', 'B001PIBE8I', 'B002LITI70', 'B004WOBMIY', 'B00FF9MLQW']\n",
      "A32T2H8150OJLU ['B002TMRZOQ', 'B001TH7GT6', 'B000M2GYF6', 'B000ZMCILW', 'B003M2YP6S']\n",
      "A3PGVJF37JSHFO ['B00A9NE84C', 'B005JN9310', 'B006UMM1PO', 'B000021YU8', 'B0042FZ51I']\n",
      "A1VTCSCH8FFC76 ['B006JH8T3S', 'B002WE6D44', 'B001DCE672', 'B003BLQHN4', 'B00DB3SH2G']\n",
      "A1PM7HH4F77NEH ['B003XM1WE0', 'B001NS0OZ4', 'B0055QYJIS', 'B001RNNX8K', 'B00140DBRY']\n",
      "AD8DLOGHAXL ['B00024ENWU', 'B00025O7FC']\n",
      "A1Y051MQ2SVPFI ['B008JJLW4M', 'B00006B9CR', 'B007I5JT4S', 'B005YW7OLM', 'B004J3ZV62']\n",
      "A1ODOGXEYECQQ8 ['B001TUYTZM', 'B0013FRNKG', 'B005O9YMM4', 'B0082E9K7U', 'B0007QKMQY']\n",
      "A2HXE29CU1I24Y ['B001NJ0WCS', 'B001NPEB5Q', 'B0000AKVHF', 'B000AYDQB6', 'B001U3ZH7W']\n",
      "A1U5NWJOYH2QQH ['B000M2TAN4', 'B001UI2FPE', 'B008DW95NA', 'B004Q0PT3I', 'B0007P11M4']\n",
      "A22MANL4US4RMY ['B000QUUFRW', 'B00017LSPI', 'B003L62T7W', 'B0002RBQO0', 'B000CDA802']\n",
      "A3V8P0O224OBDB ['B001TH7GSW', 'B002MMY4WY', 'B004G8QO5C', 'B00000JDF5', 'B006P2594Y']\n",
      "A3KCKECEO3E2AN ['B004ELA0SS', 'B009A6CZ30', 'B007K3SB6K', 'B00CD1FB26', 'B004GUT1QO']\n",
      "ABMNX856X89CS ['B0090A8TWW', 'B0097FZRYI', 'B001VZ1W5U', 'B0043EV20Q', 'B00FH66AW4']\n",
      "ATS2855497V0I ['B00BQ4F9ZA', 'B000N99BBC', 'B009SYZ8OC', 'B005CWIRPG', 'B001NTBVPA']\n",
      "A2WLNSZ9U0T1S3 ['B001UI2FPE', 'B003ES5ZUU', 'B00AJHDZSI', 'B001P05NBA', 'B001NJ0WCS']\n",
      "A38V76R24EJSHA ['B00333F2YU', 'B0026IBI1O', 'B004KCKSE2', 'B0028Y4F4S', 'B00713DPM4']\n",
      "A3D01HLSUFEZQY ['B005FRI50K', 'B000V5K3FG', 'B002TI71HQ']\n",
      "A18EA7MNLXP9H5 ['B0052SCU8U', 'B000UHQVOW', 'B008RJZQSW', 'B000V1LX4K', 'B000EW2XQ8']\n",
      "A2PY5ED630H0QJ ['B005ES0YYA', 'B001TANZ0W', 'B004W2JKWG', 'B00004XOM3', 'B000CH3IIW']\n",
      "A24QFMD1RXLJMB ['B000V7AF8E', 'B002ISXBFI', 'B004FHO5Y6', 'B008TT7CXW', 'B000M87F0I']\n",
      "A1MRPX3RM48T2I ['B003FVJYF8', 'B0001Y7UAI', 'B00E3W15P0', 'B000BSN4UY', 'B000J43HJ8']\n",
      "AFFVUZEGP1FDQ ['B00DTZYHX4', 'B0082E9K7U', 'B00IX2VGFA', 'B004ZEZB92', 'B00HG1L334']\n",
      "AWNJAY0M5UI70 ['B002RCNX8K', 'B00511PS3C', 'B00429N18S', 'B004GF8TIK', 'B006EWUO22']\n",
      "AVFJ327UXPXLF ['B000FQ2JLW', 'B00JC5Y6WM', 'B000OBJW1S', 'B004SGJCCO', 'B000O8WE66']\n",
      "A1BJOHHLG0D965 ['B00316263Y', 'B0041OUA38', 'B003M0NURK', 'B001E1Y5O6', 'B0036VO6IC']\n",
      "A27B1U3OWCU14J ['B005HSDLCO', 'B00160TYR8', 'B003BYRGJU', 'B000WAHFBK', 'B001BY97JO']\n",
      "A3NVZTGPORNPRW ['B004ELA0SS', 'B00005T3G0', 'B001QUA6R0', 'B005MR4P0W', 'B005EORRBW']\n",
      "AXYM52DNK6NDF ['B002V88HFE', 'B002QAUN2M', 'B006TT91TW', 'B00009VQJZ', 'B006ZB39QU']\n",
      "A19W47CXJJP1MI ['B00DR6DQZA', 'B009NHWVIA', 'B001TH7GUA', 'B00BOHNYTW', 'B001Q3MA80']\n",
      "A1JUBRIZMO0RJV ['B002TMRZOQ', 'B004ELA0SS', 'B0081FLFQE', 'B008LCYIEI', 'B001D8S9E2']\n",
      "A1PL7QILVQV3IF ['B001A4LVYY', 'B0055MBQOW', 'B00COHALOM', 'B003CHOGCQ', 'B000JO1IPI']\n",
      "A23QII83UGZP5U ['B004ELA0SS', 'B008F4NL04', 'B008OEHPKM', 'B005GVAWXS', 'B008RVJJZG']\n",
      "A2IIAQ7VVAHXTD ['B00316263Y', 'B007I5JT4S', 'B000AJIF4E', 'B000U5TUWE', 'B000P1R9QM']\n",
      "A1M7HP5CHDXXOU ['B003ES5ZUU', 'B008ALA6DW', 'B00DB9WCR6', 'B00829THH8', 'B0012WXFO8']\n",
      "A1TR1R2QKWRSRA ['B004RORMF6', 'B004CLYEFK', 'B00829THEG', 'B0030MIU16', 'B009X01C64']\n",
      "ADZF3QDGSZE7K ['B0000BZL1P', 'B002NO7PWC', 'B000NP3DJW', 'B00D6XW62I', 'B00139W0XM']\n",
      "A3TNM3C9ENUCFW ['B00DR6DQZA', 'B007PTCFFW', 'B00884WH74', 'B005PUZOYM', 'B004L9LT2E']\n",
      "A2JE071UW97J2A ['B00BW6KCTU', 'B004UTQRHW', 'B00BOHNYTW', 'B000SMVQK8', 'B004MF11MU']\n",
      "A1XEQGYY1IL8CD ['B004TJ6JH6', 'B003G49V70', 'B004WBR8C6', 'B005LTH7QA', 'B0000AG92Z']\n",
      "A3MUSWDCTZINQZ ['B0057UUB1G', 'B009YQ8BTI', 'B008ULPA2O', 'B004LB4MZS', 'B0079UAT0A']\n",
      "A1F0KPA232MTYC ['B0052SCU8U', 'B002V8C3W2', 'B000CRFOMK', 'B007I5JT4S', 'B0002LEMWE']\n",
      "A3FEGTOLCWXSV4 ['B001TH7T2U', 'B003ES5ZUU', 'B004CLYEDC', 'B0081FLFQE', 'B001OOZ1X2']\n",
      "A2KOV8XWZOZ0FQ ['B000N99BBC', 'B007P71IM0', 'B00A0JUNWQ', 'B0040702HA', 'B005E8MVV4']\n",
      "A3R19YKNL641X3 ['B00BERGFV6', 'B006W8U2MU', 'B00EU9V3VW', 'B00HR7FWUC', 'B00EDCF0MY']\n",
      "AEWYUPCNDV7HY ['B002TLTE6Y', 'B000JE7GPY', 'B004SBBD1C', 'B001U7YKVM', 'B004CLYEDC']\n",
      "A1143YEAZYMYHJ ['B001FA1NZK', 'B003FVJYF8', 'B00BW6LW7G', 'B000CSOXTO', 'B001PIBE8I']\n",
      "AIBRTGBN07D6A ['B0002L5R78', 'B001C271MA', 'B00COF7DGS', 'B000FJD5IA', 'B00011G5FW']\n",
      "A1RPTVW5VEOSI ['B003ES5ZUU', 'B00IX2VGFA', 'B00004SB92', 'B005FYNSPK', 'B005LJQMCK']\n",
      "A3N4I2KRSMACW8 ['B00CBQNB7K', 'B001W6NU9Y', 'B00A2T6X0K', 'B001BX6HCU', 'B00E19RFFO']\n",
      "A2K6CDQ9HZ359G ['B003LSTD38', 'B0029N3U8K', 'B0062EUE54', 'B008ZGKWQI', 'B001NJ3H0C']\n",
      "A2POXR5VS3PHKR ['B0009XHOBG', 'B008ZGKWQI', 'B000A3WS20', 'B001TKE25E', 'B000NDA5E0']\n",
      "A2HPJKM7L4EOQB ['B00E055H5O', 'B000EMWBV0', 'B000EBK3FW', 'B00005UKBD']\n",
      "A3AVJCB1ZD6ZY5 ['B00829THVO', 'B002Z2QDNE', 'B004L9M4C8', 'B005LIDN00', 'B007YXA5TC']\n",
      "A2MSBIA18RXYQC ['B001EUG3II', 'B002U0KE8Q', 'B00BFDHVAS', 'B00EPCN9O8', 'B00DBV28TG']\n",
      "A2L9OPJAAEK08Q ['B009F7IBZK', 'B002WE6D44', 'B004GUT1QO', 'B0002IOIMQ', 'B0002VO7HO']\n",
      "A253IOATGMT2UP ['B003ES5ZUU', 'B001TH7GSW', 'B0048IW030', 'B001TZUS98', 'B0015DYMVO']\n",
      "AWJWCKB92RJX2 ['B00005Q5U5', 'B00486UR2I', 'B004RLOPE0', 'B000PDR27G', 'B000BP8AY2']\n",
      "A24P4E3RJ6AX94 ['B000S5Q9CA', 'B002V88HFE', 'B000067RT6', 'B00E3W15P0', 'B00GTGETFG']\n",
      "A2F2GLVFRNV7JJ ['B002V8C3W2', 'B000XZCIX4', 'B00009R94Q', 'B004MSMCSO', 'B005WXLA8G']\n",
      "A2GMZZ6TDYOHY7 ['B00155RGYM', 'B000CRFOMK', 'B006QB1RPY', 'B007NZGPAY', 'B003M0NURK']\n",
      "A2GYV87WW0DMSN ['B003ES5ZUU', 'B00005T3G0', 'B006IC3GHS', 'B000083KIH', 'B005C31H34']\n",
      "AOJA1LC8PN7K1 ['B001IEZX3G', 'B00030DEQE', 'B000067SG2', 'B00884WH74', 'B0001GNJWY']\n",
      "ASCBJEPXTOU0V ['B000QUUFRW', 'B001TH7GUU', 'B003ES5ZR8', 'B001RQ2YF0', 'B00212NO6W']\n",
      "AI0BCEWRE04G0 ['B005FYNSPK', 'B0007A1IRC', 'B0065DUJ0C', 'B001DL9WDG', 'B005F77Z9C']\n",
      "A28RSMADFCBJDT ['B0000BZL1P', 'B000M2TAN4', 'B000ETVKHE', 'B00007E7JU', 'B0011NVMO8']\n",
      "A2FRKEXDXDN1KI ['B002ZIMEMW', 'B008LTBITY', 'B00CRJWW2G', 'B000RZQZM0', 'B007ABIY4Q']\n",
      "A3BY5KCNQZXV5U ['B003VAHYNC', 'B003XM1WE0', 'B003XM73P2', 'B0071BTJPI', 'B004EGI3CI']\n",
      "A3W4D8XOGLWUN5 ['B00BOHNYTW', 'B00DQKQ7U8', 'B0009K9FZW', 'B00008W2LC', 'B000BONJXU']\n",
      "AOVTLYTHVDNUX ['B00IX2VGFA', 'B007DL79FS', 'B00GJYJFKM', 'B002UUTCNE', 'B00A81ICCE']\n",
      "A3DGJMO6VPG6FJ ['B000N99BBC', 'B002K42W50', 'B00009R6TA', 'B001CHTJ8O', 'B000JLK5NW']\n",
      "AE88D7OM7YU99 ['B00FR6VL50', 'B001342KM8', 'B004CLYEH8', 'B003WUBIZQ', 'B006WAPM78']\n",
      "A105S56ODHGJEK ['B000QWEN5K', 'B0045XV2CI', 'B00B3329WA', 'B00829TIEK', 'B006C248BC']\n",
      "A3QD59N3M7O7KB ['B000N99BBC', 'B00EXK1L38', 'B008V9RW58', 'B0007CZ70Y', 'B001JTQUYG']\n",
      "ABXANRX4GPYRZ ['B000TXZIDM', 'B001G7PIDA', 'B007P4VOWC', 'B005CWIRPG', 'B0014CIBWC']\n",
      "A2Y4H3PXB07WQI ['B003ES5ZUU', 'B000R5LWRI', 'B000CRFOMK', 'B005Y8BYOE', 'B0002IYOKM']\n",
      "A3K91X9X2ARDOK ['B00829THEG', 'B00CALM17C', 'B0015AARJI', 'B00G6IJ5NI', 'B000I1X6PM']\n",
      "A1J5HIF41ENSMZ ['B009D79VH4', 'B005H3I38Q', 'B002XDRWZS', 'B002ZCXJZE', 'B005O88CY4']\n",
      "A2J96FILPQA01 ['B004DP2TC0', 'B008C1JC4O', 'B004BQKQ8A', 'B0052L77QW', 'B00CJLEHPM']\n",
      "A1NAA1R38JSNHV ['B000BQ7GW8', 'B000UHQVOW', 'B001W26TIW', 'B000I1YU5C', 'B005NGKR54']\n",
      "A9Y5O2R4D6EH5 ['B008EQZ25K', 'B000N99BBC', 'B001TUYTZM', 'B00C20KWP4', 'B00B588HY2']\n",
      "A1OES7R7FDAT2L ['B001PI9AAC', 'B0002L5R78', 'B002VKVZ1A', 'B002NU5O9C', 'B000MGG6SC']\n",
      "A2GOHNFBHUU3UI ['B00CD8ADKO', 'B00D6XW62I', 'B007PRHNHO', 'B005O88CY4', 'B002P3KH80']\n",
      "A21Q9JVG4SII51 ['B00E98O7GC', 'B009SYZ8OC', 'B005FYNSPK', 'B004LSNF04', 'B00028D778']\n",
      "A1MBXP3NZM2BUO ['B002RM08RE', 'B00746YHV6', 'B0019M6GP6', 'B00CD1PTF0', 'B00FNPD1OY']\n",
      "A3Q4TYJVAM4IRM ['B002HWRJBM', 'B00008OE6I', 'B00HG1L334', 'B001XUQPB4', 'B002NEGTSI']\n",
      "A1GBT4UN2RW7XY ['B002V88HFE', 'B0014L4ZKK', 'B007QOX5A0', 'B006K5505E', 'B007I5JT4S']\n",
      "AGILRZOT49R0V ['B003ES5ZUU', 'B000BQ7GW8', 'B000X1TS54', 'B000AM3U2I', 'B00BCGRTFK']\n",
      "AO09RWV40IX78 ['B007PRHNHO', 'B00DQZQPNM', 'B0079KZZKO', 'B00267S7TQ', 'B00DQZQCUI']\n",
      "AXU3VKZE848IY ['B003UH0Z9Q', 'B0034CL2ZI', 'B005TCMW7S', 'B001TANZ0W', 'B002I636YG']\n",
      "A2ULZRSHXS3HL7 ['B008JJLW4M', 'B0000BZL1P', 'B00DVHP478', 'B009I32Y6S', 'B000NIK9V4']\n",
      "ASFP250F22MDZ ['B000PNGM18', 'B00FPKDPZC', 'B005L38VPC', 'B001H8DF0G', 'B001CZFJJO']\n",
      "A2WF58BAWLVI95 ['B003MTTJOY', 'B009SYZ8OC', 'B0015YJOK2', 'B000MWVMRG', 'B0075SUK14']\n",
      "A1PV5T5S4D5NPI ['B004RORMF6', 'B005DVJJWQ', 'B005KOZNBW', 'B0044YU60M', 'B00829THK0']\n",
      "A5QDZEOIMQ4LW ['B00E0HITQ6', 'B00009XVCZ', 'B00CMEN95U', 'B003QKBVYK', 'B005BI5WMW']\n",
      "A28N2AWOVO2PB ['B00E98O7GC', 'B00DTPYQBM', 'B002YOENAS', 'B00GDDV40I', 'B000TKHGL2']\n",
      "A2FZQF0MH29VYN ['B007WTAJTO', 'B004C9P9TM', 'B002HWRJY4', 'B004HHICKC', 'B00829THK0']\n",
      "A1EQ5D5JRSW23K ['B0095F5AFG', 'B004M8ST5Y', 'B00FRMAOIO', 'B0074BW614', 'B0002ZAILY']\n",
      "A1RL1OTV8IJMVD ['B0019EHU8G', 'B00BOHNYU6', 'B005ELBSWO', 'B002HWRJBM', 'B007ILFFS6']\n",
      "AYMD77ITD15PT ['B0011ULQNI', 'B0097BEDOC', 'B001N85NMI', 'B0007MWE28', 'B000IVDTSG']\n",
      "A3SL0HA6422W4M ['B007WTAJTO', 'B007GC4L7S', 'B00B6QXWIY', 'B009QV15DU', 'B0030XNBHS']\n",
      "A3SMD3T0QTN109 ['B008EQZ25K', 'B006EKIQYM', 'B000VX6XL6', 'B009C98NPY', 'B00D3XV3C0']\n",
      "A15T9G38F589KM ['B000M2TAN4', 'B006EKIQYM', 'B00834SJNA', 'B001BTWQDS', 'B003FST9EC']\n",
      "A1GWG5CWLKJ7ET ['B00DQKQ7U8', 'B00A0JUNWQ', 'B00622AG6S', 'B00FZ9SMVU', 'B008AF383S']\n",
      "A3QX0ERX4D03TF ['B002Y6CJJ8', 'B005EJH6Z4', 'B00000J1V5', 'B00B46XUQU', 'B001SEQN3K']\n",
      "AG5WSXI52FPKH ['B001CIREXA', 'B00834SJNA', 'B001FA1NZK', 'B002G1YPH0', 'B0028ACYMC']\n",
      "A1UTM65Y3G9HUL ['B000OGX5AM', 'B009NHAEXE', 'B00CO8TBQ0', 'B0062IPIPQ', 'B00AXZWG8Q']\n",
      "A2YEOR4XJ8N3QE ['B00CKAOJA0', 'B008C1JC4O', 'B0087B6SV4', 'B006DUDWXI', 'B007PTCFFW']\n",
      "A1Y85GQ09Y95JL ['B000CKVOOY', 'B001KB21KA', 'B0009Q4PIS', 'B000RZ8WHG', 'B0013N3T7O']\n",
      "A2SH6A32BE6NEV ['B008EQZ25K', 'B009D79VH4', 'B000CSWCQA', 'B005DKZTMG', 'B003E49GRC']\n",
      "A3S5EXYZDEBF3K ['B00FJWKYYG', 'B003LSTD38', 'B009YT6PPC', 'B001QUA6R0', 'B00BYRPM9M']\n",
      "A1AKW788238PWQ ['B0058UUR6E', 'B0041Q38NU', 'B000JNQSIQ', 'B00413PHDM', 'B000V1JUJU']\n",
      "A1EH2S92FHWZRP ['B000P1O73A', 'B001C20816', 'B000M2GYF6', 'B004XZHY34', 'B005CLPP8E']\n",
      "A2TA40MV2H4O6F ['B00007E89K', 'B002WE0QN8', 'B008AST7R6', 'B0013FRNKG', 'B00009XVCZ']\n",
      "ATMQEI1LKR6VB ['B00829TIA4', 'B0042FZ50O', 'B00CB2F65O', 'B006ZH0JBM', 'B0035J7XG2']\n",
      "A1ZVFCPHCWFV71 ['B0034CL2ZI', 'B002OEBILK', 'B00B3329WA', 'B003OBZRPU', 'B0088CJT4U']\n",
      "AY6A8KPYCE6B0 ['B008EQYRRY', 'B00029U1DK', 'B003LSTD38', 'B00G4UQ6U8', 'B00829THK0']\n",
      "A33HIV8RXRDM88 ['B0000BZL1P', 'B000HDFXU2', 'B0043M668G', 'B000EVSLRO', 'B002WE4HE2']\n",
      "A781ITP3HE2N5 ['B002WE6D44', 'B004I5FL1G', 'B001F7AJKI', 'B000JE7GPY', 'B003CJQ69A']\n",
      "A250AXLRBVYKB4 ['B002V88HFE', 'B001UI2FPE', 'B000OGX5AM', 'B001TH7GSW', 'B003ES5ZUU']\n",
      "AELK0E5DK7LIZ ['B000N99BBC', 'B00BQ4F9ZA', 'B006EKIQYM', 'B00DT04I9W', 'B00COF7DGS']\n",
      "A1NMM0RDRF6R84 ['B0040JHVC2', 'B004HREPCQ', 'B00A7EQQ3O', 'B007K94I2U', 'B000GISUAS']\n",
      "A2HBOG4LVIY15L ['B008JJLW4M', 'B005JN9310', 'B001N9X4CS', 'B004VPLY1E', 'B0014Z3XMC']\n",
      "A3U6J0DLLDEWM2 ['B000067RVL', 'B00829THK0', 'B005HSG31K', 'B0011UK35K', 'B00934CQ56']\n",
      "A2WC9NFLG57W4H ['B0034CL2ZI', 'B00EO302SO', 'B007KZQM9G', 'B0094S35W4', 'B005A0B3FG']\n",
      "A32JCI4AK2JTTG ['B00007IFED', 'B006W8U2MU', 'B002JQNXZC', 'B0010CKE7G', 'B003FGWF04']\n",
      "A1V4A5U5O3TMMD ['B00009XVCZ', 'B003ELVLKU', 'B0031AQ302', 'B00894YWD0', 'B004LEAYXY']\n",
      "A1E1LEVQ9VQNK ['B0082E9K7U', 'B00020S7XK', 'B007VGGFZU', 'B0012GK3MQ', 'B0093AN1OA']\n",
      "A28LUOEY0ECT9G ['B00280KIJ8', 'B002TZBW74', 'B003WJ218U', 'B004MU241C', 'B00068NUOE']\n",
      "A324X7RVDAV3FT ['B0000BZL1P', 'B00005LEN4', 'B004Y1AYAC', 'B001BSQK8Q', 'B001UGNKQE']\n",
      "A2LCE1D0TW2XY0 ['B0033PRWSW', 'B00009R6WO', 'B002NO7PWC', 'B002W2Y8PC', 'B0090I9VVC']\n",
      "A5CDMTW6JKV5G ['B00BOHNYU6', 'B001UEBN42', 'B00BOHNYTW', 'B00829TIA4', 'B009WU5XUG']\n",
      "A1FOSIV4TWZFR7 ['B009ZGK6QS', 'B0096YOQQA', 'B004Q72PEM', 'B003ZBZ64Q', 'B002Q0W816']\n",
      "A185O1MX1RP964 ['B000067RT6', 'B005GGTTZ0', 'B0023Y9EQC', 'B00305N48C', 'B000EIXWPI']\n",
      "A1MQQEM7W77L62 ['B002TLTG9E', 'B009YT6PPC', 'B001ULD4L0', 'B002TPFNXS', 'B00006IW1X']\n",
      "A365PBEOWM7EI7 ['B007WTAJTO', 'B001RNOHDU', 'B0016OEV7C', 'B009NHAF5G', 'B0041Q38NU']\n",
      "ARIDN94LOCQFD ['B000MX48VM', 'B00CM0XHNS', 'B000JE7GPY', 'B000S5Q9CA', 'B00429N18S']\n",
      "A2OBDNQ5ZYU1L8 ['B00DTZYHX4', 'B008DVMRXG', 'B00475K64E', 'B003H05UXM', 'B00175VDY4']\n",
      "A87CILADRIZW0 ['B004S4R5CK', 'B005FYNSPK', 'B009SQQF9C', 'B000Q8UAWY', 'B008TCUXLW']\n",
      "A1TDR7Y90SVCHL ['B001TH7T2U', 'B000MX48VM', 'B000F9YN22', 'B00006JN3G', 'B002RCNX8K']\n",
      "A1ZTR0FR5AW9B4 ['B00009R6VO', 'B000T9251O', 'B00358PRCA', 'B0000AE66S', 'B006UMM15O']\n",
      "A2I5LVVQ7WXEH6 ['B002K9IHGI', 'B0029ZA78O', 'B001E1Y5O6', 'B000I5LACO', 'B004LU1U2M']\n",
      "A3HXGSMCIOZEW8 ['B000QUUFRW', 'B00B7E1D7W', 'B0053OLY9O', 'B0057AVXJA', 'B0097BEF1S']\n",
      "A35C2IVVQR1HTK ['B00007GQLU', 'B003T0EYVE', 'B0012IJYZ6', 'B0010HE2CY', 'B004HW7DZM']\n",
      "A1E3OB6QMBKRYZ ['B000YEMKGY', 'B00180LGX6', 'B000WHSFYY', 'B00EMHVVNM', 'B000EPLPPU']\n",
      "A3BNMHRW2R35LK ['B009OBCAW2', 'B00EO96W2I', 'B004LB4MZS', 'B002I3OZ7G', 'B0076BDBDE']\n",
      "A2NSXY5L42ZUGO ['B001AHALEC', 'B001E1Y5O6', 'B000092TT0', 'B00193U3O0', 'B003MOKUIS']\n",
      "AWPN47SSWK1JV ['B00FZ9SMVU', 'B001DZJVO2', 'B002RM08RE', 'B004N625A0', 'B0036WT3V6']\n",
      "A32HSNCNPRUMTR ['B00CD1PTF0', 'B0041RSPRS', 'B005GB31PE', 'B004C9P9TM', 'B00CTY84KI']\n",
      "A3NG7X4APIV649 ['B00829TIA4', 'B0034CL2ZI', 'B008V9RW58', 'B003BLQHN4', 'B001FA1O18']\n",
      "A30XZK10EZN9V4 ['B003L1ZYZ6', 'B005ES0YYA', 'B008B488DI', 'B000N7VPRW', 'B000XB9GV0']\n",
      "AAW7X3GRD8GY9 ['B00BQ4F9ZA', 'B009NB8WR0', 'B0000VYJRY', 'B002TQYSN8', 'B000EHCYBC']\n",
      "A18FLOC8YQY0P8 ['B0000BZL1P', 'B00009R6K7', 'B00EL93M3S', 'B00D18U63O', 'B00D6ZVNUC']\n",
      "A19RW25Q6206I3 ['B001T9NUJE', 'B002NO7PWC', 'B001WM73P0', 'B000GX31G6', 'B003N2POXK']\n",
      "A3J029KBNG5MNP ['B00D5Q75RC', 'B004CLYEH8', 'B002C1BHIO', 'B00829THK0', 'B00D695GS8']\n",
      "A1YE1IK0JYSIIE ['B002IL8XRQ', 'B00D42AFS8', 'B008HRPF4O', 'B007FELOZO', 'B003Z4TPPO']\n",
      "A1LHMSY3Q46PJS ['B005QBK5V2', 'B00834SJSK', 'B001D7REIK', 'B009T9YUZE', 'B003MB0YDC']\n",
      "AU627A4UGIW6V ['B008MB71IS', 'B0076F3RS4', 'B004LVMCMS', 'B0043VE28S', 'B0073HSH8U']\n",
      "ANTN61S4L7WG9 ['B00BQ4F9ZA', 'B0036Q7MV0', 'B00E87E1OM', 'B00EXK1L38', 'B00CB2F65O']\n",
      "A2V5M5EJPOD2IU ['B000IJY8DS', 'B004CLYEFK', 'B001TH7GSW', 'B00B588HY2', 'B00D5Q75RC']\n",
      "AH3LF9RAD1O2V ['B001TH7GVY', 'B0051XJXJU', 'B0049XGNKK', 'B008ABOJKS', 'B002WPUC5Y']\n",
      "A1BC62X6HZJGZR ['B008EQZ25K', 'B003ES5ZUU', 'B000CRFOMK', 'B003VANO7C', 'B009D79VH4']\n",
      "A2WYF4POBUXL2O ['B004JZI78O', 'B000GHXMO8', 'B0000BZLBA', 'B002JCSV8U', 'B001AO0LLI']\n",
      "A3QQGPI3CTV9SX ['B0000BZL1P', 'B001F51G16', 'B00005LENO', 'B000BY52NK', 'B000WS5VNQ']\n",
      "A3P4T1DKRWTL36 ['B003ZSHKIO', 'B008TT7CXW', 'B004W9BKE0', 'B007SVHFXO', 'B0001MQUOM']\n",
      "A23R3EOZ837242 ['B00834SJSK', 'B00D1GYNT4', 'B00B588HY2', 'B005IHAIKM', 'B0042FZ50O']\n",
      "A2VAD79S4A06DD ['B000N99BBC', 'B00CDIK908', 'B006MPUTBC', 'B008LCYIEI', 'B0079UAT0A']\n",
      "AC6Z7DP1Z5GHD ['B000ABB4HC', 'B002UVNW5W', 'B000KZ70JE', 'B00005LEOH', 'B001KZTSOI']\n",
      "A18L9A64XNGVGU ['B001TH7T2U', 'B008467K1E', 'B00DY7VAL4', 'B00630WKGI', 'B0096TTOHG']\n",
      "A13EQE9EY2ET93 ['B000N99BBC', 'B0002LEMWE', 'B0012WDMNC', 'B00001W0DH', 'B009OZUPUC']\n",
      "A1X3ESYZ79H59E ['B003X7TRWE', 'B007HZLLOK', 'B00829THEG', 'B00IKF2H12', 'B00FF8ZRR8']\n",
      "A1EVV74UQYVKRY ['B002WE6D44', 'B00DK2JQOQ', 'B00HG1L334', 'B004I5FL1G', 'B001TH7GUA']\n",
      "A1YEPFLLH42OU1 ['B0052SCU8U', 'B00CD8ADKO', 'B0034CL2ZI', 'B000O8I474', 'B00632SOD4']\n",
      "A1HFT68GJ42LTM ['B003ES5ZR8', 'B002K9IHGI', 'B0002SQ2P2', 'B004CLYEH8', 'B00C20KWP4']\n",
      "A1PEXTGNF36I1Q ['B000IJY8DS', 'B00139VKU6', 'B008FJJ66C', 'B00C37AZXK', 'B005LJKEXS']\n",
      "A3QRW0UJPKIAX7 ['B007KZQM8W', 'B009JPBPWO', 'B00HC0ZDOE', 'B009WG6JF8', 'B00884WH74']\n",
      "A2TMFC9O3ZCNKE ['B008YRG5JQ', 'B00609B3J2', 'B005DKZTMG', 'B00JDAIMQ2', 'B007BCIJP8']\n",
      "AOEDWQLH2WKKW ['B0007LJHVA', 'B0028N7442', 'B004OOODPG', 'B001S0I1M0', 'B000NO5QVG']\n",
      "AZ8XSDMIX04VJ ['B002V88HFE', 'B000096B01', 'B0047T79M2', 'B000ZD0CV4', 'B00BCGROFU']\n",
      "A1RJKTYC03L0JY ['B008B488DI', 'B000062VUO', 'B003VS9UP4', 'B00CE590Z0', 'B005LFT3GG']\n",
      "A3R1WFO4KIUQXZ ['B001UI2FPE', 'B009NHWVIA', 'B005DIQ2OC', 'B003FVJYF8', 'B005ONMDYE']\n",
      "A3H4S6YO9VNGDZ ['B009NB8WR0', 'B004S4R5CK', 'B00DTPYRKC', 'B005J7YA4G', 'B00BQ8RFAI']\n",
      "A3QDMDSANPYGUX ['B001WM73P0', 'B000V0IE5M', 'B00B728KL6', 'B008AJNF78']\n",
      "A27QXQQOLAMRRR ['B00IF0JAYE', 'B0002YE6EU', 'B000FNBYKW', 'B00GO1UV4E', 'B00829TIEK']\n",
      "A1D9V11QUHXENQ ['B001TH7GUU', 'B000EOMXM0', 'B001F7AHOG', 'B004SBBD1C', 'B000J1H4VI']\n",
      "A21INUA35HX4XQ ['B002AULS7C', 'B009SYZ8OC', 'B00685ZCZY', 'B005K1Y2GC', 'B0009Y7APU']\n",
      "ABE5E8B3J7MKY ['B00429N18S', 'B0019EHU8G', 'B003SQ1JTY', 'B00007FGU7', 'B00483WRZ6']\n",
      "A3O1FVLUD9X1XC ['B0034CL2ZI', 'B001F7AJKI', 'B004QBUL1C', 'B001E0JH5E', 'B0057FRTPW']\n",
      "A2ALRZ0ENQLYY5 ['B00017LSPI', 'B000JE7GPY', 'B00007E7JU', 'B003CVLTCW', 'B001CCAISE']\n",
      "A3TCMJ6GKZJFBQ ['B000M17AVO', 'B0034CL2ZI', 'B000H4CLXS', 'B0013TRZI2', 'B0017HF3XO']\n",
      "A1SB9BNNGKNX2Z ['B000CKVOOY', 'B005E8MVV4', 'B00C87D0XM', 'B0001A3N6C', 'B00HRQB28Y']\n",
      "A3LDFTSXU3UPBO ['B009YZE2A6', 'B003YFE1H6', 'B009SD74H2', 'B009W49ALA', 'B00307F8PW']\n",
      "A3JUHP1E3WUHEA ['B006LW0W5Y', 'B002TLTE6Y', 'B004CLYEDC', 'B00HFRWWAM', 'B00829THO6']\n",
      "A3F3B1JPACN215 ['B000N99BBC', 'B0002MQGRM', 'B009X01C64', 'B000MVBHRW', 'B006VJREFS']\n",
      "A2NU9H8H5MJZSL ['B003ZUIHY8', 'B000083CUA', 'B000CS7U1C', 'B001J8BPYM', 'B000227PLS']\n",
      "A1R76R4E6A8S3B ['B00829TIEK', 'B0034CL2ZI', 'B00CD1PTF0', 'B0043TV8QO', 'B004QK7HI8']\n",
      "AAXAKFQEAQPWC ['B003ES5ZUU', 'B000VDCTCI', 'B005J7YA4G', 'B005NC8BF6', 'B001XURP7W']\n",
      "A2Z9S2RQD542CP ['B001F7AHOG', 'B00E3FHXYO', 9983891212, 'B007BJHETS', 'B007ADFKAK']\n",
      "A16HXVNPU5TCGE ['B002WE6D44', 'B0002Y5WZM', 'B002Y6CJJ8', 'B000YB862E', 'B001NS0OZ4']\n",
      "A2Y3WWPUKIJ59I ['B00829THVO', 'B00829TIEK', 'B003I4FHNA', 'B0088CJT4U', 'B002KEA8OM']\n",
      "AW6A4PPENVZY3 ['B007FGYZFI', 'B001BTCSI6', 'B005LDLP8W', 'B0041MY32Y', 'B000068O16']\n",
      "A1XE3M22N91451 ['B009NHAEXE', 'B001NTFATI', 'B007SZ0E1K', 'B003XP9G6S', 'B002NU5UW8']\n",
      "A1HBEQWSMVQEWJ ['B007WTAJTO', 'B003XM1WE0', 'B009FU8BTI', 'B0075ZZUQ2', 'B0042GFYLI']\n",
      "A3IY316DRNF5F2 ['B002TMRZOQ', 'B003YKG2XM', 'B0011Z2402', 'B0046E47IM', 'B001N0KEWU']\n",
      "AAA0TUKS5VBSA ['B00FJRS5BA', 'B00E0HITQ6', 'B00CRJWW2G', 'B001TUYTZM', 'B0079UAT0A']\n",
      "A7QMQBGJ2TCQG ['B000BYCKU8', 'B000VJX7DW', 'B00005LEN4', 'B001D7REIK', 'B000KKPN5C']\n",
      "A1URXSRV6WDHVY ['B008EQYRRY', 'B009A6CZ30', 'B00GO4GMAI', 'B006ZH0KVG', 'B00829THH8']\n",
      "AGXV8E7XK9J6H ['B0007QKMQY', 'B0001FTVE0', 'B0007Y794O', 'B00009R6TA', 'B000I04WWY']\n",
      "A12ANFNOSMW5VD ['B008F4NL04', 'B001F51G16', 'B00BOHNYU6', 'B00AAU54TW', 'B0081FLFQE']\n",
      "ATFBVUXDIRXT6 ['B00DT04I9W', 'B000HPZ97W', 'B00B588HY2', 'B003WOWB5S', 'B009UDTUNG']\n",
      "A3SOJO7Z7R9WIA ['B000144I30', 'B006TT91TW', 'B008MB6ZX0', 'B000LWJ1ES', 'B007JIBAVE']\n",
      "A31HOWJKEIY037 ['B000FQ2JLW', 'B003M0NURK', 'B007BCIJP8', 'B005F778JO', 'B007NZGPAY']\n",
      "A3BACUOZV1M0WM ['B004RORMF6', 'B009B0MZ8U', 'B000BQ7GW8', 'B0089ZV1WY', 'B00EDIU5IW']\n",
      "A3977M5S0GIG5H ['B000BTL0OA', 'B00000K4KH', 'B003ZUIHY8', 'B000H4CLXS', 'B000Q8UAWY']\n",
      "A3TP31S61PPE3G ['B00IVFDZBC', 'B0048IATQ0', 'B004GUT1QO', 'B009S2CWX4', 'B0079R8KO0']\n",
      "A25WJCAP606YMP ['B006ZT4VA0', 'B004XW2NEW', 'B0006B088W', 'B004GF1PC2', 'B008F537KC']\n",
      "A1FF2PLA84KNAE ['B002BH3Z8E', 'B004YDUZ22', 'B003XKWLSS', 'B005G2HR6W', 'B0086CTL5Y']\n",
      "AGGAQLXPVGM5D ['B00829TIA4', 'B00884WH74', 'B001F0RPGG', 'B001FWKA7A', 'B002RZ3CBU']\n",
      "A110PC8C5Y7MQD ['B005EOWBKE', 'B001UI2FPE', 'B002ZVCGXQ', 'B000EVSLRO', 'B00180LGX6']\n",
      "A33775AIB1A664 ['B000N99BBC', 'B000AY5Y5W', 'B000136P8W', 'B004LSNF04', 'B003A7C9WM']\n",
      "A4GGT6O0GQNV2 ['B007R5YDYA', 'B001TH7GSW', 'B002VPE1Q6', 'B0002GX0ZE', 'B002T45WXU']\n",
      "A1TQZUSOU22E9M ['B00CD8ADKO', 'B00HZWJGS8', 'B0062XB9FE', 'B000KJQ1DG', 'B005C50H2Y']\n",
      "APGQTZZ4ZFPHO ['B006ZT4VA0', 'B002HWRJBM', 'B000M4XMGI', 'B000Q8UAWY', 'B0007DDK7A']\n",
      "A3U029B8Z5WGI2 ['B006TF36TM', 'B000U5TUWE', 'B0054L8MR8', 'B000ZSUQ9M', 'B0032ANC5U']\n",
      "A2PK64OVZA1U8Z ['B000M17AVO', 'B00834SJSK', 'B00EVIBN8U', 'B008DH4XJQ', 'B003UDCPEI']\n",
      "A2L42QEWR77PKZ ['B001MSU1FS', 'B0077V88V8', 'B004I4RBXI', 'B0002YE686', 'B00006JPEA']\n",
      "A3RR2P5IS3DGPR ['B007WTAJTO', 'B0019EHU8G', 'B00BOHNYTW', 'B004CLYEH8', 'B004ZNA3UA']\n",
      "A2UQK3DAZ8NO2T ['B000V5P90K', 'B000NK8EWI', 'B00125MHVM', 'B001XURPR2', 'B000HARTYI']\n",
      "A3VC74TJ06WDDD ['B005CLPP8E', 'B004CRSM4I', 'B0035B4LJM', 'B000CC6I5W', 'B0002EQU6C']\n",
      "A2SPV96SGOEO2 ['B001TH7GUU', 'B000N99BBC', 'B00BOHNYTW', 'B002NEGTTW', 'B00834SJSK']\n",
      "A31BD4RXCON7QO ['B001KELVS0', 'B0015GPMO2', 'B000E5FOYS', 'B0042GFYLI', 'B002LFGH36']\n",
      "A2JWF9IG8PJAOA ['B005LDLP8W', 'B00698WP50', 'B00AIRUOI8', 'B00B8L36A6', 'B005UUSIGS']\n",
      "A26BDXG9KVH7SU ['B009NHWVIA', 'B003M0NURK', 'B00483WRZ6', 'B008MF48J4', 'B008MF3X9K']\n",
      "A3V0YR50F1XSKP ['B00BWF5U0M', 'B0057Q4ADU', 'B004YWIJSA', 'B005ARQV6U', 'B0060GEZ0E']\n",
      "A3FOSLM5G1BO63 ['B0038JECKE', 'B001RR9ZQ0', 'B00DQZQHBW', 'B005AFVHLQ', 'B008X9ZAR8']\n",
      "A2VIYTWXANL343 ['B003ES5ZUU', 'B0034CL2ZI', 'B009F1DYF8', 'B000MDZKUU', 'B000095SB4']\n",
      "A2J0IBS4PFRO2C ['B002TMRZOQ', 'B000932AKQ', 'B00004WCIC', 'B00DKXXEQG', 'B004QD9E54']\n",
      "A1PVJICI412IN4 ['B001QUA6R0', 'B000BTL0OA', 'B000IVDTSG', 'B005ZPEQZA', 'B001ID829O']\n",
      "A2HXEJXEQQTM1D ['B000FQ2JLW', 'B001U3Y6AQ', 'B001TUYTZM', 'B0023Y9EQC', 'B00000J1U8']\n",
      "AI2AOCTC8BQVZ ['B001342KM8', 'B004GWQBWY', 'B006XGCQ2U', 'B005R5MEXE', 'B0013V6RW0']\n",
      "A3BI8BKIHESDNQ ['B000233WJ6', 'B008GVL9YQ', 'B007YUISN0', 'B00005U21H', 'B0009ON12G']\n",
      "AB094YABX21WQ ['B002V88HFE', 'B001TH7GUU', 'B0018M7ZES', 'B0018MB9U4', 'B000067RC4']\n",
      "AHF4I1FSIHABC ['B0002Y5WZM', 'B002ZIMEMW', 'B00109Y2DQ', 'B00004ZC8Y', 'B004AQ95A6']\n",
      "A2ZY49IDE6TY5I ['B009NHWVIA', 'B009YQ8BTI', 'B001F7AHOG', 'B0013FRNKG', 'B009WZRAQQ']\n",
      "AFICF7DKHTQ87 ['B00IVFDZBC', 'B000VDCT3C', 'B000KJQ1DG', 'B000TJV9KW', 'B000Y138EK']\n",
      "A7EU2BWLLCJY2 ['B0082E9K7U', 'B006ZBWV0K', 'B008LCYIEI', 'B00546JKJC', 'B000U92DLA']\n",
      "AHS6PX6H22WW1 ['B001OC6DCW', 'B00FNPD1VW', 'B00009VS6P', 'B004SKBHB4', 'B000BVIBGI']\n",
      "A1QJ10LEINDRWW ['B002OOWC3S', 'B00BMYQTYE', 'B000XA8766', 'B000MUQ3NG', 'B00127Y3SA']\n",
      "A1R19YYR5OR26T ['B003X7TRWE', 'B007BJHETS', 'B008D2POAS', 'B006M76GWG', 'B000NHZSHK']\n",
      "A2NX6MFZP8TM6S ['B007R5YDYA', 'B00065AO0K', 'B001HSOFI2', 'B0016BVKAQ', 'B000AYJDD6']\n",
      "A8WEXFRWX1ZHH ['B001QUA6R0', 'B00FGOTA6K', 'B002SQ9ZX2', 'B0028N6VLE', 'B000HNJ96Q']\n",
      "A4UGMKUSX9XHI ['B002WE4HE2', 'B00D1GYNT4', 'B00AEKEA48', 'B007FGYZFI', 'B00COF7DGS']\n",
      "A3UXW18DP4WSD6 ['B001TH7GUU', 'B003WGJYCY', 'B00609B3J2', 'B0000AZK4G', 'B004M5H660']\n",
      "A2YW6XOID7GV6G ['B003LR7ME6', 'B003RQBKLC', 'B007KCV0RS', 'B0046A8YEO', 'B001CH9YMK']\n",
      "A186697K4XKXQL ['B001BM5XB2', 'B00FJRS5BA', 'B00E87E1OM', 'B00E0HITQ6', 'B001S4OTS6']\n",
      "A386LG0LRWKJZP ['B003OC6LWM', 'B001XURP7W', 'B0041Q38NU', 'B00126U0VA', 'B00814CAS2']\n",
      "A2B7BUH8834Y6M ['B003ES5ZUU', 'B00004XOM3', 'B002AJMHMI', 'B003XDU2Y0', 'B003XIJ3MW']\n",
      "A3HH340REI4J47 ['B001V9KG0I', 'B004Q0PT3I', 'B000O8I474', 'B000BQ7GW8', 'B004286VMW']\n",
      "A1MZL91Z44RN06 ['B004ELA0SS', 'B00829THO6', 'B004YW7WCY', 'B005HMCCNE', 'B000Z9R2QQ']\n",
      "AK3GKIV8DEY8B ['B001542X64', 'B000EMWBV0', 'B002EOUUAK', 'B00004ZCDD', 'B003KPBRRW']\n",
      "AG35JCCQWDRCS ['B000F9YN22', 'B001TH7GUK', 'B000F34FVM', 'B004GF8TIK', 'B00EZSUVHK']\n",
      "A2LF16F0KX9L7P ['B00DT04I9W', 'B00B3PDHBU', 'B00BWX2OU8', 'B009OZUPUC', 'B009AU2JT6']\n",
      "AEIB3UR05OP7A ['B005LFT3GG', 'B00GTGETFG', 'B00AJHDZSI', 'B008LTBINU', 'B001NJ0D0Y']\n",
      "A1W4F91DH3XPB2 ['B0036AWR8E', 'B0023B14TK', 'B000JMJWV2', 'B00A81ICCE', 'B005OB1TU0']\n",
      "A1QLQCJVGCQPP0 ['B0052SCU8U', 'B000067RT6', 'B00AJHDZSI', 'B008OGE8UU', 'B008LTBITY']\n",
      "A3S0EHEIR52HP1 ['B0012Y2LLE', 'B002UBPBTC', 'B0000510T7', 'B00E0EY7Z6', 'B006GHYBGK']\n",
      "A3CP3J7OEGQMD5 ['B0044YPN0A', 'B003LVZO8S', 'B00080G0BK', 'B0032GU1LW', 'B005LUVXWI']\n",
      "A2IT7S59GSASN7 ['B003RRYAXQ', 'B0002ZAILY', 'B00829TIEK', 'B0094CX5M0', 'B00125Y0NU']\n",
      "ABH9D1TEOJ56E ['B00006LV79', 'B00008OE6I', 'B00008I9K8', 'B00006JLOT', 'B00009W5FF']\n",
      "A2DXENZNO2JT4F ['B004ELA0SS', 'B00DSGLM50', 'B008F4NL04', 'B0007KQUP2', 'B007ABIY4Q']\n",
      "A19XPAWSWDRI3B ['B004LWYE4Q', 'B004G6002M', 'B000NOUP0S', 'B0009Y7APU', 'B0057QETGS']\n",
      "A8P6GIIQ6YQV8 ['B008ORT9OY', 'B00DTQ4A6M', 'B005HEEF1Y', 'B0051QHPJM', 'B000UVD8B2']\n",
      "A296QED1MV1V0J ['B006TAP096', 'B00889ST2G', 'B0045KGZOG', 'B00BOZ1Y46', 'B007VGGFZU']\n",
      "A11ED8O95W2103 ['B000EVSLRO', 'B00000DM9W', 'B000065BPC', 'B000H0K8VY', 'B0009IRUKG']\n",
      "ACY9QYNDFLVBI ['B007SZ0E1K', 'B000JMJWV2', 'B0041RSPRS', 'B003MTTJOY', 'B004RFGALC']\n",
      "A13QOK3SKIT9QL ['B000AYJDD6', 'B005FYNSPK', 'B002WE6D44', 'B000I98ZYG', 'B000ID37EA']\n",
      "A1MJMYLRTZ76ZX ['B002V88HFE', 'B0002LEMWE', 'B006U0Z72U', 'B000031KIM', 'B001BXS4LW']\n",
      "A1KKE6VX8VPWZK ['B007ZZ6OW6', 'B001TUYTZM', 'B0015AARJI', 'B005E8MVV4', 'B0016ORQDI']\n",
      "A359MYLPLEOF7N ['B0002E51CQ', 'B00009ZWC8', 'B00CTYEWKO', 'B000OGA81Q', 'B001UE6I0G']\n",
      "A1DTCJV6KOMJOA ['B0055MBQOM', 'B00IVPU7DG', 'B006WHPQCC', 'B004VM1T5S', 'B00DIFIM36']\n",
      "ALUNVOQRXOZIA ['B00004SB92', 'B00007KDVJ', 'B009PK9SA4', 'B00ARSNT7Q', 'B00004Y7TC']\n",
      "A23D13HKTA95WX ['B0000AZK4G', 'B002UVNW5W', 'B00008AWL2', 'B000FBK3QK', 'B0063K4NN6']\n",
      "A2T3S3VTW65VO5 ['B0027AGK3M', 'B00212NO6W', 'B003FVJYF8', 'B0018BQR84', 'B00001ZWXA']\n",
      "ACSX5AIZE3MJ9 ['B00834SJNA', 'B000NONHYY', 'B000BDD56W', 'B00AQDG9CO', 'B00829THK0']\n",
      "A2LTYEYGKBYXRR ['B00ISGCAJM', 'B00H7PBWK8', 'B00BS3NM3A', 'B00D5T3QK4', 'B00GN6PPXW']\n",
      "A2PREU4LOFQRB1 ['B003WUBIZQ', 'B00EOI2SR2', 'B0021Y73W6', 'B00HC0ZDOE', 'B0063E3ZPO']\n",
      "AT53ZTTO707MB ['B0082E9K7U', 'B00JF0D7RE', 'B00GNGCX6O', 'B00G4V0QSK', 'B004I5FL1G']\n",
      "A12EVK82QUTSA6 ['B003ES5ZUU', 'B002WE6D44', 'B006H06TVG', 'B0079TOG82', 'B003N3GRCQ']\n",
      "AUCIFMWP3DU8R ['B000N99BBC', 'B00CB2F65O', 'B00IUICOHG', 'B000ZJZ7OA', 'B008O515CK']\n",
      "ADPKRJ2BSFJ0I ['B0029N3U8K', 'B0096W1OCG', 'B003SQEAY0', 'B00009R6JT', 'B003Y2YE3A']\n",
      "AGR1V15L6FLMA ['B004S4R5CK', 'B001QUA6R0', 'B009OBCAW2', 'B004N3BH0C', 'B003WOL4VK']\n",
      "ASFW4ZMNZJKDA ['B001TH7GT6', 'B004SBBD8U', 'B00CI3BIWQ', 'B006ZH0JBM', 'B007SHJIO2']\n",
      "A3F8T3BRXRX5P3 ['B003ES5ZUU', 'B002V88HFE', 'B000M17AVO', 'B007WTAJTO', 'B00834SJSK']\n",
      "A4GHPW9AAH1NY ['B005QBK5V2', 'B007VGGFZU', 'B000ZNRBK4', 'B008195P34', 'B00166EUI0']\n",
      "A33SX0AD5PYD9B ['B003ES5ZUU', 'B00DT04I9W', 'B0081FLFQE', 'B00BLCLURI', 'B00B8PRRTI']\n",
      "A4S2WAQVQR6PI ['B0049V0ZX8', 'B002RCNX8K', 'B001F7AJKI', 'B003WOL4VK', 'B000I20AJ6']\n",
      "A2X3L31KCXBHCL ['B001QATRCA', 'B001HSOFI2', 'B008ULPAT2', 'B007PTCFFW', 'B000J47W12']\n",
      "A2IXK5LB4Y0NYV ['B005ES0YYA', 'B008DVMRXG', 'B00F0DD0I6', 'B00422KZQG', 'B0098PRKA6']\n",
      "A11P105WVK5240 ['B005ONMDYE', 'B005L38VPC', 'B000NONHYY', 'B00005Y3V6', 'B002JH3TW8']\n",
      "A30J7WQV0ZNRXG ['B001TZWNF0', 'B00COEBCXY', 'B00G4V0QSK', 'B007PJ4PKK', 'B0072B5E4M']\n",
      "A2XJMQ2COPGWJH ['B0000X0VCY', 'B00005NIMJ', 'B0009Y7APU', 'B0015AFWD4', 'B002EUCU3O']\n",
      "AOQLV2LSI9B2W ['B001TZWNF0', 'B003TFEHMU', 'B002I529AY', 'B001UDJURU', 'B002S3YL3Y']\n",
      "A2PB325LKXYDOL ['B003YNQ6MG', 'B000Q85WRC', 'B00109Y2DQ', 'B00H09BOXQ', 'B008U69LC4']\n",
      "A14I1F2H7NOYDC ['B003ZW316U', 'B0007V5X4U', 'B006ZH0LW4', 'B002ZRQ3PW', 'B000T93UR2']\n",
      "A54SG05AV6S4H ['B001UGMTKC', 'B000ANGNN0', 'B00009MK5M', 'B003LL1EM8', 'B0017JY5FE']\n",
      "A3OIMUR42XIOFQ ['B001QTXL82', 'B004CLYEDC', 'B00BWF5U0M', 'B001MSU1HG', 'B00834SJNA']\n",
      "A1A535TCGNMVPI ['B001DJ64D4', 'B0002CPBWI', 'B00EOE4G4E', 'B000T5AQHS', 'B0013IWYHU']\n",
      "A2XPK6XCL0UH1S ['B005UA3I72', 'B000L7INLU', 'B002P3KH80', 'B002AEU3EW', 'B00267S7UK']\n",
      "A35OIWPVTGW3UC ['B005KQ0S8S', 'B001TX9P6W', 'B001P5QD2S', 'B0019FJM7W', 'B002QEBMAK']\n",
      "AQNSQW4495SG0 ['B000NP3DJW', 'B00004XOM3', 'B00009XVCZ', 'B00009R6K7', 'B004BFXBXI']\n",
      "A2I2KPNJDQ9SL0 ['B00A83I8G2', 'B000QZ001I', 'B007KFLV9W', 'B005LS2J14', 'B0047ZFHBG']\n",
      "A15Q2L6DYRTFIU ['B003M349VS', 'B002SSK9VW', 'B003QVWJM2', 'B0095ZLP3C', 'B00394T7BW']\n",
      "AXR3CV6A4FMBG ['B004CLYE8C', 'B000MUP69I', 'B006ZH0L2E', 'B000EY1LCI', 'B003K1EYM6']\n",
      "A1ZM846Y7AUYD ['B001DJ64D4', 'B0007Y794O', 'B000EOMXM0', 'B00009R6V0', 'B002Q8IHDQ']\n",
      "A34LQ791ACZ0JC ['B000FQ2JLW', 'B000N99BBC', 'B0001Y7UAI', 'B003L62T7W', 'B001O4EPHA']\n",
      "A2ZFBTGPDP6PH6 ['B000QUUFRW', 'B001TH7GUU', 'B0007Y836W', 'B003LPUWT0', 'B000YK1JAG']\n",
      "A313H6238N589 ['B000HPV3RW', 'B007WTAJTO', 'B00BGGDVOO', 'B003YTPP72', 'B004VSTYI6']\n",
      "A2HKUM9OEBQKDW ['B00007IFED', 'B000ID7QNI', 'B003A9LH28', 'B000QZ001I', 'B000BSN4UY']\n",
      "AEL6CQNQXONBX ['B0009RGLSE', 'B0034XRDU0', 'B00DLZOG2E', 'B0016BFZBQ', 'B00K0OBEE2']\n",
      "A1FMU4CJLIDHR9 ['B000J43HJ8', 'B000AP05BO', 'B001IF252M', 'B00153T624']\n",
      "A3NYBI5VMVEEIK ['B000OGX5AM', 'B0002EQU6C', 'B004SUO068', 'B00B7JLZQQ', 'B0043T7FXE']\n",
      "A1XB7JGJ459ERP ['B005DKZTMG', 'B005G3066Y', 'B001AZUTCS', 'B00009R896', 'B006VCP72W']\n",
      "ARTA78TP6H73D ['B005HSDLCO', 'B00001P505', 'B005DKZP6G', 'B001PUQ7PG', 'B00F93IOR4']\n",
      "A2Y739CRM15WDL ['B00119T6NQ', 'B00829THK0', 'B002CNOYRS', 'B0042FZ50O', 'B001JZFQU4']\n",
      "AKSFZ4G1AXYFC ['B000RZQZM0', 'B000FOYMKU', 'B0045JHJSS', 'B000JLG5ZY', 'B005CPGHAA']\n",
      "A1B6O7SAIYG2N0 ['B005KFONIU', 'B002P3KH80', 'B00HNJWSH4', 'B00001W0DI', 'B00BEHRQB4']\n",
      "A3LWC833HQIG7J ['B00829THEG', 'B00CDIK908', 'B002MPPHKY', 'B000OG88KY', 'B0088PU86K']\n",
      "A1QQA7Y92L4F9R ['B002YU83YO', 'B0029F21LA', 'B00005T3H5', 'B000HDJT4S', 'B003LR7ME6']\n",
      "A3VTOLNB5N6FVP ['B0076POAJE', 'B001TK3D4A', 'B000E65DG6', 'B00AXVXXNC', 'B0079TOG82']\n",
      "A3S5WYWYKSAI9C ['B003L1ZYZ6', 'B00CKAOJA0', 'B0058FAYPI', 'B00DTPYQBM', 'B00B99JU5M']\n",
      "A1CMWB7AWQUQH4 ['B001TH7GUU', 'B000V7AF8E', 'B00505EZZ6', 'B006ZT4VA0', 'B0077CR5RK']\n",
      "A3IJ4Z18FTIIP ['B003ES5ZUU', 'B009NB8WR0', 'B00429N18S', 'B0043T34RK', 'B009YC3Y08']\n",
      "A1ITRGMT80D5TK ['B00CD8ADKO', 'B009YQ8BTI', 'B00284ALF0', 'B004SKBJP8', 'B00D856NOG']\n",
      "A35W3JQYP0M655 ['B007PJ4P4G', 'B00G4V0QSK', 'B005EWB396', 'B00F1CRTJM', 'B003QHXZM4']\n",
      "A1ATVMMJZP3Q4X ['B003ZSHNGS', 'B00119T6NQ', 'B001DJ64C0', 'B006UMM2BW', 'B003XQNVXQ']\n",
      "AG0PM9IAHQ06C ['B0025EWXEU', 'B004GZRE1S', 'B001CCLBSA', 'B008TLQ5RY', 'B0050IX30Q']\n",
      "A2SR7S6ZJJDGNB ['B007P4VOWC', 'B00D02AHEO', 'B007YUISN0', 'B00CO2D4G4', 'B00AASPQLU']\n",
      "A33152QEGO2MZN ['B002WE6D44', 'B000WKW69Q', 'B004AZ38Z0', 'B0038L495U', 'B004VTAVLE']\n",
      "A2U3OEIK1CUPIK ['B009SK57HY', 'B005ESY8VA', 'B0027CTQC2', 'B009IZ82DA', 'B000W2MW7U']\n",
      "ALQ4USPEQ9L5N ['B009YQ8BTI', 'B0079UAT0A', 'B00IVPU7DG', 'B00BEHQKPC', 'B00DQZQHBW']\n",
      "A3R1GJY2MY8041 ['B000QUUFRW', 'B0019X20R8', 'B0056TYRMW', 'B0000511U7', 'B000GHD73Y']\n",
      "A38C12950IM24P ['B0074FGLUM', 'B00DK2JQOQ', 'B0071NWYP8', 'B004HHICKC', 'B0074BW614']\n",
      "A29KJ32G75L7G9 ['B000JMJWV2', 'B005ARQV6U', 'B00B99JU5M', 'B0013RTHEO', 'B00834SJNA']\n",
      "A24ARANWS5E3T8 ['B0016BFZBQ', 'B002W3IXZW', 'B0011000R6', 'B006EWUO22', 'B00305N47S']\n",
      "A3GVXKCTFN3YDN ['B0038SQQ0Y', 'B00BOHNYTW', 'B00BOHNYU6', 'B000Q8UAWY', 'B00CB2F65O']\n",
      "ANEDXRFDZDL18 ['B00A0JUNYY', 'B0012WXFPM', 'B008MF48J4', 'B0086SDU3M', 'B007BYLO4E']\n",
      "ARW8VGT10JG60 ['B0002Y5WZM', 'B0040JHVC2', 'B002KETE24', 'B00336EHAM', 'B000P0O12I']\n",
      "A2SGAJWXG65464 ['B003ZUIHY8', 'B008LTBITY', 'B00C94GTJQ', 'B005U0M9B8', 'B00B2166BS']\n",
      "A3E9O1VNJ3U324 ['B0002L5R78', 'B00452YFZU', 'B0064DEI50', 'B001EPVOQY', 'B001U8VL9K']\n",
      "A2LFWJ8X817QGX ['B001QUA6RA', 'B002WE4HE2', 'B004QJ9JLW', 'B00EN27SHY', 'B006QB1RPY']\n",
      "A2OTQMC69J8MUI ['B000M2TAN4', 'B005LFT3GG', 'B001QUA6R0', 'B009D79VH4', 'B007BJHETS']\n",
      "AYLLSFYS3UP1H ['B003NR57BY', 'B002HWRJBC', 'B007FH1KAU', 'B008MH1JRQ', 'B00746W3HG']\n",
      "A23ZXHFLC6TBLD ['B000HPV3RW', 'B004IZN3K2', 'B009D79VH4', 'B0063K4NN6', 'B007WTAJTO']\n",
      "A2JCJJNY43QQIV ['B002K9IHGI', 'B002V8C3W2', 'B0043M668G', 'B002TLTE6O', 'B00310PJM0']\n",
      "ABDR6IJ93HFIO ['B0035J7XG2', 'B004HYGEOQ', 'B006W8U2MU', 'B00BP5MB56', 'B004G6002M']\n",
      "A31HE83MU98GBV ['B003HIXOOG', 'B002OEBIKQ', 'B00DQZP7X6', 'B00CD778LC', 'B009E6J1BU']\n",
      "A15XI2BEGGFEOW ['B009VV56TY', 'B004CLYEDC', 'B00006B9H8', 'B004S5CCP4', 'B00032AVN6']\n",
      "ACJT8MUC0LRF0 ['B00HZWJGS8', 'B0093AN1OA', 'B0036QL1JY', 'B00CM0XHNS', 'B002VPE21A']\n",
      "A2T689YVOAYGGD ['B001GCU0MY', 'B0036Q7MV0', 'B003MVZ60S', 'B001Q3MA80', 'B001L4A76G']\n",
      "A12LH2100CKQO ['B002WE6D44', 'B003VAM32E', 'B000VX6XL6', 'B002M3SOC4', 'B00007IFED']\n",
      "A2VALCFTOWFYXZ ['B005OA24PU', 'B00B46XKKQ', 'B0001UZQWG', 'B00918MEZG', 'B009AEPJ8U']\n",
      "AM3XNQU9TZBD8 ['B002HWRJY4', 'B002L6GEKG', 'B002J9HBIO', 'B005IHAIC0', 'B008C1JC4O']\n",
      "A26KXNN6H1IL0I ['B003L1ZYZ6', 'B008OEHPKM', 'B00BOHNYTW', 'B002QAUN2M', 'B000JMJWV2']\n",
      "A3RGHO0Q938FRS ['B000N99BBC', 'B0007QCT0G', 'B00EOI2SR2', 'B000V1PB2K', 'B009E6J1BU']\n",
      "A1TFDMY4YNTV97 ['B0019EHU8G', 'B000F8XGJO', 'B000Q76LBY', 'B002O11LQA', 'B002KL0VY2']\n",
      "A2V9DTXTQ5YIMK ['B003L1ZYZ6', 'B0079UAT0A', 'B005J31BCY', 'B0074BW614', 'B003FSTAFK']\n",
      "A1KDUQ2HU0WD68 ['B00HVT27B8', 'B00IVFDZBC', 'B00CM0XHNS', 'B0055QZ216', 'B00HRQB28Y']\n",
      "A11IXJ8M1JO296 ['B000A0CV9S', 'B008OHNZI0', 'B001FA1NK0', 'B004PVW1DE', 'B000WXAX6G']\n",
      "A2JAEZ0FMAMJVW ['B00IVFDZBC', 'B005O9YMM4', 'B00BOHNYTW', 'B00829THEG', 'B00F9VROO0']\n",
      "A2L4W1M5YU5QX3 ['B00E9YIFKA', 'B00A9NE84C', 'B00DP3KOOG', 'B007JPVT8G', 'B007Y8DJ22']\n",
      "A274MXTX3DYLUV ['B005NGQWL2', 'B007PFQ0PC', 'B000PI9E4K', 'B00488M4TU', 'B00164822W']\n",
      "A3EFSLEMHNPP6A ['B002K9IHGI', 'B005KAK2FI', 'B0045XV2CI', 'B0050A1O64', 'B0012X5766']\n",
      "A1PI8VBCXXSGC7 ['B00DTZYHX4', 'B004286VMW', 'B00EDCF0MY', 'B0079UAT0A', 'B004SBBD8U']\n",
      "A17NVM7IAPF2NS ['B004Q3R9AQ', 'B00ISIG690', 'B005KG44V0', 'B00B2HCLL6', 'B009E6J1BU']\n",
      "AY4EXFOO43C3S ['B00006B7DA', 'B000QUUFRW', 'B009NB8WR0', 'B004GF8TIK', 'B003Z4G3I6']\n",
      "A1VLE2SH9J8WYS ['B001MSU1FS', 'B0011U65F2', 'B001QBG614', 'B008OHNZI0', 'B005FYNSPK']\n",
      "A17RFKCYS69M3Y ['B000204SWE', 'B0001ML86M', 'B006CQR7CK', 'B0001PFQ7G', 'B000FJ3I5U']\n",
      "A19HT7YC1UW3D6 ['B000O8I474', 'B003ZYF3M8', 'B000051299', 'B003VWYBC2', 'B00009VQJZ']\n",
      "ANEXFROORI6F6 ['B0013LRLUM', 'B0010Z294O', 'B0007XJSQC', 'B000V0IE6G', 'B0011FQUQG']\n",
      "A1UMSB7LAW0RIR ['B0079UAT0A', 'B004275EO4', 'B002SW3MP8', 'B005A2RLXC', 'B000CMS5B2']\n",
      "ARX0KOX5Q01BJ ['B00483WRZ6', 'B0012X43P2', 'B002AH8T3Q', 'B004S50WPG', 'B002FFT8Z6']\n",
      "A10O7THJ2O20AG ['B003FWEQDM', 'B001ID829O', 'B000067RT6', 'B004LSNF04', 'B009NB8WR0']\n",
      "A12O5SEIF162P8 ['B009NHWVIA', 'B0064EL2DK', 'B000A3N6O4', 'B000RZ8WHG', 'B00466X9SY']\n",
      "A2FSOHSM9X13JT ['B0036AWR8E', 'B000HJPK2C', 'B001415FIG', 'B008B14VAK', 'B0002SAE56']\n",
      "ARX7Z3NI6O0F7 ['B008LTBITY', 'B000I1X3W8', 'B0000BZL0G', 'B004SBBD8U', 'B000AZ57M6']\n",
      "A215IN14OKAE2T ['B003SQEAY0', 'B00004Z5PY', 'B00609B3J2', 'B00B588HY2', 'B004HKAIBA']\n",
      "A1VUN4JU731CBH ['B00BF9MUAS', 'B00829THEG', 'B001DBF07I', 'B004GYVPGE', 'B000HI9O5W']\n",
      "A1TY97ZGQT5FGF ['B001IWOBA4', 'B004HW7E2O', 'B000Z3VSOE', 'B0028Y4F4S', 'B003LRY9Q0']\n",
      "A1MFPAM9TTRTXN ['B001CIREXA', 'B000HZGQ9C', 'B0065DUJ0C', 'B001TQ2PSO', 'B0045JCFLY']\n",
      "A6TBR6L2D4XKC ['B00021EE4U', 'B003LZYXYU', 'B001F6TXME', 'B00003CWDK', 'B003A4GZUC']\n",
      "A2SH7OWE8QJYNC ['B000BM8RFM', 'B000WG6XW6', 'B0073HSH8U', 'B000JSFT0Y', 'B000BO0SGG']\n",
      "A1RPJHUVVSI98A ['B007WTAJTO', 'B00007M1TZ', 'B000JE7GPY', 'B001C4BEOY', 'B000FF9WF4']\n",
      "A1B8EJQU73YGL9 ['B0056TYRMW', 'B00001ZWXA', 'B00834SJNA', 'B006H06TVG', 'B001G445Q4']\n",
      "A1BZIM4WGZ6DZP ['B001IEXU68', 'B0035ERKYW', 'B003MVZ60S', 'B001K9BFB8', 'B003HFG6S0']\n",
      "A2HJY7418G1KV1 ['B0093HGD2K', 'B00009R6V0', 'B0040X4PUE', 'B0000C4G79', 'B0014Z3XMC']\n",
      "A291XTI6NO7DEG ['B0002O77T6', 'B0009WKBGC', 'B00065L5TY', 'B00008O35W', 'B00094F67E']\n",
      "A3QAO3QBCQF89T ['B000N99BBC', 'B004RORMF6', 'B001QUA6R0', 'B002YK1FFI', 'B00006RVPW']\n",
      "AVU1ILDDYW301 ['B00G6IJ5NI', 'B002VPE21A', 'B001HSOFI2', 'B009PK2MNY', 'B008V9RW58']\n",
      "AGJRUK27RBVYS ['B009JPBPWO', 'B003M0NT1M', 'B003YKG2UK', 'B009Z7KMUM', 'B00D96BMV8']\n",
      "A3HSDV9Y0TV5Z2 ['B002V88HFE', 'B004RORMF6', 'B000CKVOOY', 'B0047T79M2', 'B004BLIQDC']\n",
      "AYOTEJ617O60K ['B001TH7GUU', 'B003FVJYF8', 'B0074H3IU6', 'B00108UNEY', 'B001LRKB78']\n",
      "AZOK5STV85FBJ ['B00104XCVO', 'B001TH7GUU', 'B00B25P27S', 'B005PQTYHE', 'B00AANMVNQ']\n",
      "A39K52QDP4C3ZS ['B001CIREXA', 'B00484IEJS', 'B000GL3MOY', 'B008U69LC4', 'B0058AH2US']\n",
      "A2IFKH3TJ10387 ['B003ES5ZUU', 'B004Q3R9AQ', 'B004CLYEFK', 'B004CLYEDC', 'B005FE7URM']\n",
      "A1F5O1USOUOOXI ['B000N99BBC', 'B00D5Q75RC', 'B004CLYEDC', 'B004WK3U9W', 'B004CLYEH8']\n",
      "A294BKN913UOGP ['B00005LEN4', 'B001SER460', 'B000144I2Q', 'B007FUDKB4', 'B00FP3OX3C']\n",
      "AFXTKAO0CB354 ['B000Q85WRC', 'B0019X20R8', 'B000FFQ1VM', 'B007SLDF7O', 'B005NEZDUA']\n",
      "A3CIET1UO3G51E ['B008EQZ25K', 'B007M4XML6', 'B008M9U3BM', 'B004HREPCQ', 'B002SXMRTE']\n",
      "A1L0P1ZP5FD6EC ['B008R7EWEI', 'B0053ORUS8', 'B00009UT9B', 'B005003WAA', 'B004ROOCO0']\n",
      "A11LNPG39A2ZV4 ['B00BOHNYU6', 'B0041OSAZ8', 'B0049HAG4U', 'B00E8CF0CE', 'B004J13VW0']\n",
      "A23E9QQHJLNGUI ['B009F7IBZK', 'B00BP5KOPA', 'B00834SJSK', 'B0023APPCI', 'B009PK2MNY']\n",
      "A1PAGHECG401K1 ['B0039BPG4M', 'B0092KRAVQ', 'B001CSPRGQ', 'B003H3A2NM', 'B0097CZHAU']\n",
      "A34CKIMZ969UW7 ['B001S2PPT0', 'B005HKIDF2', 'B001F6TXME', 'B008I646WG', 'B003D5MY5I']\n",
      "A2JKM8KF3296CW ['B003L1ZYZ6', 'B009APBY0G', 'B009NHWVIA', 'B001TOD7ME', 'B003B3P2CE']\n",
      "A2ME89MSWVG9NF ['B0030MITDK', 'B009YT6PPC', 'B0001G6U5M', 'B004CLYJ0K', 'B0056Z0SJM']\n",
      "A2QIC4G483SQQA ['B009O7YUF6', 'B004JQN670', 'B0007TOR08', 'B005E97ZUU', 'B0049PQTLQ']\n",
      "A1ASWDAEDTTY5I ['B000MX48VM', 'B001EPX7N2', 'B000JFJZGG', 'B005X64MN2', 'B0044YU60M']\n",
      "A1OMXVXXP07F05 ['B0046TJG1U', 'B006ZT4VA0', 'B0002LEMWE', 'B0079UAT0A', 'B00768SBAU']\n",
      "A1A306IAZ3TM1 ['B005K7192G', 'B002EUCU3O', 'B001FBL2SW', 'B002BDUAEK', 'B000HZDF8W']\n",
      "A3872Y2XH0YDX1 ['B000Q82PIQ', 'B0088PUEPK', 'B005J4C820', 'B007KEZMX4', 'B0036V9AGU']\n",
      "A3KNGMX2RVQG91 ['B00029U1DK', 'B000QUUFRW', 'B0006I1TRY', 'B004GF8TIK', 'B003I4FHNA']\n",
      "A74UT8IQCM0I2 ['B00DKBU5W4', 'B00CALLZK6', 'B008RVJJZG', 'B007JOO4YS', 'B00D8GOO96']\n",
      "AWSK1ZAEU1KFL ['B002YU83YO', 'B000067RT6', 'B005Y1CYSQ', 'B003AJXUTQ', 'B0039SM0AS']\n",
      "A2FHTXLKY1XJDB ['B003VSTDFG', 'B000UO6C5S', 'B002IJ95ZM', 'B003L76BJS', 'B0002E50MC']\n",
      "A16SRDVPBXN69C ['B00007GQLS', 'B00009XVCZ', 'B001EQ4BVI', 'B000053HC5', 'B008NENG1A']\n",
      "A3OYO7B6SS7QLH ['B000QUUFRW', 'B003ZSHKIO', 'B005BI5WMW', 'B008KP4MQU', 'B002N694A6']\n",
      "A3MQAQT8C6D1I7 ['B001F51G16', 'B00007GQLU', 'B0002XQJFA', 'B000092TT0', 'B000N4Z4JK']\n",
      "A2NYOY6H42SORF ['B002V88HFE', 'B0025VKUQQ', 'B004KZDV8E', 'B0001FV3AK', 'B00CRJVZOM']\n",
      "A17Z0LVY96TO53 ['B004RORMF6', 'B00009XVCZ', 'B007SZ0EOW', 'B0007WK8KS', 'B004Q0T0LU']\n",
      "A1LYMYNURB9EWW ['B001NTBVPA', 'B00EXK1KZW', 'B0014CIBWC', 'B00EXPNFQO', 'B007VL8Y2C']\n",
      "A2ZRMCRLDSUX6R ['B000067RT6', 'B005GOINEK', 'B002GM5GKO', 'B0001VWIR6', 'B004M187ZI']\n",
      "A1VOFY3QFT9WCG ['B007VXJ9IS', 'B006EKIQYM', 'B004LSNF04', 'B001RNACES', 'B0009JZSKO']\n",
      "A2EF8N7ZE7ONWX ['B00834SJNA', 'B0034CL2ZI', 'B001DJ64C0', 'B00HRQB28Y', 'B00AVWKUXE']\n",
      "AX7317G153T8W ['B009YT6PPC', 'B0025VKUQQ', 'B006U1YUW2', 'B005C95NCY', 'B001FA1NK0']\n",
      "A2WPL6Y08K6ZQH ['B001DJ64D4', 'B00316263Y', 'B00AEKEA48', 'B0079UAT0A', 'B00F3F0EIU']\n",
      "A1FXT4VNDA25LY ['B000QUUFRW', 'B000CKVOOY', 'B004AGX4YO', 'B000VDF5RO', 'B0013A1XDY']\n",
      "A1VYFEJM12ZP11 ['B000P1O73A', 'B004CLYEH8', 'B00IF4OATU', 'B00834SJNA', 'B00EVIBN8U']\n",
      "A3EP26M3QHINXT ['B0013FRNKG', 'B00007IFED', 'B00768SBAU', 'B0012S4APK', 'B00EVVGAC6']\n",
      "A1LA4K5JF78BER ['B003DZJQQI', 'B0002XQDSS', 'B00004Z5KA', 'B00B5N7EKK', 'B001UQ6F5M']\n",
      "A1522TN5FVJL0Y ['B003VAHYNC', 'B003FGB8H0', 'B000068UY7', 'B0000658CH', 'B001B99I34']\n",
      "AVBLGXSWRN666 ['B000F7QRTG', 'B000LRMS66', 'B001N9X4CS', 'B001F51G16', 'B001DJ64C0']\n",
      "AS2II0671KT2C ['B0046TJG1U', 'B00722JCMQ', 'B0009Y7APU', 'B004Q0PT3I', 'B0035B4LJM']\n",
      "AR1T36GLLAFFX ['B002NEGTTW', 'B000L9OIQC', 'B001DZFYPW', 'B004H8FNBC', 'B004LB4SAM']\n",
      "A3AZI828WJN1CD ['B0082E9K7U', 'B00834SJSK', 'B005IHAIC0', 'B003ELVLKU', 'B00CZDT30S']\n",
      "A1H0D7635GEEJ1 ['B000CKVOOY', 'B00009R89L', 'B002IKLJVE', 'B0007MWE1E', 'B0000TU7I6']\n",
      "A15TABNGK6L4N3 ['B001N9X4CS', 'B004W2JKWG', 'B00139W0XM', 'B004Z0S6RU', 'B001ISKNKA']\n",
      "A17HMM1M7T9PJ1 ['B002NO7PWC', 'B00DR6DQZA', 'B002ZIMEMW', 'B002TMRZOQ', 'B0010Z28XG']\n",
      "A9ELHLPXF7JKD ['B000BN94F8', 'B000WOIFO2', 'B00829THEG', 'B0031ESKJA', 'B007ABIY4Q']\n",
      "A5GPH59NDWJRB ['B000H6CBA4', 'B000EVLS4C', 'B0011ZCDKS', 'B0002Y5WZM', 'B007OY5V68']\n",
      "A2AX2UGB167J31 ['B004S4R5CK', 'B000FNFSPY', 'B007T0NM2M', 'B0002BEQN4', 'B000N5220I']\n",
      "A145B8OHVNNFAJ ['B003ES5ZUU', 'B0082E9K7U', 'B00G4UQ6U8', 'B00HG1L334', 'B009UNZ5WQ']\n",
      "A2LF07KCXDR70D ['B003ZKG10K', 'B000U62N1S', 'B00006JPDI', 'B0074BW614', 'B00AWKC0JM']\n",
      "ACP9S40H3SHY1 ['B0055N2L22', 'B001DO2XWA', 'B00836JHVQ', 'B007PZALFC', 'B0074WDGAI']\n",
      "A11FX8HL2ANK6T ['B0000BZL1P', 'B002WE6D44', 'B001F7AHOG', 'B003LSTD38', 'B007DL79FS']\n",
      "A5MCDQ60DWUEV ['B0056TYRMW', 'B005UA3I72', 'B001MSU1FS', 'B002WE6D44', 'B0000A1G05']\n",
      "A2NLI1M5K2MQ5E ['B003XCDA9A', 'B004GZRE1S', 'B001G1ZPV6']\n",
      "AMWL7XIWIPXEZ ['B004QBUL1C', 'B007M506WS', 'B001X017G2', 'B002G1YPH0', 'B004FA8NOQ']\n",
      "A2RG1B0K8YBJ4A ['B000N99BBC', 'B002WE4HE2', 'B004AGX4YO', 'B003O1UYHG', 'B000CC6I5W']\n",
      "A27AF4DLLOBQDQ ['B002TLTG9E', 'B009SYZ8OC', 'B0031U1ATG', 'B009NSMS78', 'B003YKG9D0']\n",
      "A2VJ5ALN1BIV3B ['B000M2TAN4', 'B007WTAJTO', 'B00081A2KY', 'B002WE4HE2', 'B000233ZMU']\n",
      "A3D822N1K2IAQD ['B00CD8ADKO', 'B002V88HFE', 'B0081FLFQE', 'B0041OUA38', 'B00E055H5O']\n",
      "A2AEZQ3DGBBLPR ['B00006JU62', 'B000A3WS20', 'B005X64MN2', 'B000056SSM', 'B00005QXWI']\n",
      "AAK6SOEJY30YG ['B0019EHU8G', 'B00081A2KY', 'B003FVVMS0', 'B0036Q7MV0', 'B00669L3HS']\n",
      "A1NGFGBX2VCQS8 ['B002O1S8IE', 'B0088PUEPK', 'B008HO9DIG', 'B00EOI2SYK', 'B009923WIW']\n",
      "AK9BXHEXOOM6Z ['B000IF51UQ', 'B005O81U9S', 'B00000J1UQ', 'B003M0NURK', 'B002DPUUKK']\n",
      "A25HBO5V8S8SEA ['B003ES5ZUU', 'B004CLYEDC', 'B0007VRPZA', 'B0000DK3I4', 'B00005AC8J']\n",
      "AOWF9T81XMX2S ['B003ES5ZR8', 'B00081A2KY', 'B006U3O566', 'B006JINHYS', 'B0002LEMWE']\n",
      "A3DL29NLZ7SXXG ['B00CROTNGO', 'B0072NPFH6', 'B0043L32KC', 'B001IANWCO']\n",
      "AYNAH993VDECT ['B005EOWBKE', 'B0079UAT0A', 'B008LCYIEI', 'B0062IPIPQ', 'B005I6EU48']\n",
      "A1CST2WUA32GP0 ['B005HXFARS', 'B0002MQGOA', 'B005H3I38G', 'B0091VF4FA', 'B009OMYHJU']\n",
      "AAEVGE52KL0DJ ['B008R6OPJQ', 'B007WTAJTO', 'B00EQD5ZS4', 'B004GF8TIK', 'B00009R6K7']\n",
      "A3Q6ZPW60CVF2L ['B0036V9AGU', 'B000UXDHOI', 'B002SAA42Y', 'B0012MI7N2', 'B00DM5EV8C']\n",
      "APMYPD97EHUUZ ['B008EQZ25K', 'B00BQ4F9ZA', 'B00310PJM0', 'B00CO1I29O', 'B00829THK0']\n",
      "A9LNWA25IM2DX ['B005DSPLCQ', 'B0030MIU16', 'B00834SJNA', 'B00829TIEK', 'B0079T724W']\n",
      "A1VRANSQ0WF1YS ['B001CCAISE', 'B002YK1FFI', 'B002N3DIC4', 'B00004ZCJE', 'B005KOZNBW']\n",
      "A3G5MOHY1U635N ['B000BTL0OA', 'B00081NX5U', 'B00829TIA4', 'B000204SWE', 'B000O8WE66']\n",
      "A3IRA0BHI9NE9U ['B0052SCU8U', 'B001QUA6RA', 'B000BQ7GW8', 'B000067SG2', 'B005BGKAGC']\n",
      "A328GLDSDNFYII ['B002WE0QN8', 'B005K7192G', 'B0006U3ACY', 'B000BY52O4', 'B002ZCXJZE']\n",
      "A2LEIANN1UZTHP ['B0017K6BD2', 'B0002Q7VO0', 'B0041Q38NU', 'B004071ZX0', 'B0044DEDC0']\n",
      "A3SVYWA9O1KUQV ['B004HIN7SI', 'B000092YQW', 'B0007WTHLY', 'B000JO3Y1O', 'B00425S1H8']\n",
      "A27H61OHW44XA7 ['B001TH7GSW', 'B000MF4N42', 'B0007Y794O', 'B002VPE1QG', 'B003VAK89O']\n",
      "A3D2VIUT2HWP0Z ['B00005T6GZ', 'B0063E3ZPO', 'B001NTFATI', 'B000UHE8Y2', 'B001GS8FZ2']\n",
      "A2ZGDHLJ85T6AD ['B006EKIQYM', 'B001TH7GVE', 'B009VV56TY', 'B00EU9V3S0', 'B00CRY250U']\n",
      "A15J9K7O10A3M6 ['B007BWTOHU', 'B000QUUFRW', 'B0025VKUQQ', 'B00004Z5CQ', 'B0037ECAQ8']\n",
      "A2ROZACRW31PC2 ['B000N99BBC', 'B008U69LC4', 'B009HP42HQ', 'B004QJ0J84', 'B001P9XHHI']\n",
      "A2V0I904FH7ABY ['B001DJ64D4', 'B002K9IHGI', 'B002TLTE6Y', 'B003L1ZYZ6', 'B0002CPBWI']\n",
      "AM8W6Y3HVXLZT ['B00D6XW62I', 'B0053T4PHC', 'B0016AQ930', 'B000MUXJCO', 'B00EU9V3S0']\n",
      "A1AZQCVCDBQP6 ['B00BQ4F9ZA', 'B003VKTJGW', 'B0057UUB1G', 'B00GODG3X0', 'B00FEE7B1I']\n",
      "A23WPWLYT3P1CZ ['B002MCZJ78', 'B008OHNZI0', 'B003VAM32E', 'B002UVNW5W', 'B001F7AJKI']\n",
      "A16RL0RMRF974O ['B007WTAJTO', 'B005IHAIHA', 'B001A1RMXG', 'B00BEHRQB4', 'B004DBIKOK']\n",
      "A2RGWCT6K2C3EZ ['B005NGKR54', 'B000UXDHOI', 'B003NSC2WU', 'B002W3IXZW', 'B003Y5FRNS']\n",
      "AT2J7H5TRZM8Z ['B00000J4FS', 'B0000635UX', 'B000063CWP', 'B00005KK2Q', 'B00006IS65']\n",
      "A2F4HP0J5VNOYR ['B00889ST2G', 'B002C7481G', 'B00829TIA4', 'B0014YGAN2', 'B000V1VG5G']\n",
      "A3CFU12GS5CZCN ['B007WTAJTO', 'B009NB8WR0', 'B0076HMDQO', 'B009WA115M', 'B00A3MY7L8']\n",
      "A1HYH206E18XVC ['B006EKIQYM', 'B00EO96W2I', 'B000MANFIC', 'B00FZ9SJLS', 'B00DQZQPNM']\n",
      "A2EHYCA29NSQLU ['B0035JJOLE', 'B0001PFQ08', 'B000XY4AD6', 'B0015F1L7A', 'B001AO4MWW']\n",
      "A3CLWR1UUZT6TG ['B005J4C820', 'B000SIFHZM', 'B0057AVXJA', 'B007ZW548E', 'B0036WT4JW']\n",
      "A1REY92IEZJUSX ['B002ZIMEMW', 'B007BXD66E', 'B007FH1KX2', 'B00A35WYBA', 'B005003WAA']\n",
      "ACH055GTTIGC9 ['B002R9CQYK', 'B00FDUHD2K', 'B006K551HQ', 'B002HREI34', 'B00009V6U0']\n",
      "A3IJL9A50KVVZ1 ['B0051PGX2I', 'B001FO4QHI', 'B003LYF5P2', 'B0091PBALS', 'B007X9QIXO']\n",
      "A2HNH4PKE5DPSI ['B0012Y6HC8', 'B003N7NMO8', 'B00ATM1MHO', 'B000WS5VNQ', 'B002RWJHBM']\n",
      "A2E1EFNIZL2FVA ['B00834SJSK', 'B003VAHYNC', 'B004C3AW40', 'B00275XTSQ', 'B005A0B3FG']\n",
      "A1SX9PHJWTDMF9 ['B0016OEV7C', 'B0053T83Y8', 'B0029L4NX8', 'B0055Q9NH0', 'B00004T8R2']\n",
      "A1BVE2ZIBKJ7YI ['B006QB1RPY', 'B0087NZ31S', 'B005HQ50SO', 'B003DX3O6I', 'B0030L3ASU']\n",
      "A2MR696ZU17F12 ['B00006B7DA', 'B004GW25WY', 'B000QJ4ZE2', 'B003CFATT2', 'B000F7JCRA']\n",
      "A1QOK9LU90ACF7 ['B001IEZX3G', 'B000MX48VM', 'B0036Q7MV0', 'B000VJRUKS', 'B0002L5R78']\n",
      "A2J3VCGBNDLAKF ['B00AAIPT76', 'B00005T3G0', 'B005VFG06W', 'B00004WCFT', 'B002SXMRPI']\n",
      "A1C5TCCR2IGKBU ['B001HSOFI2', 'B004OOODOC', 'B00009LI55', 'B0014DURIW', 'B00728ZBA2']\n",
      "AV9PIER7NE448 ['B000HPV3RW', 'B008JJLW4M', 'B00006I5J7', 'B005FYNSPK', 'B008HD3CTI']\n",
      "ATNOI7E8GTIVE ['B002JQNXZC', 'B000MX48VM', 'B000F9YN22', 'B002TLTE6Y', 'B001QATRCA']\n",
      "A2MCRCK1V61FWQ ['B001MSU1HG', 'B0002Y5WZM', 'B004ING996', 'B000OG88NQ', 'B002YTDE5I']\n",
      "A3QRR8PSCBI07C ['B000067SG2', 'B000067RT6', 'B001J8BPYM', 'B000CNBQAS', 'B006DEBYWU']\n",
      "A1G650TTTHEAL5 ['B008TYKEWS', 'B004HHICKC', 'B00AQUMZRA', 'B00IHWOBVC', 'B00FSA8VQ2']\n",
      "AFH97KY1SBP2C ['B000ANCPNM', 'B004R7P28W', 'B007G4O5IG', 'B004H8FNLW', 'B0019D6H2M']\n",
      "A3EQQHWJ1EEYEU ['B00005114Z', 'B002IWP87S', 'B005HXFARS', 'B00C53DHJG', 'B000SMVQK8']\n",
      "A23ONMGKEWDG4M ['B0007U00X0', 'B005BI5WMW', 'B006ZCCH76', 'B000246ST6', 'B001KBZ3QO']\n",
      "A2XHOLOLKGV1FE ['B001D8S9E2', 'B002QAUN2M', 'B003S5SOLG', 'B006ZH0JBM', 'B004YLCLM6']\n",
      "A7UPJYPAH73NC ['B00FJRS5BA', 'B001BM5XB2', 'B005JW6WQU', 'B002K9IHGI', 'B005ELBSWO']\n",
      "A28I5UM0FT3I6T ['B003BLB2T8', 'B00609B3J2', 'B001NJ0D0Y', 'B0055Q88EO', 'B004V4IWKG']\n",
      "A2H4OMJLE7JFM2 ['B00316263Y', 'B002IT1C8U', 'B000CSOXTO', 'B007PNAQ9A', 'B001VLK0RA']\n",
      "A3V6Z4RCDGRC44 ['B001OC6DCW', 'B000M17AVO', 'B0034CL2ZI', 'B000RZQZM0', 'B007PY3ZPG']\n",
      "AGATRDOFW48DK ['B00D5Q75RC', 'B000KZ70JE', 'B0013WM0BQ', 'B000F7JCRA', 'B000TCU1Z8']\n",
      "A1MFVAHTT2BHM0 ['B005NGKR54', 'B000E1FYRO', 'B003NR57BY', 'B00004TWM6', 'B003S3RFIQ']\n",
      "ASJLXOX1VD4DF ['B00E87E1OM', 'B00829THVO', 'B00CAAJDP6', 'B00972M942', 'B00A0JUNYY']\n",
      "A18OTCHQ6MXD6X ['B00119T6NQ', 'B0013P3ZOE', 'B0049XGNKK', 'B003ES5ZSW', 'B00009R72R']\n",
      "A3F7USIDJBR8WU ['B00007EDZG', 'B000ABB4HC', 'B000L47AHG', 'B005CT56F8', 'B004TBBSNY']\n",
      "A2RGA7UGAN3UL7 ['B00CD8ADKO', 'B008JJLW4M', 'B00B332A24', 'B00474YRE0', 'B00FB45SI4']\n",
      "AGEKVD8JPZQMT ['B0090CVJZ4', 'B005FE7URM', 'B00G1PQVPQ', 'B0012QN3AA', 'B001O6LR2Y']\n",
      "A2W0XCWOK3MW6F ['B009YT6PPC', 'B001D8S9E2', 'B00HFRWWAM', 'B003LSTD38', 'B009JZ09PI']\n",
      "AZNUHQSHZHSUE ['B002XVUTPK', 'B004YLCLM6', 'B0013HH1HY', 'B000BP8GQO', 'B000W5RBQE']\n",
      "A2CIQEY05SPHTZ ['B001TANZ0W', 'B002LEVGMO', 'B005X64MN2', 'B00972M942', 'B00884WH74']\n",
      "A16QODENBJVUI1 ['B00BOHNYTW', 'B0002L5R78', 'B001TOD7ME', 'B00829TIA4', 'B0052WPUI8']\n",
      "A3N8O68DOEQ2FE ['B00461E7JE', 'B002WE6D44', 'B00000J1V5', 'B00066FH1U', 'B00555QYWI']\n",
      "A1X2LENOF84LCQ ['B002MPPHKY', 'B002DPUUKK', 'B000Q8UAWY', 'B000FBSREU', 'B00CU2K6MS']\n",
      "A26SO3TOT2TLJE ['B002Y6CJJ8', 'B003VANO7C', 'B00ATM1MHO', 'B0040702HA', 'B00AQUO5RI']\n",
      "A1UL2JH7XOUGM5 ['B0033PRWSW', 'B00894YWD0', 'B001A5NGZU', 'B00004WCGC', 'B008OEHV6U']\n",
      "AQ3IN3MRXQ5KH ['B002VPE21A', 'B004GUT1QO', 'B001O4EPHA', 'B004CLYEH8', 'B002AQ30T0']\n",
      "A1HBI9BBQIG1NH ['B006ZH0L2E', 'B004NY9UUK', 'B0044DEEJC', 'B008ULPD0S', 'B005HY4U5A']\n",
      "A27TN8D0CZ8LUY ['B003Z4G3I6', 'B0000A0AEO', 'B0007NWLXO', 'B0059H60SK', 'B00BGGDVOO']\n",
      "A2YEZ8Z3BW2SKG ['B0000BZL1P', 'B000AZ57M6', 'B004CLYJ0K', 'B0002Y5WZC', 'B00JP12170']\n",
      "A15J71JLC29KPW ['B007YXA5TC', 'B00A66WJWK', 'B005KG44V0', 'B00175VDY4', 'B009X0167Y']\n",
      "A3U5HKDHPYBAK3 ['B00316263Y', 'B000P1O73A', 'B0057UUB1G', 'B00B7JLZQQ', 'B001EQ4C8U']\n",
      "A1RCGK44YXNBBB ['B000FAQ6S0', 'B000E8OVMG', 'B000GBGPAW', 'B001MIB0SU', 'B000CC6I5W']\n",
      "A1S7BFT0HDF3HA ['B006JINHYS', 'B0038KN114', 'B00834SJSK', 'B0028RXMS0', 'B004H3XNB4']\n",
      "AD9ZL63H0VKCZ ['B002ZIMEMW', 'B0074BW614', 'B00004X10B', 'B00DH7WP9W', 'B001UFYFYG']\n",
      "A30ADSBTWCORYC ['B0056KEPVO', 'B0048IW030', 'B003LRY9Q0', 'B0043VE29C', 'B0057LX9H8']\n",
      "ACQYIC13JXAOI ['B005LAIFE2', 'B004UHWZDY', 'B000F1O0X2', 'B005DSPLCQ', 'B000V5P90K']\n",
      "A1987V5OCO6QHS ['B0019EHU8G', 'B00193U3O0', 'B00390JT1O', 'B00BFRKYVM', 'B005H3Q57M']\n",
      "ARC5ASW9CUAGP ['B00E3W15P0', 'B001V9KG0I', 'B005LDLP8W', 'B00483WRZ6', 'B00005T3H5']\n",
      "A3HCMJOGRRSAF2 ['B002YU83YO', 'B002BWOO0W', 'B004J3ZV62', 'B00175VDY4', 'B003GSLU3E']\n",
      "A1L5TA5UQF7EWE ['B001QUA6RA', 'B00A9NE84C', 'B008RGD114', 'B004I4YPB4', 'B008U3038I']\n",
      "A1AQ8JT2A3UWMY ['B000AZ57M6', 'B00B2X0SME', 'B000NP46K2', 'B00004RC2D', 'B000GBN42E']\n",
      "A95PWI4S6WHGL ['B0019EHU8G', 'B007WTAJTO', 'B00APCMMDG', 'B0037NX6JY', 'B0091F8EZ8']\n",
      "A2VH0UT5EQFB6P ['B001TH7GT6', 'B002USAIYS', 'B0014C0IAK', 'B001D8GR00', 'B002VPE1XE']\n",
      "A2X78O6G89CB30 ['B001TH7GUU', 'B002WE6D44', 'B003SQEAY0', 'B005J4C820', 'B001EPVOQY']\n",
      "AVJORH3ACR2A5 ['B001342KM8', 'B00081A2KY', 'B005ESY8VA', 'B00E5UHRIO', 'B003VTZ0D4']\n",
      "A267FU71Z01CIH ['B00ISRUFSY', 'B000NLSGA2', 'B006SVV6HG', 'B0082XN57W', 'B00DQZO0R0']\n",
      "A200DY76VXVGP9 ['B004Q0PT3I', 'B00B4GGW5Q', 'B003LVZO8S', 'B0001FTVDQ', 'B0006TIA0C']\n",
      "A3D6OI36USYOU1 ['B0035ERKYW', 'B000J47W12', 'B000068CNU', 'B005EZTUMU', 'B000086EYG']\n",
      "AMRMK86X3PKXD ['B001P05NBA', 'B007KZQM8W', 'B004CLYEFK', 'B004SNCZ3K', 'B00192KCAG']\n",
      "A3SQCTNYQFVBWM ['B002WE0QN8', 'B004TJ6JH6', 'B000PNGM18', 'B0097252UK', 'B003VJ9RP6']\n",
      "A1H7Y5XKPGT0OS ['B000BQ7GW8', 'B001W28L2Y', 'B003M0NURK', 'B002DUEBIC', 'B0041Q38NU']\n",
      "AHD3NZHDUZ5I6 ['B002WE6D44', 'B002EEP3MK', 'B00B588HY2', 'B005UGZPNQ', 'B003L171KW']\n",
      "A10AFVU66A79Y1 ['B002V88HFE', 'B00E98O7GC', 'B00603RTC8', 'B002HEWA28', 'B004CYE3QC']\n",
      "A2Q204DY2L7YRP ['B0056TYRMW', 'B002IO2UM2', 'B007136AW6', 'B009CQKGSO', 'B005HTP7MK']\n",
      "AL5CUWBFBMWYQ ['B00829TIA4', 'B003CFATT2', 'B001IEZX3G', 'B00AEGFFM8', 'B005L38VPC']\n",
      "A3RMEU4GNP60BM ['B00CDS9HTM', 'B003BQ1D4C', 'B009KG9K74', 'B004SBI2MU']\n",
      "A1TQBAHI3M4ZBQ ['B0002L5R78', 'B000VOU91U', 'B003O1UYHG', 'B005K7192G', 'B00BWF5U0M']\n",
      "AUCISQA1YXX86 ['B001GIPSAW', 'B00006JLOS', 'B000MWVMRG', 'B000HZ48OM', 'B000P8X8R4']\n",
      "A35HUT8MQMT21L ['B002WE6D44', 'B000VX6XL6', 'B002J9HBIO', 'B005LZR0DO', 'B0017I1PVC']\n",
      "A21NS06GDEA3V0 ['B0000X0VCY', 'B0088PUEPK', 'B00005T3N3', 'B009UEAZ84', 'B0036VO70O']\n",
      "A2M14CFAMF8J7I ['B00BOHNYU6', 'B007R9M6PO', 'B008R7EWEI', 'B0071BTJPI', 'B005HMKKH4']\n",
      "A2NPN06SYI5VL3 ['B0068Z8JBS', 'B0089E2FZC', 'B000EUGX70', 'B0078PY0E2', 'B001BAW7P4']\n",
      "A2XA8CW5DF4MNZ ['B000JMJWV2', 'B0039BPG1A', 'B00E9YIFKA', 'B005BCCML2', 'B000GHTGES']\n",
      "A25KKXUQQ0OLWB ['B000RHZJN4', 'B001FA1NZU', 'B00HPM1G8Q', 'B00605XASS', 'B007SYKBL4']\n",
      "A3NXJDNTQK2YJL ['B00316263Y', 'B000N99BBC', 'B00FW6T36Y', 'B003M0NURK', 'B0018O9JIG']\n",
      "A1GYEGLX3P2Y7P ['B00DT04I9W', 'B00829THK0', 'B003XN24GY', 'B000PCF7A6', 'B0042AM7JQ']\n",
      "AN9WA4C5E7YY5 ['B00EPFLJS8', 'B002HK8TE0', 'B002UKSZUU', 'B003MWQ30E', 'B004MG9YYQ']\n",
      "AMZCZBK1EF1PV ['B00DR6DQZA', 'B004CLYEH8', 'B007I5JT4S', 'B001NS0OZ4', 'B00ATM1MGA']\n",
      "A1I96OYAUJ3HQE ['B000GX484U', 'B002SSL920', 'B004ZGA5AA', 'B001UE6N6A', 'B003K1EYM6']\n",
      "A2BUQ240COLAOP ['B005DOK8NW', 'B00194101O', 'B003MTTJOY', 'B007SVHFXO', 'B007SLDF7O']\n",
      "A1DB5QPH7WO488 ['B000N99BBC', 'B0012Y6HC8', 'B00006I53X', 'B002RL875A', 'B009SYZ8OC']\n",
      "A1VQBEW0G4IH1J ['B00IVFDZBC', 'B006K553LU', 'B0031ESKJA', 'B00F3SIQKK', 'B008X9Z8NE']\n",
      "A1AWL9JASMG904 ['B000N99BBC', 'B00634PLTW', 'B0009JR5IM', 'B003SX0P1A', 'B004OVECU0']\n",
      "AKSQNMIKOU01H ['B004Y1AYAC', 'B0019CSVMW', 'B002PWHOYG', 'B002D2VS9U', 'B004QC6VAG']\n",
      "A1EOTB1WHLSW6G ['B000ABB4HC', 'B000JE7GPY', 'B007LGD6HA', 'B005HGBEZ2', 'B001KNP3MQ']\n",
      "A16WP8NTPYB0ZM ['B0092HP3GS', 'B002K9GCU6', 'B006Z0Q2SI', 'B002HMWQE2', 'B002X3VBFK']\n",
      "A3J6Q0Y0SKY7AR ['B0019EHU8G', 'B000CRFOMK', 'B000EI3W8U', 'B007V9SNNY', 'B009SYZ8OC']\n",
      "A33CNFK776MTWR ['B005UA3I72', 'B004W2JKWG', 'B000AY5Y5W', 'B001XURP7W', 'B00000K13L']\n",
      "A3MU9G6YWKTGTA ['B001QUA6R0', 'B004XC6GJ0', 'B00007M1TZ', 'B000092TT0', 'B001UADEPC']\n",
      "A2YYHSORXIHZCS ['B000CKVOOY', 'B004FA8NOQ', 'B001X017G2', 'B00CTUIT20', 'B009GF0J2Y']\n",
      "A1J87SYB3JPQWH ['B003TLSXMO', 'B001QTXKCE', 'B002I3OZ7G', 'B000P0R6KW']\n",
      "A2EN82VBJT44QP ['B00F0DD0I6', 'B00BT7RAPG', 'B005NX7HY6', 'B001XURP7W', 'B004HYFX0C']\n",
      "A3REK3OFONWB1Q ['B000L47AHG', 'B0000BZL5A', 'B00834SJNA', 'B004CLYEH8', 'B002K3Z3DO']\n",
      "A1ZXMMQPYC3Z9I ['B005GC7YJ2', 'B0019I1K0G', 'B00434OWDA', 'B000HE6OAE', 'B00004TVSP']\n",
      "A1IBKN1GXYJ3K4 ['B009CQNPYQ', 'B00829THK0', 'B004TPJKEY', 'B00HPM1FZ0']\n",
      "A31ICLWQ9CSHRS ['B00007GQLS', 'B00009R6WO', 'B000VJX7DW', 'B000I1X3W8', 'B000FBK3QK']\n",
      "A356RFKNIG043B ['B003VAHYNC', 'B0011ZCDKS', 'B005E8MVV4', 'B000O8WE66', 'B000EBBJ6Y']\n",
      "A2BGZ52M908MJY ['B004HO59M4']\n",
      "A361U4SXK7FCQE ['B005KFONIU', 'B00EXK1KZW', 'B0090Z3QG6', 'B0040702HA', 'B00D6PTMHI']\n",
      "A303SNZ4AR7TDQ ['B001CIREXA', 'B007SZ0EHE', 'B005LIDU5S', 'B005869A16', 'B0002SQ2P2']\n",
      "A357B3PUHSVQA ['B008EQYRRY', 'B009F7IBZK', 'B004N625B4', 'B004JMZPJQ', 'B0031RGKVC']\n",
      "APG2BHOAXPNEQ ['B002KO5XVU', 'B009JZ09PI', 'B005GTKY24', 'B0018Z2Q2G', 'B00BHZLHBI']\n",
      "A2DIQTZPF26T1L ['B009NB8WR0', 'B007WTAJTO', 'B00484IEJS', 'B00009WQS1', 'B002TA7VO2']\n",
      "AUITG1DJ3QUGK ['B004CLYEFK', 'B0058UUR6E', 'B008S4TSAI', 'B0065VKQ34', 'B00AQRUW4Q']\n",
      "AP2NZAALUQKF5 ['B001AV5ZHG', 'B004UFHXNI', 'B004T163SY']\n",
      "AX05DBU8IRUWY ['B0082E9K7U', 'B00609B3J2', 'B00IKCQ0EK', 'B00B9KOCYA', 'B003NREDC8']\n",
      "ANSVB7OYSXZSL ['B00CRY250U', 'B0082OJ2VE', 'B002ZFVS9A', 'B002TQ6HT6', 'B005CPBINQ']\n",
      "A2XRIU3SOYZ0ZC ['B000OLDG60', 'B0034CL2ZI', 'B009HQCAPQ', 'B0001F22PA']\n",
      "A3EPJSPH03AS29 ['B000M2GYF6', 'B009F7IBZK', 'B001FVLTNA', 'B000B69WVG', 'B002VPE1XE']\n",
      "AG6TX1ZJHLMO7 ['B00825BZUY', 'B000FJJASO', 'B0095F5AFG', 'B0015VW3BM', 'B005PUZOYM']\n",
      "A3DQWFWINN3V5A ['B00004Z5M1', 'B0009K9FZW', 'B0081H8TRA', 'B001DJ9GOS', 'B000GQXFUK']\n",
      "AEN44U6T9R93 ['B0077EAOSU', 'B000BUEMOO', 'B000EBRLHK', 'B006FKR1PG', 'B006ZP8UOW']\n",
      "A292TRC6DX2GKK ['B0002Z240M', 'B0018QNYSK', 'B0026HSQ3I', 'B0050I6KII', 'B00CFX58YI']\n",
      "A368IPE6EW0GZL ['B005JN9310', 'B002ZIMEMW', 'B005CLPP8E', 'B000BNY64C', 'B00F5NB7MW']\n",
      "A2SZLNSI5KOQJT ['B0046TJG1U', 'B00834SJSK', 'B000UN914I', 'B0016LTZFI', 'B0014KOB6Y']\n",
      "AU2UJF4I7KAWL ['B002VKVZ1A', 'B005CPGHAA', 'B004K8WPUQ', 'B000ENUCR4', 'B004TJ6JH6']\n",
      "A4H4KYSM2KQ85 ['B008OEHPKM', 'B00IVPU786', 'B0009GZAGO', 'B003O2S080', 'B0054L8N7M']\n",
      "A1Q5P5ML3176C0 ['B0007Y794O', 'B001CCAISE', 'B002LITT56', 'B00005N6KG', 'B006XAGB1S']\n",
      "A6XDZ1MJ0B1A2 ['B004XC6GJ0', 'B0034CL2ZI', 'B00871SR68', 'B0044YU60M', 'B002XW44QY']\n",
      "A1Z3598J0371ND ['B000WXSO76', 'B001CBLN7K', 'B000O5N5AI', 'B004OBZ1XM', 'B00E5UE7AA']\n",
      "A2NQMVTQ4PVLL ['B007WTAJTO', 'B0091F8EZ8', 'B000EOPQ7E', 'B000VWPULQ', 'B009SYZ8OC']\n",
      "A2YHXGPCTENZY3 ['B006U1YUW2', 'B000I661J0', 'B002AJMHMI', 'B0002S30RU', 'B00006FDRB']\n",
      "A1VJ0V58N0698J ['B004V4IWHY', 'B00003G1RG', 'B00395YA40', 'B007C1KKW8', 'B002M78JA2']\n",
      "A341HCMGNZCBIT ['B003YGMECE', 'B005DKZTMG', 'B0006TIEZS', 'B000A5TAT2', 'B00B5HE3UU']\n",
      "A9J4UURM4OSDW ['B003ZSHNGS', 'B000KFRSG4', 'B00894YP00', 'B00021EE4U', 'B003QHXZM4']\n",
      "A2UKE7GIVC7XFW ['B003VAM32E', 'B000CS7U1C', 'B005J31BDS', 'B005YQY5TM', 'B0048BPI7C']\n",
      "A1H98YV5K5BUX0 ['B0019EHU8G', 'B00009R6N0', 'B001GCU0MY', 'B0012J52OC', 'B000TXZIDM']\n",
      "AR8LWDT6TUKNZ ['B0056KEPVO', 'B0025EWXEU', 'B003NNS09O', 'B0045TYDNC', 'B003547GRI']\n",
      "A1QRST0A3IQIEF ['B007R67FNA', 'B001X017G2', 'B001KZ6C74', 'B001A5V1K2', 'B004Q81CKY']\n",
      "A2XX2A4OJCDNLZ ['B000BQ7GW8', 'B00005T3G0', 'B00CD0I8EK', 'B003XN24GY', 'B0035ERKYW']\n",
      "A11OTLEDSW8ZXD ['B0041MY32Y', 'B009NHWVIA', 'B0082E9K7U', 'B0011ZCDKS', 'B005I6DU7G']\n",
      "A1DO9LRCO23EOM ['B001NS828K', 'B009Z7KMUM', 'B000V1JUIG', 'B000165AOY', 'B001AH8BGW']\n",
      "A14NA0W8ESGDSI ['B0034CL2ZI', 'B004ELA0SS', 'B001IWOBA4', 'B003VAK16O', 'B000FOYMKU']\n",
      "A362FM6FYA1SYS ['B007SZ0E1K', 'B000UMX7FI', 'B0042X9L6A', 'B0066130AO', 'B001NW57NE']\n",
      "A28525P0S5ZVJ3 ['B005DKZTMG', 'B0049S6ZUS', 'B0049SCB2Y', 'B001954DPI', 'B000FITKK8']\n",
      "A3VONQL7YW8UPM ['B001TH7GUU', 'B008HK50ZA', 'B001K5R38Q', 'B005QBK63Y', 'B001L6OVZM']\n",
      "A1S27P7KJO9I96 ['B001BM5XB2', 'B007KZQM9G', 'B0062XB9FE', 'B009A6CZ30', 'B00622AG6S']\n",
      "A1WUQF5HWBAQJU ['B0082E9K7U', 'B000QUUFRW', 'B00GJYJFKM', 'B005KJH8WO', 'B000MDZKUU']\n",
      "A37PV5GMP2ILJC ['B003JZU8DC', 'B001M5PZXO', 'B001DJ9GOS', 'B003ZSHNCC', 'B000V1MLBE']\n",
      "A2WA8TDCTGUADI ['B002YU83YO', 'B004ELA0SS', 'B000N99BBC', 'B00EH5UGR6', 'B003CFATT2']\n",
      "AUK79PXTAOJP9 ['B0055QYKQO', 'B0018MI5F6', 'B007I5JT4S', 'B004WB8EYM', 'B0096239EC']\n",
      "A28P7V9KI7MXP ['B004VTAVLE', 'B00DJAAFVW', 'B0000AQI9E', 'B007PE3FC4', 'B00111V2Y0']\n",
      "A32AFX2PUJ82HG ['B0052SCU8U', 'B002VJL0OS', 'B000QIZXHG', 'B003TM3EL8', 'B003M2YP6S']\n",
      "A3PJJTAKISAFI9 ['B008OHNZI0', 'B009SYZ8OC', 'B004QVPGXK', 'B001KC08A4', 'B00475K64E']\n",
      "A3S0DBBR693O06 ['B000ID7QNI', 'B0002D6QJO', 'B00004Z5PY', 'B0041Q38NU', 'B001MSU1HG']\n",
      "A57Q87B0TC9IJ ['B004CLYEFK', 'B007PJ4PLO', 'B00002JXFH', 'B008Y1KK6Q']\n",
      "ANXEW7IDYDJEH ['B000S5Q9CA', 'B000EVSLRO', 'B001M4HXB2', 'B008F4NL04', 'B00006JN3G']\n",
      "A2X61KKXXR6WNP ['B005KQ2O26', 'B0081FLFQE', 'B000J43HJ8', 'B000N254LU', 'B000A3XRSO']\n",
      "A2NXRD80LWHUOP ['B001XHBNN2', 'B0011U65F2', 'B001S2RCXW', 'B00691WMJG', 'B0033AF5WW']\n",
      "A3EX8ZFNVDHGPM ['B001UEBN42', 'B00020S7XK', 'B002DSMNES', 'B00BJ8C02I']\n",
      "A3D7BGK0P5QY0X ['B0000511U7', 'B003VAHYNC', 'B000136P8W', 'B003NVMDYY', 'B007F9XHCM']\n",
      "A3JAH5WW61N2EK ['B000BQ7GW8', 'B001EYV9TM', 'B009NXFLWW', 'B00B2166BS', 'B000MUQ3NG']\n",
      "A1XK4VP74IB9TQ ['B0009HN57E', 'B005869A16', 'B001PI9AAC', 'B0002AHT0M', 'B001VO83A8']\n",
      "A51OFQVC6O5YL ['B004W2JKWG', 'B008AF383S', 'B002BH3Z8E', 'B0077QTSQM', 'B008ABOJKS']\n",
      "A1DQHS7MOVYYYA ['B00387EW1K', 'B0042A8CW2', 'B00CALLZK6', 'B000VJRUKS', 'B002R5AM7C']\n",
      "A2ER8G4JJJ7XER ['B005JN9310', 'B000068MP2', 'B00264GMOG', 'B001S0I1M0']\n",
      "A1IU4UAV9QIJAI ['B001MRX3RM', 'B001MA8I1U', 'B006MJZOMW', 'B0073P32X2', 'B007X6FC48']\n",
      "AWZR0O65DL2Q ['B002Q0W82A', 'B006JO1YCY', 'B001CSPRGQ', 'B001CT009O', 'B000BJ3BRO']\n",
      "A37IRE9GZ0CZ7I ['B0014YGAN2', 'B00FG7MZP0', 'B005C6CVAE', 'B001PIBE8I', 'B0097BEFYA']\n",
      "A25TQLMIAPI1T6 ['B00E98O7GC', 'B002BFA91C', 'B004XC6GJ0', 'B000WH6H1M', 'B007KEZMX4']\n",
      "A2L0F2T1DLTNT8 ['B00007GQLS', 'B003LR7ME6', 'B001GIPSAW', 'B0044UHJWY', 'B007PZYBTY']\n",
      "A8X8D4BUY5DFU ['B00081A2KY', 'B0002VAQR4', 'B001E01EYQ', 'B00007M1TZ', 'B0041Q38NU']\n",
      "AW63IRQWH10GF ['B0010Y414Q', 'B008R6OPJQ', 'B002TIELEM', 'B00A9NE84C', 'B000BMZHX2']\n",
      "A32QOZWIKQDNZX ['B000OG88KY', 'B001SJVU24', 'B000WJOF1O', 'B000VPNYSO', 'B0001EMLXE']\n",
      "AW3LX47IHPFRL ['B00BCGRX9M', 'B00400OSA4']\n",
      "A34JKODTSKCGEN ['B000N99BBC', 'B004FA8NOQ', 'B002ZCXJZE', 'B004KZDV8E', 'B0006TIA02']\n",
      "A1HSM98KUGTHNY ['B004LEAYXY', 'B003GTSHY8', 'B0012X43P2', 'B007X0ASZM', 'B000FVGM38']\n",
      "A1D27BCSYV7VWH ['B005INZKKE', 'B005HVPYNU', 'B00AQM8586', 'B000AAN76Y', 'B00BCPGOD4']\n",
      "A1K4G5YJDJQI6Q ['B0049MPQA4', 1400532620, 'B004EUM2LW', 'B000FIB8S0', 'B004H1PCWO']\n",
      "AGLT3L7ALL4O4 ['B003OBUJIK', 'B0019EHU8G', 'B003XM73P2', 'B00BWF5U0M', 'B0012YLTR6']\n",
      "A14Z6D3IRJ23F7 ['B000F34FVM', 'B003CFATT2', 'B007WTAJTO', 'B001A1NM2G', 'B003ZSP0WW']\n",
      "A3LQUEB84IR3VO ['B0046TJG1U', 'B00A83I8G2', 'B005ARQV6U', 'B000EVSLRO', 'B0089ZV1WY']\n",
      "A1Z7SC7HH1BJKA ['B003TOE4PQ', 'B008RJZQSW', 'B003SQ1JTY', 'B00846Z34K', 'B002MAPRYU']\n",
      "A124WZCUIH2T7W ['B0031AQ302', 'B0052SUKUK', 'B003547GRI']\n",
      "A2N3JSOIQ6ZNFL ['B000OGX5AM', 'B006WAGG14', 'B000H9J3ZC', 'B0011U65F2', 'B0028LK6IU']\n",
      "A3SX5MZTCZRQLF ['B007PJ4P4G', 'B0007QKMQY', 'B001S0PWWC', 'B0029EB3OC', 'B00BEHRQB4']\n",
      "A2Z1R98M2XOCEJ ['B005ELBSWO', 'B00C28L138', 'B001FSIT9K', 'B00BQHD4B8', 'B007VL8Y2C']\n",
      "A32O98PFC3OP7K ['B003LSTD38', 'B00AYB3OMG', 'B006K553LU', 'B007ZZ6OW6', 'B003ZSP0WW']\n",
      "AZCE11PSTCH1L ['B000BQ7GW8', 'B002G1YPH0', 'B0074703CM', 'B0039825LM', 'B003UT2E8E']\n",
      "A17V9XL4CWTQ6G ['B003L1ZYZ6', 'B00DK2JQOQ', 'B005NGKR54', 'B0051BG48U', 'B005EJH6Z4']\n",
      "A3PPO2X5PJE1L9 ['B000QUUFRW', 'B00GJYJFKM', 'B00GNGCX6O', 'B00GC1ZMYA']\n",
      "A2O6HZ2B9YSRXR ['B001TH7T2U', 'B002SIMPXM', 'B0041UJVI2', 'B0055Y66A4', 'B005QUQP7G']\n",
      "A3R33KMESG0XGQ ['B00077AA5Q', 'B00387EW1K', 'B000IF51UQ', 'B000065BP9', 'B004M8SSZU']\n",
      "A21GW4L8FO307V ['B0032R6CPK', 'B003VAGXWK', 'B0036E8V08', 'B007Z3T5JC']\n",
      "A1C47ROOK7BSVL ['B0035ERKYW', 'B006EKIQYM', 'B0062K951C', 'B00ATM1MHO', 'B002ZCXJZE']\n",
      "A3G007LQX6KGOD ['B000O8WE66', 'B002MCZJ78', 'B001EPUQAE', 'B003LVZO88', 'B00004X10B']\n",
      "A3HQAPXAJV7PRX ['B003BLQHN4', 'B0079UAT0A', 'B004DF1E9E', 'B0058SRNZ4', 'B008X9Z3UC']\n",
      "A32482Z7XIKDQX ['B009NHAEXE', 'B00483WRZ6', 'B004MF11MU', 'B00A9NE84C', 'B00AQM8586']\n",
      "A1QOIHVQC5XWCJ ['B002Y6CJJ8', 'B00829THK0', 'B001TK89L2', 'B0015L0T68', 'B002J9HBIO']\n",
      "AYCAIHABPYWVJ ['B000P9CEV4', 'B00006I53V', 'B001SEQN3U']\n",
      "A3CMO216CWOF5N ['B00006IS4X', 'B002RWJD98', 'B00ESUOMFW', 'B000J5LA9Q', 'B001GS8G0Q']\n",
      "A1WG97A0EFHYXN ['B000RT77I2', 'B002WLHPNK', 'B0040BPHJO', 'B000U90DD0', 'B003CH7MY0']\n",
      "A20UU20K7M9ZPF ['B009STMN9K', 'B0098PRKA6', 'B003SWLRLS', 'B004I4YOUG', 'B004EKEF0S']\n",
      "A2CL818RN52NWN ['B000IHGJ50', 'B00022PUDI', 'B000J13TEE', 'B0007P4G6M']\n",
      "A2DF62DP20RIXF ['B009Z7KMUM', 'B000MQK6BK', 'B000AY2L3U', 'B0018LX0DY', 'B000HCRVSK']\n",
      "A19RGDJPNZ7NZ ['B0043WJRRS', 'B00E8CF0CE', 'B005M1QP7O', 'B00825BZUY', 'B000FVGM38']\n",
      "A196JN53PG0C7R ['B001C271MA', 'B003ES5ZUU', 'B001F6YRNO', 'B0016LFN2C', 'B0007R4LI8']\n",
      "AHROSV6WJOEGY ['B0010YWPZ8', 'B0007QKMQY', 'B00007E7JU', 'B00006HYP6', 'B00026BQJ6']\n",
      "A3EHJ5519LG7TR ['B005LDLP8W', 'B005058B56', 'B000N4WRFY', 'B000U0S304', 'B002AZ9MQG']\n",
      "A12DLJESJKM1OQ ['B00006JLOT', 'B0007RALGO', 'B0002OD3JY']\n",
      "A33GNK4YENACDJ ['B00D7RA080', 'B000MW3YE0']\n",
      "A32AK8FOAZEPE2 ['B002QEBMAK', 'B0045Y1IMQ', 'B002RM08RE', 'B0057OCDQS', 'B009HK30V0']\n",
      "A1P3DDFL423B3C ['B001RB1XY8', 'B0025ZH43O', 'B0000U19F0', 'B0018CWY3A', 'B000HZDF8W']\n",
      "A2J4XMWKR8PPD0 ['B009LL9VDG', 'B00B8F4CK0', 'B00B7SMR3C', 'B008OIH4DQ', 'B00B2HCLL6']\n",
      "A2UEB48LAWFUCW ['B00EXPNFQO', 'B003LVZO88', 'B00829THK0', 'B003H1DLXC', 'B0017JY5FE']\n",
      "A25RTRAPQAJBDJ ['B004CLYEDC', 'B00BCA41PW', 'B005DKZTNK', 'B00871SR68', 'B00A2T6X0K']\n",
      "A2CWUM49ZWMGEY ['B00005T3G0', 'B0058UUR6E', 'B001M56DI0', 'B005HNG266', 'B005ARQV6U']\n",
      "A3LSEIG2PIJYBL ['B003LPUWT0', 'B003ZUN2PW', 'B0079RY5AI', 'B000OFTRKU', 'B0074024XU']\n",
      "AJL3U764D7NI3 ['B007SZ0E1K', 'B000Q8UAWY', 'B0095VPBM2', 'B003AVN6D4', 'B009HP42HQ']\n",
      "A2C8I2RQ0WG940 ['B002JCSV8U', 'B003OBUJIK', 'B004AM5RB6', 'B007G5NNOW']\n",
      "A2EMUM49CE0JV4 ['B001XURP7W', 'B000NB05MO', 'B004JN55JU', 'B00076FVP6', 'B0006BGV2Y']\n",
      "A2N75ADJSRW0AH ['B000VUIXOO', 'B00634PLTW', 'B002YC3K9A', 'B005N8W16U', 'B003DZ14EU']\n",
      "A38QEATH3NODFM ['B0009RGLSE', 'B00142MUEM', 'B00H4WDVTY', 'B000VPC44O', 'B00142JKSG']\n",
      "A16CVJUQOB6GIB ['B002LVUIS0', 'B000051299']\n",
      "AN2IZT80ZUNJN ['B0029N3U8K', 'B0036NMQ7S']\n",
      "A2XAKGRUHIE2ZA ['B003LL4UR4', 'B0019T0JA2', 'B00G3D4YXW', 'B001F51G1Q', 'B001P05NKG']\n",
      "A22NKFOH9RATRC ['B000VS4HDM', 'B004AM5Z5O', 'B007Y4TUZQ', 'B008GHN0NS', 'B004OF9XGO']\n",
      "A2RTVGR9B1M600 ['B002Y6CJJ8', 'B000PCVIEU', 'B003Z6QH6M', 'B000I20AJ6']\n",
      "A2WDCAMKCCP1UR ['B003ES5ZUU', 'B004S9CT08', 'B005CLMJLU', 'B00DR0PDNE']\n",
      "A3MV1KKHX51FYT ['B00000J3Q7']\n"
     ]
    }
   ],
   "source": [
    "# Print the recommended items for each user\n",
    "for uid, user_ratings in top_n.items():\n",
    "    print(uid, [iid for (iid, _) in user_ratings])"
   ]
  },
  {
   "cell_type": "code",
   "execution_count": null,
   "metadata": {},
   "outputs": [],
   "source": []
  }
 ],
 "metadata": {
  "kernelspec": {
   "display_name": "Python 3",
   "language": "python",
   "name": "python3"
  },
  "language_info": {
   "codemirror_mode": {
    "name": "ipython",
    "version": 3
   },
   "file_extension": ".py",
   "mimetype": "text/x-python",
   "name": "python",
   "nbconvert_exporter": "python",
   "pygments_lexer": "ipython3",
   "version": "3.8.5"
  }
 },
 "nbformat": 4,
 "nbformat_minor": 4
}
